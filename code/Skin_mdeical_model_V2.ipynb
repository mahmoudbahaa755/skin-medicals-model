{
  "cells": [
    {
      "cell_type": "code",
      "execution_count": null,
      "metadata": {
        "id": "MkcIzv9UpgMp"
      },
      "outputs": [],
      "source": [
        "%%capture\n",
        "!pip install opendatasets roboflow\n",
        "\n",
        "import opendatasets as od\n",
        "from roboflow import Roboflow\n"
      ]
    },
    {
      "cell_type": "code",
      "execution_count": null,
      "metadata": {
        "id": "Vp_a5luH0dzu"
      },
      "outputs": [],
      "source": [
        "import shutil\n",
        "import matplotlib.pyplot as plt\n",
        "import numpy as np\n",
        "import tensorflow as tf\n",
        "from tensorflow import keras\n",
        "from tensorflow.keras.preprocessing.image import ImageDataGenerator\n",
        "from tensorflow.keras.applications.vgg16 import  preprocess_input\n",
        "from tensorflow.keras.applications import ResNet50,VGG19\n",
        "from tensorflow.keras import layers as L\n",
        "from tensorflow.keras.layers.experimental import preprocessing\n",
        "from tensorflow.keras.models import Sequential\n",
        "import os\n",
        "if os.path.exists('/content/sample_data'):\n",
        "  shutil.rmtree('/content/sample_data')\n",
        "\n",
        "\n",
        "DATA_DIR='/content/drive/MyDrive/CollectData'\n"
      ]
    },
    {
      "cell_type": "code",
      "execution_count": null,
      "metadata": {
        "id": "7_-m2OwCxzF6",
        "colab": {
          "base_uri": "https://localhost:8080/"
        },
        "outputId": "c1f575f0-87fa-4ed0-86a1-56852c1eb6a6"
      },
      "outputs": [
        {
          "output_type": "stream",
          "name": "stdout",
          "text": [
            "Drive already mounted at /content/drive; to attempt to forcibly remount, call drive.mount(\"/content/drive\", force_remount=True).\n"
          ]
        }
      ],
      "source": [
        "from google.colab import drive\n",
        "drive.mount('/content/drive')"
      ]
    },
    {
      "cell_type": "markdown",
      "metadata": {
        "id": "v2wybCM6qfI-"
      },
      "source": [
        "ance <br>\n",
        "psoriasis <br>\n",
        "eczema <br>\n",
        "healthy skin <br>"
      ]
    },
    {
      "cell_type": "markdown",
      "metadata": {
        "id": "pyuwKrC0ynJp"
      },
      "source": [
        "### Downloading Data"
      ]
    },
    {
      "cell_type": "code",
      "execution_count": null,
      "metadata": {
        "colab": {
          "base_uri": "https://localhost:8080/"
        },
        "id": "M1-nQVAvp8oT",
        "outputId": "37126b27-52f8-4e14-a1c3-4e45bb2f0149"
      },
      "outputs": [
        {
          "output_type": "stream",
          "name": "stdout",
          "text": [
            "loading Roboflow workspace...\n",
            "loading Roboflow project...\n"
          ]
        },
        {
          "output_type": "stream",
          "name": "stderr",
          "text": [
            "Downloading Dataset Version Zip in skin-1 to folder:: 100%|██████████| 8398/8398 [00:00<00:00, 48146.27it/s]"
          ]
        },
        {
          "output_type": "stream",
          "name": "stdout",
          "text": [
            "\n"
          ]
        },
        {
          "output_type": "stream",
          "name": "stderr",
          "text": [
            "\n",
            "Extracting Dataset Version Zip to skin-1 in folder:: 100%|██████████| 1138/1138 [00:00<00:00, 7494.18it/s]"
          ]
        },
        {
          "output_type": "stream",
          "name": "stdout",
          "text": [
            "\rloading Roboflow workspace...\n"
          ]
        },
        {
          "output_type": "stream",
          "name": "stderr",
          "text": [
            "\n"
          ]
        },
        {
          "output_type": "stream",
          "name": "stdout",
          "text": [
            "\rloading Roboflow project...\n"
          ]
        },
        {
          "output_type": "stream",
          "name": "stderr",
          "text": [
            "Downloading Dataset Version Zip in skin-disease-rt2-1 to folder:: 100%|██████████| 46005/46005 [00:04<00:00, 11283.82it/s]"
          ]
        },
        {
          "output_type": "stream",
          "name": "stdout",
          "text": [
            "\n"
          ]
        },
        {
          "output_type": "stream",
          "name": "stderr",
          "text": [
            "\n",
            "Extracting Dataset Version Zip to skin-disease-rt2-1 in folder:: 100%|██████████| 1261/1261 [00:00<00:00, 1876.02it/s]"
          ]
        },
        {
          "output_type": "stream",
          "name": "stdout",
          "text": [
            "\rloading Roboflow workspace...\n"
          ]
        },
        {
          "output_type": "stream",
          "name": "stderr",
          "text": [
            "\n"
          ]
        },
        {
          "output_type": "stream",
          "name": "stdout",
          "text": [
            "\rloading Roboflow project...\n"
          ]
        },
        {
          "output_type": "stream",
          "name": "stderr",
          "text": [
            "Downloading Dataset Version Zip in SKIP-1 to folder:: 100%|██████████| 43360/43360 [00:02<00:00, 15977.24it/s]"
          ]
        },
        {
          "output_type": "stream",
          "name": "stdout",
          "text": [
            "\n"
          ]
        },
        {
          "output_type": "stream",
          "name": "stderr",
          "text": [
            "\n",
            "Extracting Dataset Version Zip to SKIP-1 in folder:: 100%|██████████| 801/801 [00:00<00:00, 1899.48it/s]"
          ]
        },
        {
          "output_type": "stream",
          "name": "stdout",
          "text": [
            "\rloading Roboflow workspace...\n"
          ]
        },
        {
          "output_type": "stream",
          "name": "stderr",
          "text": [
            "\n"
          ]
        },
        {
          "output_type": "stream",
          "name": "stdout",
          "text": [
            "\rloading Roboflow project...\n"
          ]
        },
        {
          "output_type": "stream",
          "name": "stderr",
          "text": [
            "Downloading Dataset Version Zip in Eczema-Disease-Classification-Using-EfficientNet-Architecture-1 to folder:: 100%|██████████| 8772/8772 [00:00<00:00, 10678.02it/s]"
          ]
        },
        {
          "output_type": "stream",
          "name": "stdout",
          "text": [
            "\n"
          ]
        },
        {
          "output_type": "stream",
          "name": "stderr",
          "text": [
            "\n",
            "Extracting Dataset Version Zip to Eczema-Disease-Classification-Using-EfficientNet-Architecture-1 in folder:: 100%|██████████| 1242/1242 [00:00<00:00, 1847.54it/s]\n"
          ]
        }
      ],
      "source": [
        "# !pip install roboflow\n",
        "\n",
        "# from roboflow import Roboflow\n",
        "# rf = Roboflow(api_key=\"aSWzkjnYOEuQEAEEW8D9\")\n",
        "# project = rf.workspace(\"skindisease\").project(\"skin-disease-rt2\")\n",
        "# dataset = project.version(1).download(\"folder\")\n",
        "\n",
        "\n",
        "rf = Roboflow(api_key=\"aSWzkjnYOEuQEAEEW8D9\")\n",
        "def download_dataset(workspace, project):\n",
        "    project = rf.workspace(workspace).project(project)\n",
        "    dataset = project.version(1).download(\"folder\")\n",
        "    return dataset\n",
        "\n",
        "\n",
        "dataset1 = download_dataset(\"classification\", \"skin-kmutr\")\n",
        "dataset2 = download_dataset(\"skindisease\", \"skin-disease-rt2\")\n",
        "dataset3 = download_dataset(\"skip\", \"skip\")\n",
        "dataset4 = download_dataset(\"mini-project-g4im3\", \"eczema-disease-classification-using-efficientnet-architecture\")"
      ]
    },
    {
      "cell_type": "code",
      "execution_count": null,
      "metadata": {
        "colab": {
          "base_uri": "https://localhost:8080/"
        },
        "id": "wjVnHiLapSh0",
        "outputId": "dae4943c-6706-4f33-8272-5fd1859947d3"
      },
      "outputs": [
        {
          "output_type": "stream",
          "name": "stdout",
          "text": [
            "Please provide your Kaggle credentials to download this dataset. Learn more: http://bit.ly/kaggle-creds\n",
            "Your Kaggle username: mahmoudeldebase\n",
            "Your Kaggle Key: ··········\n",
            "Downloading psoriasis-skin-dataset.zip to ./psoriasis-skin-dataset\n"
          ]
        },
        {
          "output_type": "stream",
          "name": "stderr",
          "text": [
            "100%|██████████| 199M/199M [00:02<00:00, 83.4MB/s]\n"
          ]
        },
        {
          "output_type": "stream",
          "name": "stdout",
          "text": [
            "\n"
          ]
        }
      ],
      "source": [
        "od.download(\"https://www.kaggle.com/datasets/pallapurajkumar/psoriasis-skin-dataset?select=PSORIASIS+AND+NORMAL+SKIN\")\n"
      ]
    },
    {
      "cell_type": "code",
      "execution_count": null,
      "metadata": {
        "colab": {
          "base_uri": "https://localhost:8080/"
        },
        "id": "QbtcjhI5IWJN",
        "outputId": "748fcbf6-b934-447d-e6e0-49cb30f6f7dd"
      },
      "outputs": [
        {
          "output_type": "stream",
          "name": "stdout",
          "text": [
            "Please provide your Kaggle credentials to download this dataset. Learn more: http://bit.ly/kaggle-creds\n",
            "Your Kaggle username: mahmoudeldebase\n",
            "Your Kaggle Key: ··········\n",
            "Your Kaggle Key: ··········\n",
            "Your Kaggle Key: ··········\n",
            "Your Kaggle Key: ··········\n",
            "Downloading 25-type-of-skin.zip to ./25-type-of-skin\n"
          ]
        },
        {
          "output_type": "stream",
          "name": "stderr",
          "text": [
            "100%|██████████| 1.50G/1.50G [00:20<00:00, 79.3MB/s]\n"
          ]
        },
        {
          "output_type": "stream",
          "name": "stdout",
          "text": [
            "\n"
          ]
        }
      ],
      "source": [
        "od.download(\"https://www.kaggle.com/datasets/farishamdani/25-type-of-skin/data\")\n",
        "# mahmoudeldebasebcc79a15e7113c8ad8e644b58603164fbcc79a15e7113c8ad8e644b58603164fbcc79a15e7113c8ad8e644b58603164f\n",
        "# bcc79a15e7113c8ad8e644b58603164f"
      ]
    },
    {
      "cell_type": "code",
      "execution_count": null,
      "metadata": {
        "colab": {
          "base_uri": "https://localhost:8080/",
          "height": 36
        },
        "id": "RJzJkI2TczyY",
        "outputId": "d53117af-da8c-46b5-ced5-57f1c7b29c6a"
      },
      "outputs": [
        {
          "data": {
            "application/vnd.google.colaboratory.intrinsic+json": {
              "type": "string"
            },
            "text/plain": [
              "'/content/drive/MyDrive/CollectData/train/Eczema Photos'"
            ]
          },
          "execution_count": 45,
          "metadata": {},
          "output_type": "execute_result"
        }
      ],
      "source": [
        "# shutil.move('/content/25-type-of-skin/1.Training/Acne and Rosacea Photos','/content/drive/MyDrive/CollectData/train')\n",
        "# shutil.move('/content/25-type-of-skin/1.Training/Hair Loss Photos Alopecia and other Hair Diseases','/content/drive/MyDrive/CollectData/train')\n",
        "# shutil.move('/content/25-type-of-skin/1.Training/Psoriasis pictures Lichen Dermatosis and related diseases','/content/drive/MyDrive/CollectData/train')\n",
        "# shutil.move('/content/25-type-of-skin/1.Training/Normal Skin','/content/drive/MyDrive/CollectData/train')\n",
        "# shutil.move('/content/25-type-of-skin/1.Training/Eczema Photos','/content/drive/MyDrive/CollectData/train')\n",
        "\n",
        "# shutil.move()"
      ]
    },
    {
      "cell_type": "code",
      "execution_count": null,
      "metadata": {
        "colab": {
          "base_uri": "https://localhost:8080/"
        },
        "id": "7Aw3N33PeaOw",
        "outputId": "5e4d98e0-e786-4234-8a1c-b194f4178923"
      },
      "outputs": [
        {
          "data": {
            "text/plain": [
              "252"
            ]
          },
          "execution_count": 46,
          "metadata": {},
          "output_type": "execute_result"
        }
      ],
      "source": [
        "len(os.listdir('/content/drive/MyDrive/CollectData/train/Hair Loss Photos Alopecia and other Hair Diseases'))"
      ]
    },
    {
      "cell_type": "code",
      "execution_count": null,
      "metadata": {
        "id": "XU0VCGD2q2NI"
      },
      "outputs": [],
      "source": [
        "for i in os.listdir(DATA_DIR):\n",
        "  if i.endswith('.jpg'):\n",
        "    os.remove(os.path.join(DATA_DIR, i))"
      ]
    },
    {
      "cell_type": "code",
      "execution_count": null,
      "metadata": {
        "colab": {
          "base_uri": "https://localhost:8080/"
        },
        "id": "16X9-Bhdr6C-",
        "outputId": "9b884949-25ab-4429-db08-7644504f0140"
      },
      "outputs": [
        {
          "data": {
            "text/plain": [
              "[]"
            ]
          },
          "execution_count": 53,
          "metadata": {},
          "output_type": "execute_result"
        }
      ],
      "source": [
        "os.listdir('/content/drive/MyDrive/CollectData/train/Hair Loss Photos Alopecia and other Hair Diseases')"
      ]
    },
    {
      "cell_type": "code",
      "execution_count": null,
      "metadata": {
        "id": "-keXAjevqk3H"
      },
      "outputs": [],
      "source": [
        "\n",
        "def combine_folders(src_dir1, src_dir2):\n",
        "    print('len src_dir1 :',len(os.listdir(src_dir1)))\n",
        "    print('len src_dir2 :',len(os.listdir(src_dir2)))\n",
        "    for src_dir in [src_dir1, src_dir2]:\n",
        "        for filename in os.listdir(src_dir):\n",
        "            if filename not in os.listdir(src_dir2):\n",
        "              shutil.move(os.path.join(src_dir, filename), src_dir2)\n",
        "    shutil.rmtree(src_dir1)\n"
      ]
    },
    {
      "cell_type": "code",
      "source": [],
      "metadata": {
        "id": "9FZc3fZwNlEk"
      },
      "execution_count": null,
      "outputs": []
    },
    {
      "cell_type": "code",
      "execution_count": null,
      "metadata": {
        "id": "dj_Ybe4asQtH"
      },
      "outputs": [],
      "source": [
        "combine_folders('/content/drive/MyDrive/CollectData/train/Hair Loss Photos Alopecia and other Hair Diseases'\n",
        "                ,'/content/drive/MyDrive/CollectData/train/scalp infection scrapping'\n",
        "                )"
      ]
    },
    {
      "cell_type": "code",
      "execution_count": null,
      "metadata": {
        "colab": {
          "base_uri": "https://localhost:8080/"
        },
        "id": "IJU_G9OLsRUm",
        "outputId": "f4441256-968d-4e33-8e60-1e384fd717f7"
      },
      "outputs": [
        {
          "name": "stdout",
          "output_type": "stream",
          "text": [
            "len src_dir1 : 0\n",
            "len src_dir2 : 4930\n"
          ]
        }
      ],
      "source": [
        "combine_folders('/content/drive/MyDrive/CollectData/train/Psoriasis pictures Lichen Dermatosis and related diseases',\n",
        "              '/content/drive/MyDrive/CollectData/train/Psoriasis'  )"
      ]
    },
    {
      "cell_type": "code",
      "execution_count": null,
      "metadata": {
        "id": "znDkR1PVseG7"
      },
      "outputs": [],
      "source": [
        "combine_folders('/content/drive/MyDrive/CollectData/train/Normal Skin',\n",
        "              '/content/drive/MyDrive/CollectData/train/Healthy-skin'  )"
      ]
    },
    {
      "cell_type": "code",
      "execution_count": null,
      "metadata": {
        "id": "PCOclBHfsm-e"
      },
      "outputs": [],
      "source": [
        "combine_folders('/content/drive/MyDrive/CollectData/train/Eczema Photos',\n",
        "              '/content/drive/MyDrive/CollectData/train/eczema'  )"
      ]
    },
    {
      "cell_type": "code",
      "execution_count": null,
      "metadata": {
        "id": "k-zR5O52wpZd"
      },
      "outputs": [],
      "source": [
        "if not os.path.exists('/content/CollectData'):\n",
        "  !mkdir CollectData\n",
        "\n"
      ]
    },
    {
      "cell_type": "code",
      "execution_count": null,
      "metadata": {
        "id": "UB6MVGHM0Rvx"
      },
      "outputs": [],
      "source": [
        "\n",
        "def move_files(source_dir, target_dir,copy=False):\n",
        "    files = os.listdir(source_dir)\n",
        "    for file in files:\n",
        "      if copy:\n",
        "        shutil.copy(os.path.join(source_dir, file), target_dir)\n",
        "      else:\n",
        "        shutil.move(os.path.join(source_dir, file), target_dir)"
      ]
    },
    {
      "cell_type": "markdown",
      "metadata": {
        "id": "ms_xvY85yqEA"
      },
      "source": [
        "### Cleaning Data\n"
      ]
    },
    {
      "cell_type": "code",
      "execution_count": null,
      "metadata": {
        "id": "BApgj-fL0R6N"
      },
      "outputs": [],
      "source": [
        "removing_unused_classes=['/content/skin-1/train/skin cancer','/content/skin-1/valid/skin cancer'\n",
        "                          '/content/skin-disease-rt2-1/train/Lichen Planus',\n",
        "                          '/content/skin-disease-rt2-1/train/Lichen Sclerosus',\n",
        "                         '/content/skin-disease-rt2-1/train/Lupus',\n",
        "                         '/content/skin-disease-rt2-1/train/Melanoma',\n",
        "                         '/content/skin-disease-rt2-1/train/Morphea',\n",
        "                         '/content/skin-disease-rt2-1/train/Tinea',\n",
        "                         '/content/skin-disease-rt2-1/train/Vitiligo',\n",
        "                         '/content/skin-disease-rt2-1/train/Vasculitis',\n",
        "                         '/content/skin-disease-rt2-1/train/Tumor Vascular',\n",
        "                         '/content/skin-disease-rt2-1/train/Scabies',\n",
        "                         '/content/skin-disease-rt2-1/train/Sclerosis Tuberous',\n",
        "                         '/content/skin-disease-rt2-1/train/Urticaria',\n",
        "                         '/content/skin-disease-rt2-1/train/Lichen Planus',\n",
        "                         '/content/skin-disease-rt2-1/train/Onychomycosis',\n",
        "                         '/content/skin-disease-rt2-1/train/Phototoxic Reaction',\n",
        "                         '/content/skin-disease-rt2-1/train/Pityriasis Rosea'\n",
        "\n",
        "]\n",
        "for dir in removing_unused_classes:\n",
        "  if os.path.exists(dir):\n",
        "    shutil.rmtree(dir)"
      ]
    },
    {
      "cell_type": "code",
      "source": [
        "tarin_data_dir='/content/drive/MyDrive/CollectData/train'\n",
        "tarin_data=os.listdir('/content/drive/MyDrive/CollectData/train')\n",
        "for i in tarin_data:\n",
        "  if '.jpg' in i:\n",
        "    os.remove(tarin_data_dir+'/'+i)"
      ],
      "metadata": {
        "id": "RSqe1wcJ5SGR"
      },
      "execution_count": null,
      "outputs": []
    },
    {
      "cell_type": "code",
      "source": [
        "tarin_data=os.listdir('/content/drive/MyDrive/CollectData/train')\n",
        "tarin_data"
      ],
      "metadata": {
        "colab": {
          "base_uri": "https://localhost:8080/"
        },
        "id": "pArwB4Io5823",
        "outputId": "d95170d7-add0-49a1-c802-2c3e221c08d7"
      },
      "execution_count": null,
      "outputs": [
        {
          "output_type": "execute_result",
          "data": {
            "text/plain": [
              "['rosacea200', 'skin acne', 'Psoriasis', 'eczema', 'normal skin']"
            ]
          },
          "metadata": {},
          "execution_count": 6
        }
      ]
    },
    {
      "cell_type": "code",
      "execution_count": null,
      "metadata": {
        "id": "nmAIv0Rc0R9r"
      },
      "outputs": [],
      "source": [
        "\n",
        "\n",
        "def move_files_and_remove_empty_folder(src_imgs, main_folder):\n",
        "    # Check if both the source and destination folders exist\n",
        "    if os.path.exists(src_imgs) and os.path.exists(main_folder):\n",
        "        # Get all files in the source folder\n",
        "        files = os.listdir(src_imgs)\n",
        "        for file in files:\n",
        "            # Construct full file path\n",
        "            src_file_path = os.path.join(src_imgs, file)\n",
        "            # Move each file to destination folder\n",
        "            shutil.move(src_file_path, main_folder)\n",
        "        # Remove source folder\n",
        "        os.rmdir(src_imgs)\n",
        "    else:\n",
        "        print(\"Either the source or the destination folder doesn't exist\")\n",
        "\n",
        "# eczema\n",
        "# main_folder = \"/content/CollectData/eczema\"\n",
        "\n",
        "# move_files_and_remove_empty_folder(\"/content/CollectData/eczema/Subacute Eczema\", main_folder)\n",
        "# move_files_and_remove_empty_folder(\"/content/CollectData/eczema/Hand Eczema\", main_folder)\n",
        "# move_files_and_remove_empty_folder(\"/content/CollectData/eczema/Chronic Eczema\", main_folder)\n",
        "# move_files_and_remove_empty_folder(\"/content/CollectData/eczema/Nummular Eczema\", main_folder)"
      ]
    },
    {
      "cell_type": "code",
      "execution_count": null,
      "metadata": {
        "id": "50aRRVMi1SCK"
      },
      "outputs": [],
      "source": [
        "\n",
        "def move_files_and_remove_empty_folder(src_imgs, main_folder):\n",
        "    # Check if both the source and destination folders exist\n",
        "    if os.path.exists(src_imgs) and os.path.exists(main_folder):\n",
        "        # Iterate over files in the source folder\n",
        "        for root, dirs, files in os.walk(src_imgs):\n",
        "            for file in files:\n",
        "                # Construct full file path\n",
        "                src_file_path = os.path.join(root, file)\n",
        "                # Construct destination file path\n",
        "                dest_file_path = os.path.join(main_folder, file)\n",
        "\n",
        "                # Check if the destination file already exists\n",
        "                if not os.path.exists(dest_file_path):\n",
        "                    # Move the file to the destination folder\n",
        "                    shutil.move(src_file_path, dest_file_path)\n",
        "                else:\n",
        "                    print(f\"File '{file}' already exists in the destination folder.\")\n",
        "\n",
        "        # Remove empty subfolders in the source folder\n",
        "        for root, dirs, files in os.walk(src_imgs, topdown=False):\n",
        "            for dir in dirs:\n",
        "                folder_path = os.path.join(root, dir)\n",
        "                try:\n",
        "                    os.rmdir(folder_path)\n",
        "                    print(f\"Removed empty folder: {folder_path}\")\n",
        "                except OSError as ex:\n",
        "                    print(f\"Error removing folder {folder_path}: {ex}\")\n",
        "\n",
        "        # Optionally, remove the source folder itself\n",
        "        os.rmdir(src_imgs)\n",
        "\n",
        "        print(\"Files moved successfully, and empty folders removed.\")\n",
        "    else:\n",
        "        print(\"Either the source or the destination folder doesn't exist\")\n",
        "\n",
        "# src_data = '/content/CollectData'\n",
        "# destination_folder = '/content/CollectData/eczema'\n",
        "# classes= os.listdir(src_data)\n",
        "# print(classes)\n",
        "# for cls in classes:\n",
        "#   inner_cls= os.listdir(os.path.join(cls,src_data))\n",
        "\n",
        "#   inner_cls_folder= cls+'/'+src_data\n",
        "\n",
        "\n",
        "#   for cls_folder in inner_cls:\n",
        "#     x=cls_folder+'/'+src_data\n",
        "\n",
        "#     move_files_and_remove_empty_folder(x,inner_cls_folder )\n",
        "\n",
        "\n"
      ]
    },
    {
      "cell_type": "code",
      "execution_count": null,
      "metadata": {
        "id": "s-TN53dkDQN8"
      },
      "outputs": [],
      "source": [
        "%%capture\n",
        "!pip install ultralytics\n",
        "\n",
        "from IPython import display\n",
        "display.clear_output()\n",
        "\n",
        "import ultralytics\n",
        "ultralytics.checks()"
      ]
    },
    {
      "cell_type": "code",
      "execution_count": null,
      "metadata": {
        "id": "mBAJcp3COoPb"
      },
      "outputs": [],
      "source": []
    },
    {
      "cell_type": "code",
      "execution_count": null,
      "metadata": {
        "id": "sVqrUGywDQQk"
      },
      "outputs": [],
      "source": [
        "!yolo task=classify mode=train model=yolov8m-cls.pt data='{DATA_DIR}' epochs=10 imgsz=128"
      ]
    },
    {
      "cell_type": "code",
      "execution_count": null,
      "metadata": {
        "colab": {
          "base_uri": "https://localhost:8080/"
        },
        "id": "UA4_RILrDQLW",
        "outputId": "70352370-8672-498e-b450-b2e31992a30e"
      },
      "outputs": [
        {
          "output_type": "stream",
          "name": "stdout",
          "text": [
            "0- Psoriasis                        18\n",
            "1- skin acne                        11\n",
            "2- rosacea200                       0\n",
            "3- eczema                           0\n",
            "4- normal skin                      31\n"
          ]
        }
      ],
      "source": [
        "src_data='/content/drive/MyDrive/CollectData/test'\n",
        "classes= os.listdir(src_data)\n",
        "for i,cls in enumerate(classes):\n",
        "  if '.jpg' not in cls:\n",
        "    print(f'{i}- {cls}   '.ljust(35),len(os.listdir(src_data+'/'+cls)))"
      ]
    },
    {
      "cell_type": "code",
      "execution_count": null,
      "metadata": {
        "id": "e-aW_3g2ASRs",
        "colab": {
          "base_uri": "https://localhost:8080/"
        },
        "outputId": "5fdcbc10-bd8d-4a79-c3b5-e23e04f295c4"
      },
      "outputs": [
        {
          "output_type": "stream",
          "name": "stdout",
          "text": [
            "0- rosacea200                       243\n",
            "1- skin acne                        276\n",
            "2- Psoriasis                        300\n",
            "3- eczema                           300\n",
            "4- normal skin                      267\n"
          ]
        }
      ],
      "source": [
        "src_data='/content/drive/MyDrive/CollectData/train'\n",
        "classes= os.listdir(src_data)\n",
        "for i,cls in enumerate(classes):\n",
        "  if '.jpg' not in cls:\n",
        "    print(f'{i}- {cls}   '.ljust(35),len(os.listdir(src_data+'/'+cls)))"
      ]
    },
    {
      "cell_type": "code",
      "execution_count": null,
      "metadata": {
        "id": "hPcVY378Q4nx"
      },
      "outputs": [],
      "source": [
        "\n",
        "def limit_images_in_folder(cls,folder_path, overflow_folder, limit=300):\n",
        "    # Get all files in the folder\n",
        "    files = os.listdir(folder_path)\n",
        "\n",
        "    # If there are more than `limit` files, move the excess to `overflow_folder`\n",
        "    if len(files) > limit:\n",
        "        overflow = files[limit:]\n",
        "        for file in overflow:\n",
        "            # Construct full file paths\n",
        "            src_file_path = os.path.join(folder_path, file)\n",
        "            dest_file_path = os.path.join(overflow_folder, file)\n",
        "\n",
        "            # move the file to test data\n",
        "            shutil.move(src_file_path, dest_file_path+cls)\n",
        "\n",
        "\n",
        "# classes = os.listdir(DATA_DIR+'/train')\n",
        "# for cls in classes:\n",
        "#   limit_images_in_folder(cls,DATA_DIR+'/train/'+cls, DATA_DIR+'/train/')"
      ]
    },
    {
      "cell_type": "code",
      "execution_count": null,
      "metadata": {
        "id": "Y28-YO_RDQVs"
      },
      "outputs": [],
      "source": [
        "\n",
        "\n",
        "def prepare_data_to_model(data_dir: str, shape=(224,224), class_mode='categorical', batch_size=32, shuffle=True, validation_split=0.2):\n",
        "    datagen = ImageDataGenerator(\n",
        "        preprocessing_function=preprocess_input,\n",
        "        validation_split=validation_split\n",
        "    )\n",
        "\n",
        "    train_generator = datagen.flow_from_directory(\n",
        "        data_dir,\n",
        "        target_size=shape,\n",
        "        batch_size=batch_size,\n",
        "        class_mode=class_mode,\n",
        "        shuffle=shuffle,\n",
        "        subset='training'\n",
        "    )\n",
        "\n",
        "    validation_generator = datagen.flow_from_directory(\n",
        "        data_dir,\n",
        "        target_size=shape,\n",
        "        batch_size=batch_size,\n",
        "        class_mode=class_mode,\n",
        "        shuffle=shuffle,\n",
        "        subset='validation'\n",
        "    )\n",
        "\n",
        "    return train_generator, validation_generator"
      ]
    },
    {
      "cell_type": "code",
      "execution_count": null,
      "metadata": {
        "id": "glVmbo3rPMkL"
      },
      "outputs": [],
      "source": [
        "from tensorflow.keras.callbacks import ModelCheckpoint,EarlyStopping\n",
        "early_stopping = EarlyStopping(monitor='loss', patience=10)\n",
        "\n",
        "checkpoint_path='/content/callbacks'\n",
        "!mkdir {checkpoint_path}\n",
        "checkpoint= ModelCheckpoint(\n",
        "            checkpoint_path,\n",
        "            save_weights_only=True, # save only the model weights\n",
        "            monitor=\"val_loss\", # save the model weights which score the best validation accuracy\n",
        "            save_best_only=True)\n"
      ]
    },
    {
      "cell_type": "code",
      "execution_count": null,
      "metadata": {
        "id": "26-8IFfqPMm8",
        "colab": {
          "base_uri": "https://localhost:8080/"
        },
        "outputId": "fd0e27b2-f4c6-4c0a-d3f1-7b49946cfe2b"
      },
      "outputs": [
        {
          "output_type": "stream",
          "name": "stdout",
          "text": [
            "Found 1110 images belonging to 5 classes.\n",
            "Found 276 images belonging to 5 classes.\n"
          ]
        }
      ],
      "source": [
        "train_generator, validation_generator= prepare_data_to_model(DATA_DIR+'/train',batch_size=54)"
      ]
    },
    {
      "cell_type": "code",
      "execution_count": null,
      "metadata": {
        "id": "pCDbMpMEzOdo",
        "colab": {
          "base_uri": "https://localhost:8080/",
          "height": 193
        },
        "outputId": "5a87ec02-d1ab-440e-baf7-2d2698c23914"
      },
      "outputs": [
        {
          "output_type": "error",
          "ename": "NameError",
          "evalue": "ignored",
          "traceback": [
            "\u001b[0;31m---------------------------------------------------------------------------\u001b[0m",
            "\u001b[0;31mNameError\u001b[0m                                 Traceback (most recent call last)",
            "\u001b[0;32m<ipython-input-9-a01108af9ae6>\u001b[0m in \u001b[0;36m<cell line: 1>\u001b[0;34m()\u001b[0m\n\u001b[0;32m----> 1\u001b[0;31m \u001b[0mmodel_classes\u001b[0m\u001b[0;34m=\u001b[0m \u001b[0mlist\u001b[0m\u001b[0;34m(\u001b[0m\u001b[0mtrain_generator\u001b[0m\u001b[0;34m.\u001b[0m\u001b[0mclass_indices\u001b[0m\u001b[0;34m.\u001b[0m\u001b[0mkeys\u001b[0m\u001b[0;34m(\u001b[0m\u001b[0;34m)\u001b[0m\u001b[0;34m)\u001b[0m\u001b[0;34m\u001b[0m\u001b[0;34m\u001b[0m\u001b[0m\n\u001b[0m\u001b[1;32m      2\u001b[0m \u001b[0mmodel_classes\u001b[0m\u001b[0;34m\u001b[0m\u001b[0;34m\u001b[0m\u001b[0m\n",
            "\u001b[0;31mNameError\u001b[0m: name 'train_generator' is not defined"
          ]
        }
      ],
      "source": [
        "model_classes= list(train_generator.class_indices.keys())\n",
        "model_classes"
      ]
    },
    {
      "cell_type": "code",
      "execution_count": null,
      "metadata": {
        "colab": {
          "base_uri": "https://localhost:8080/"
        },
        "id": "llvmBLV8PMpk",
        "outputId": "79aa5812-beb7-4721-8d83-b5e09b52fdc3"
      },
      "outputs": [
        {
          "output_type": "stream",
          "name": "stdout",
          "text": [
            "Epoch 1/150\n",
            "21/21 [==============================] - 49s 2s/step - loss: 1.0417 - acc: 0.5955 - val_loss: 0.6653 - val_acc: 0.7464\n",
            "Epoch 2/150\n",
            "21/21 [==============================] - 36s 2s/step - loss: 0.6132 - acc: 0.7685 - val_loss: 0.4960 - val_acc: 0.8188\n",
            "Epoch 3/150\n",
            "21/21 [==============================] - 28s 1s/step - loss: 0.4413 - acc: 0.8387 - val_loss: 0.5383 - val_acc: 0.8261\n",
            "Epoch 4/150\n",
            "21/21 [==============================] - 28s 1s/step - loss: 0.3991 - acc: 0.8486 - val_loss: 0.5025 - val_acc: 0.8406\n",
            "Epoch 5/150\n",
            "21/21 [==============================] - 28s 1s/step - loss: 0.3311 - acc: 0.8721 - val_loss: 0.4921 - val_acc: 0.8442\n",
            "Epoch 6/150\n",
            "21/21 [==============================] - 26s 1s/step - loss: 0.3502 - acc: 0.8631 - val_loss: 0.3599 - val_acc: 0.8587\n",
            "Epoch 7/150\n",
            "21/21 [==============================] - 24s 1s/step - loss: 0.3094 - acc: 0.8793 - val_loss: 0.4446 - val_acc: 0.8551\n",
            "Epoch 8/150\n",
            "21/21 [==============================] - 26s 1s/step - loss: 0.2665 - acc: 0.9018 - val_loss: 0.6280 - val_acc: 0.8406\n",
            "Epoch 9/150\n",
            "21/21 [==============================] - 23s 1s/step - loss: 0.2814 - acc: 0.8847 - val_loss: 0.4918 - val_acc: 0.8478\n",
            "Epoch 10/150\n",
            "21/21 [==============================] - 21s 998ms/step - loss: 0.2386 - acc: 0.9117 - val_loss: 0.4050 - val_acc: 0.8370\n",
            "Epoch 11/150\n",
            "21/21 [==============================] - 19s 861ms/step - loss: 0.2219 - acc: 0.9054 - val_loss: 0.4944 - val_acc: 0.8514\n",
            "Epoch 12/150\n",
            "21/21 [==============================] - 22s 1s/step - loss: 0.2780 - acc: 0.9009 - val_loss: 0.5371 - val_acc: 0.8478\n",
            "Epoch 13/150\n",
            "21/21 [==============================] - 18s 850ms/step - loss: 0.2491 - acc: 0.9027 - val_loss: 0.5389 - val_acc: 0.8696\n",
            "Epoch 14/150\n",
            "21/21 [==============================] - 22s 1s/step - loss: 0.2330 - acc: 0.9135 - val_loss: 0.5989 - val_acc: 0.8261\n",
            "Epoch 15/150\n",
            "21/21 [==============================] - 20s 957ms/step - loss: 0.2100 - acc: 0.9162 - val_loss: 0.4459 - val_acc: 0.8732\n",
            "Epoch 16/150\n",
            "21/21 [==============================] - 16s 757ms/step - loss: 0.2401 - acc: 0.9072 - val_loss: 0.4649 - val_acc: 0.8225\n",
            "Epoch 17/150\n",
            "21/21 [==============================] - 20s 934ms/step - loss: 0.1933 - acc: 0.9252 - val_loss: 0.5168 - val_acc: 0.8551\n",
            "Epoch 18/150\n",
            "21/21 [==============================] - 18s 844ms/step - loss: 0.1699 - acc: 0.9333 - val_loss: 0.4867 - val_acc: 0.8768\n",
            "Epoch 19/150\n",
            "21/21 [==============================] - 18s 840ms/step - loss: 0.1806 - acc: 0.9315 - val_loss: 0.4300 - val_acc: 0.8732\n",
            "Epoch 20/150\n",
            "21/21 [==============================] - 16s 760ms/step - loss: 0.1678 - acc: 0.9342 - val_loss: 0.5102 - val_acc: 0.8732\n",
            "Epoch 21/150\n",
            "21/21 [==============================] - 17s 783ms/step - loss: 0.1557 - acc: 0.9378 - val_loss: 0.4573 - val_acc: 0.8768\n",
            "Epoch 22/150\n",
            "21/21 [==============================] - 18s 876ms/step - loss: 0.1689 - acc: 0.9405 - val_loss: 0.5477 - val_acc: 0.8514\n",
            "Epoch 23/150\n",
            "21/21 [==============================] - 13s 609ms/step - loss: 0.1867 - acc: 0.9243 - val_loss: 0.6553 - val_acc: 0.8261\n",
            "Epoch 24/150\n",
            "21/21 [==============================] - 14s 691ms/step - loss: 0.1750 - acc: 0.9279 - val_loss: 0.4651 - val_acc: 0.8406\n",
            "Epoch 25/150\n",
            "21/21 [==============================] - 18s 847ms/step - loss: 0.1658 - acc: 0.9387 - val_loss: 0.4990 - val_acc: 0.8514\n",
            "Epoch 26/150\n",
            "21/21 [==============================] - 17s 829ms/step - loss: 0.1580 - acc: 0.9351 - val_loss: 0.5278 - val_acc: 0.8696\n",
            "Epoch 27/150\n",
            "21/21 [==============================] - 20s 971ms/step - loss: 0.1664 - acc: 0.9297 - val_loss: 0.6301 - val_acc: 0.8551\n",
            "Epoch 28/150\n",
            "21/21 [==============================] - 16s 748ms/step - loss: 0.1431 - acc: 0.9477 - val_loss: 0.4678 - val_acc: 0.8551\n",
            "Epoch 29/150\n",
            "21/21 [==============================] - 18s 848ms/step - loss: 0.1286 - acc: 0.9495 - val_loss: 0.4777 - val_acc: 0.8696\n",
            "Epoch 30/150\n",
            "21/21 [==============================] - 16s 790ms/step - loss: 0.1416 - acc: 0.9387 - val_loss: 0.6814 - val_acc: 0.8080\n",
            "Epoch 31/150\n",
            "21/21 [==============================] - 16s 792ms/step - loss: 0.1294 - acc: 0.9505 - val_loss: 0.6426 - val_acc: 0.8370\n",
            "Epoch 32/150\n",
            "21/21 [==============================] - 14s 684ms/step - loss: 0.1237 - acc: 0.9541 - val_loss: 0.5057 - val_acc: 0.8732\n",
            "Epoch 33/150\n",
            "21/21 [==============================] - 16s 733ms/step - loss: 0.1160 - acc: 0.9613 - val_loss: 0.7193 - val_acc: 0.8225\n",
            "Epoch 34/150\n",
            "21/21 [==============================] - 15s 728ms/step - loss: 0.1314 - acc: 0.9541 - val_loss: 0.6669 - val_acc: 0.8043\n",
            "Epoch 35/150\n",
            "21/21 [==============================] - 15s 737ms/step - loss: 0.1367 - acc: 0.9468 - val_loss: 0.7411 - val_acc: 0.8116\n",
            "Epoch 36/150\n",
            "21/21 [==============================] - 15s 711ms/step - loss: 0.1043 - acc: 0.9649 - val_loss: 0.4874 - val_acc: 0.8696\n",
            "Epoch 37/150\n",
            "21/21 [==============================] - 14s 674ms/step - loss: 0.1239 - acc: 0.9568 - val_loss: 0.5539 - val_acc: 0.8659\n",
            "Epoch 38/150\n",
            "21/21 [==============================] - 16s 767ms/step - loss: 0.1181 - acc: 0.9468 - val_loss: 0.5213 - val_acc: 0.8478\n",
            "Epoch 39/150\n",
            "21/21 [==============================] - 15s 745ms/step - loss: 0.1258 - acc: 0.9568 - val_loss: 0.6601 - val_acc: 0.8514\n",
            "Epoch 40/150\n",
            "21/21 [==============================] - 15s 715ms/step - loss: 0.1014 - acc: 0.9649 - val_loss: 0.4503 - val_acc: 0.8514\n",
            "Epoch 41/150\n",
            "21/21 [==============================] - 14s 634ms/step - loss: 0.1514 - acc: 0.9432 - val_loss: 0.5775 - val_acc: 0.8478\n",
            "Epoch 42/150\n",
            "21/21 [==============================] - 12s 567ms/step - loss: 0.1516 - acc: 0.9459 - val_loss: 0.5835 - val_acc: 0.8514\n",
            "Epoch 43/150\n",
            "21/21 [==============================] - 15s 700ms/step - loss: 0.1147 - acc: 0.9577 - val_loss: 0.6585 - val_acc: 0.8116\n",
            "Epoch 44/150\n",
            "21/21 [==============================] - 13s 627ms/step - loss: 0.1312 - acc: 0.9541 - val_loss: 0.6809 - val_acc: 0.8551\n",
            "Epoch 45/150\n",
            "21/21 [==============================] - 17s 822ms/step - loss: 0.1237 - acc: 0.9613 - val_loss: 0.7104 - val_acc: 0.8080\n",
            "Epoch 46/150\n",
            "21/21 [==============================] - 14s 685ms/step - loss: 0.0890 - acc: 0.9640 - val_loss: 0.5310 - val_acc: 0.8333\n",
            "Epoch 47/150\n",
            "21/21 [==============================] - 14s 669ms/step - loss: 0.0944 - acc: 0.9631 - val_loss: 0.6401 - val_acc: 0.8442\n",
            "Epoch 48/150\n",
            "21/21 [==============================] - 14s 652ms/step - loss: 0.1019 - acc: 0.9658 - val_loss: 0.5520 - val_acc: 0.8587\n",
            "Epoch 49/150\n",
            "21/21 [==============================] - 14s 650ms/step - loss: 0.0737 - acc: 0.9685 - val_loss: 0.6176 - val_acc: 0.8478\n",
            "Epoch 50/150\n",
            "21/21 [==============================] - 13s 602ms/step - loss: 0.0898 - acc: 0.9649 - val_loss: 0.5280 - val_acc: 0.8442\n",
            "Epoch 51/150\n",
            "21/21 [==============================] - 11s 524ms/step - loss: 0.0853 - acc: 0.9667 - val_loss: 0.7498 - val_acc: 0.8587\n",
            "Epoch 52/150\n",
            "21/21 [==============================] - 12s 599ms/step - loss: 0.0994 - acc: 0.9631 - val_loss: 0.6511 - val_acc: 0.8514\n",
            "Epoch 53/150\n",
            "21/21 [==============================] - 15s 699ms/step - loss: 0.1383 - acc: 0.9450 - val_loss: 0.4610 - val_acc: 0.8841\n",
            "Epoch 54/150\n",
            "21/21 [==============================] - 11s 505ms/step - loss: 0.1731 - acc: 0.9315 - val_loss: 0.4874 - val_acc: 0.8587\n",
            "Epoch 55/150\n",
            "21/21 [==============================] - 13s 595ms/step - loss: 0.0972 - acc: 0.9613 - val_loss: 0.5837 - val_acc: 0.8587\n",
            "Epoch 56/150\n",
            "21/21 [==============================] - 11s 531ms/step - loss: 0.1285 - acc: 0.9568 - val_loss: 0.9716 - val_acc: 0.7899\n",
            "Epoch 57/150\n",
            "21/21 [==============================] - 13s 610ms/step - loss: 0.0972 - acc: 0.9550 - val_loss: 1.0362 - val_acc: 0.7790\n",
            "Epoch 58/150\n",
            "21/21 [==============================] - 14s 653ms/step - loss: 0.1109 - acc: 0.9577 - val_loss: 0.8036 - val_acc: 0.8152\n",
            "Epoch 59/150\n",
            "21/21 [==============================] - 12s 584ms/step - loss: 0.1027 - acc: 0.9604 - val_loss: 0.7352 - val_acc: 0.8225\n"
          ]
        }
      ],
      "source": [
        "data_augmentation = Sequential([\n",
        "  preprocessing.RandomZoom(0.3),\n",
        "  preprocessing.RandomWidth(0.3),\n",
        "  preprocessing.RandomHeight(0.3),\n",
        "  preprocessing.RandomFlip(\"vertical\"),\n",
        "  preprocessing.RandomFlip(\"horizontal\"),\n",
        "  tf.keras.layers.RandomContrast(0.2, seed=None),\n",
        "  # preprocessing.RandomRotation(0.2),\n",
        "], name='data-augmentiation-layer')\n",
        "\n",
        "base_model = ResNet50(weights='imagenet',include_top=False)\n",
        "base_model.trainable = False\n",
        "\n",
        "for layer in base_model.layers[-4:]:\n",
        "    layer.trainable = True\n",
        "\n",
        "input_layer = L.Input(shape=(224, 224, 3), name='input_layer')\n",
        "x = data_augmentation(input_layer)\n",
        "x = base_model(x)\n",
        "x = L.GlobalAveragePooling2D(name='minimazie_dimentions')(x)\n",
        "x = L.Dense(256, activation='relu', name='added_layer_1')(x)\n",
        "x = L.Dropout(0.3)(x)\n",
        "x = L.Dense(128, activation='relu', name='added_layer_2')(x)\n",
        "\n",
        "output_layer = L.Dense(len(model_classes), activation='softmax', name='output_layer')(x)\n",
        "\n",
        "model = keras.Model(input_layer, output_layer)\n",
        "\n",
        "model.compile(loss='categorical_crossentropy',\n",
        "              optimizer=keras.optimizers.Adam(learning_rate=0.001),\n",
        "              metrics=['acc'])\n",
        "\n",
        "history = model.fit(train_generator,\n",
        "                    validation_data=validation_generator,\n",
        "                    epochs=150,\n",
        "                    callbacks=[\n",
        "                        checkpoint,\n",
        "                        early_stopping\n",
        "                    ])"
      ]
    },
    {
      "cell_type": "code",
      "execution_count": null,
      "metadata": {
        "colab": {
          "base_uri": "https://localhost:8080/"
        },
        "id": "TkXrIk3M8e5F",
        "outputId": "a6e2801c-452f-4288-ea8e-6851b93349c7"
      },
      "outputs": [
        {
          "output_type": "stream",
          "name": "stdout",
          "text": [
            "Model: \"model\"\n",
            "_________________________________________________________________\n",
            " Layer (type)                Output Shape              Param #   \n",
            "=================================================================\n",
            " input_layer (InputLayer)    [(None, 224, 224, 3)]     0         \n",
            "                                                                 \n",
            " data-augmentiation-layer (  (None, None, None, None   0         \n",
            " Sequential)                 )                                   \n",
            "                                                                 \n",
            " resnet50 (Functional)       (None, None, None, 2048   23587712  \n",
            "                             )                                   \n",
            "                                                                 \n",
            " minimazie_dimentions (Glob  (None, 2048)              0         \n",
            " alAveragePooling2D)                                             \n",
            "                                                                 \n",
            " added_layer_1 (Dense)       (None, 256)               524544    \n",
            "                                                                 \n",
            " dropout (Dropout)           (None, 256)               0         \n",
            "                                                                 \n",
            " added_layer_2 (Dense)       (None, 128)               32896     \n",
            "                                                                 \n",
            " output_layer (Dense)        (None, 7)                 903       \n",
            "                                                                 \n",
            "=================================================================\n",
            "Total params: 24146055 (92.11 MB)\n",
            "Trainable params: 558343 (2.13 MB)\n",
            "Non-trainable params: 23587712 (89.98 MB)\n",
            "_________________________________________________________________\n"
          ]
        }
      ],
      "source": [
        "model.summary()"
      ]
    },
    {
      "cell_type": "code",
      "execution_count": null,
      "metadata": {
        "colab": {
          "base_uri": "https://localhost:8080/"
        },
        "id": "JhhlHmEsMz2R",
        "outputId": "644bb347-bea9-4d29-9e12-ad6cdea2bae4"
      },
      "outputs": [
        {
          "data": {
            "text/plain": [
              "['rosacea200',\n",
              " 'scalp infection scrapping',\n",
              " 'skin acne',\n",
              " 'Psoriasis',\n",
              " 'Healthy-skin',\n",
              " 'eczema']"
            ]
          },
          "execution_count": 20,
          "metadata": {},
          "output_type": "execute_result"
        }
      ],
      "source": [
        "shutil.rmtree('/content/test/normal skin')\n",
        "\n",
        "os.listdir('/content/drive/MyDrive/CollectData/train')"
      ]
    },
    {
      "cell_type": "code",
      "source": [],
      "metadata": {
        "id": "TFUtpuXsPxMf"
      },
      "execution_count": null,
      "outputs": []
    },
    {
      "cell_type": "code",
      "execution_count": null,
      "metadata": {
        "colab": {
          "base_uri": "https://localhost:8080/"
        },
        "id": "uXUmPi31SEAn",
        "outputId": "ff49f77c-ab2d-4a02-865d-fe033b5fda38"
      },
      "outputs": [
        {
          "output_type": "stream",
          "name": "stdout",
          "text": [
            "Found 1521 images belonging to 5 classes.\n"
          ]
        }
      ],
      "source": [
        "datagen = ImageDataGenerator(\n",
        "        preprocessing_function=preprocess_input,\n",
        "\n",
        "    )\n",
        "test_dir='/content/drive/MyDrive/CollectData/test'\n",
        "test_generator = datagen.flow_from_directory(\n",
        "        test_dir,\n",
        "        target_size=[224,224],\n",
        "        batch_size=32,\n",
        "        class_mode='categorical',\n",
        "        shuffle=True,\n",
        "\n",
        "    )"
      ]
    },
    {
      "cell_type": "code",
      "execution_count": null,
      "metadata": {
        "colab": {
          "base_uri": "https://localhost:8080/"
        },
        "id": "WfxiZQOSSjSO",
        "outputId": "ca64c44c-2c71-4b42-fc1d-89282f5c0355"
      },
      "outputs": [
        {
          "output_type": "stream",
          "name": "stdout",
          "text": [
            "48/48 [==============================] - 299s 6s/step - loss: 15.9593 - acc: 0.0342\n"
          ]
        }
      ],
      "source": [
        "loss, accuracy = model.evaluate(test_generator)\n"
      ]
    },
    {
      "cell_type": "code",
      "source": [
        "model.save('/content/drive/MyDrive/models/allModels5cls.h5')\n"
      ],
      "metadata": {
        "colab": {
          "base_uri": "https://localhost:8080/"
        },
        "id": "BCe4L_3oXWiO",
        "outputId": "63eed766-0ab2-4779-9097-a71cf303cff2"
      },
      "execution_count": null,
      "outputs": [
        {
          "output_type": "stream",
          "name": "stderr",
          "text": [
            "/usr/local/lib/python3.10/dist-packages/keras/src/engine/training.py:3079: UserWarning: You are saving your model as an HDF5 file via `model.save()`. This file format is considered legacy. We recommend using instead the native Keras format, e.g. `model.save('my_model.keras')`.\n",
            "  saving_api.save_model(\n"
          ]
        }
      ]
    },
    {
      "cell_type": "code",
      "execution_count": null,
      "metadata": {
        "colab": {
          "base_uri": "https://localhost:8080/",
          "height": 865
        },
        "id": "MFYMrai_PMu7",
        "outputId": "c57b5351-6a79-4e2e-91a8-003ae8d6d2b3"
      },
      "outputs": [
        {
          "data": {
            "image/png": "[encoded data removed]",
            "text/plain": [
              "<IPython.core.display.Image object>"
            ]
          },
          "execution_count": 32,
          "metadata": {},
          "output_type": "execute_result"
        }
      ],
      "source": [
        "from tensorflow.keras.utils import plot_model\n",
        "\n",
        "plot_model(model, to_file='model.png', show_shapes=True, show_layer_names=True)"
      ]
    },
    {
      "cell_type": "code",
      "execution_count": null,
      "metadata": {
        "colab": {
          "base_uri": "https://localhost:8080/",
          "height": 436
        },
        "id": "Nw46fTnQxH_s",
        "outputId": "317a92b7-dfd5-466a-fda4-54959766227a"
      },
      "outputs": [
        {
          "output_type": "display_data",
          "data": {
            "text/plain": [
              "<Figure size 1000x600 with 1 Axes>"
            ],
            "image/png": "[encoded data removed]"
          },
          "metadata": {}
        }
      ],
      "source": [
        "\n",
        "history_dict = history.history\n",
        "\n",
        "# Plot accuracy\n",
        "plt.figure(figsize=(10,6))\n",
        "plt.plot(history_dict['acc'])\n",
        "plt.plot(history_dict['val_acc'])\n",
        "plt.title('Model acc')\n",
        "plt.ylabel('acc')\n",
        "plt.xlabel('Epoch')\n",
        "plt.legend(['Train', 'Val'], loc='upper left')\n",
        "plt.show()\n",
        "\n"
      ]
    },
    {
      "cell_type": "code",
      "execution_count": null,
      "metadata": {
        "colab": {
          "base_uri": "https://localhost:8080/",
          "height": 436
        },
        "id": "auk-HLmaxTjB",
        "outputId": "e5266e62-3ad9-4e9e-cb15-da4bca7fc9d6"
      },
      "outputs": [
        {
          "output_type": "display_data",
          "data": {
            "text/plain": [
              "<Figure size 1000x600 with 1 Axes>"
            ],
            "image/png": "[encoded data removed]"
          },
          "metadata": {}
        }
      ],
      "source": [
        "\n",
        "plt.figure(figsize=(10,6))\n",
        "plt.plot(history_dict['loss'])\n",
        "plt.plot(history_dict['val_loss'])\n",
        "plt.title('Model loss')\n",
        "plt.ylabel('Loss')\n",
        "plt.xlabel('Epoch')\n",
        "plt.legend(['Train', 'Val'], loc='upper left')\n",
        "plt.show()"
      ]
    },
    {
      "cell_type": "code",
      "source": [
        "model=tf.keras.models.load_model('/content/drive/MyDrive/models/allModels5cls.h5')"
      ],
      "metadata": {
        "colab": {
          "base_uri": "https://localhost:8080/"
        },
        "id": "iTNAwoCm-NVk",
        "outputId": "38a0964d-3234-45cc-8d7c-e0a3316fd512"
      },
      "execution_count": null,
      "outputs": [
        {
          "output_type": "stream",
          "name": "stderr",
          "text": [
            "WARNING:tensorflow:Error in loading the saved optimizer state. As a result, your model is starting with a freshly initialized optimizer.\n"
          ]
        }
      ]
    },
    {
      "cell_type": "code",
      "execution_count": null,
      "metadata": {
        "id": "L1BszFRHxICi"
      },
      "outputs": [],
      "source": [
        "import cv2\n",
        "def classifier(img,model,shape)-> int:\n",
        "    ''''''\n",
        "    if img is None:\n",
        "        raise ValueError(\"Image should not be None\")\n",
        "\n",
        "    img=cv2.imread(img)\n",
        "\n",
        "    img=cv2.resize(img,dsize=shape)\n",
        "    # img_rgb=cv2.cvtColor(img,cv2.COLOR_BGR2RGB)\n",
        "\n",
        "    img=np.expand_dims(img,axis=0)\n",
        "    pred=model.predict(img,verbose=0)\n",
        "    idx=np.argmax(pred)\n",
        "    print('model output: ',pred)\n",
        "\n",
        "    # values={k:i for i,k in train_batches.class_indices.items()}\n",
        "    # print(values[idx])\n",
        "    return idx,pred,model_classes,f'predicted class ==> {model_classes[idx]}'"
      ]
    },
    {
      "cell_type": "code",
      "execution_count": null,
      "metadata": {
        "id": "8dhXjL9ExIFI"
      },
      "outputs": [],
      "source": [
        "\n",
        "img= '/content/drive/MyDrive/data/scalp infection scrapping/scalp infection_0.jpg'\n",
        "img2= '/content/drive/MyDrive/data/scalp infection scrapping/scalp infection_1.jpg'\n",
        "img3= '/content/drive/MyDrive/data/scalp infection scrapping/scalp infection_10.jpg'\n",
        "# img4= '/content/eczema.jpg'\n",
        "classifier(img,model,[224,224])"
      ]
    },
    {
      "cell_type": "markdown",
      "source": [
        "### acne"
      ],
      "metadata": {
        "id": "Q489lJ7-XpGT"
      }
    },
    {
      "cell_type": "code",
      "source": [
        "c=0\n",
        "path='/content/drive/MyDrive/CollectData/test/skin acne'\n",
        "for i in os.listdir(path):\n",
        "  img= path+'/'+i\n",
        "  c+=1\n",
        "  print(classifier(img,model,[224,224]))\n",
        "  if c>105:\n",
        "    break"
      ],
      "metadata": {
        "colab": {
          "base_uri": "https://localhost:8080/"
        },
        "id": "5-4FiLOVWIL4",
        "outputId": "ddaf71b6-681c-4806-e9f1-99538a80fec4"
      },
      "execution_count": null,
      "outputs": [
        {
          "output_type": "stream",
          "name": "stdout",
          "text": [
            "model output:  [[ 0.00031837  1.4535e-07  5.8483e-06    0.024599     0.97508]]\n",
            "(4, array([[ 0.00031837,  1.4535e-07,  5.8483e-06,    0.024599,     0.97508]], dtype=float32), ['Psoriasis', 'eczema', 'normal skin', 'rosacea200', 'skin acne'], 'predicted class ==> skin acne')\n",
            "model output:  [[ 2.4105e-05  7.3419e-09    0.096358  1.5004e-05      0.9036]]\n",
            "(4, array([[ 2.4105e-05,  7.3419e-09,    0.096358,  1.5004e-05,      0.9036]], dtype=float32), ['Psoriasis', 'eczema', 'normal skin', 'rosacea200', 'skin acne'], 'predicted class ==> skin acne')\n",
            "model output:  [[  0.0012329  5.6396e-07  0.00024918   0.0098563     0.98866]]\n",
            "(4, array([[  0.0012329,  5.6396e-07,  0.00024918,   0.0098563,     0.98866]], dtype=float32), ['Psoriasis', 'eczema', 'normal skin', 'rosacea200', 'skin acne'], 'predicted class ==> skin acne')\n",
            "model output:  [[    0.45839   0.0010689   0.0084608     0.17086     0.36122]]\n",
            "(0, array([[    0.45839,   0.0010689,   0.0084608,     0.17086,     0.36122]], dtype=float32), ['Psoriasis', 'eczema', 'normal skin', 'rosacea200', 'skin acne'], 'predicted class ==> Psoriasis')\n",
            "model output:  [[ 6.0099e-08  2.5922e-11  6.0988e-14  1.0917e-05     0.99999]]\n",
            "(4, array([[ 6.0099e-08,  2.5922e-11,  6.0988e-14,  1.0917e-05,     0.99999]], dtype=float32), ['Psoriasis', 'eczema', 'normal skin', 'rosacea200', 'skin acne'], 'predicted class ==> skin acne')\n",
            "model output:  [[ 3.8255e-08  7.6724e-09   8.149e-08  3.8646e-05     0.99996]]\n",
            "(4, array([[ 3.8255e-08,  7.6724e-09,   8.149e-08,  3.8646e-05,     0.99996]], dtype=float32), ['Psoriasis', 'eczema', 'normal skin', 'rosacea200', 'skin acne'], 'predicted class ==> skin acne')\n",
            "model output:  [[ 3.2578e-07  9.3943e-10  4.2296e-05  2.3291e-06     0.99996]]\n",
            "(4, array([[ 3.2578e-07,  9.3943e-10,  4.2296e-05,  2.3291e-06,     0.99996]], dtype=float32), ['Psoriasis', 'eczema', 'normal skin', 'rosacea200', 'skin acne'], 'predicted class ==> skin acne')\n",
            "model output:  [[  8.926e-10  3.4475e-10   4.116e-10  6.6179e-07           1]]\n",
            "(4, array([[  8.926e-10,  3.4475e-10,   4.116e-10,  6.6179e-07,           1]], dtype=float32), ['Psoriasis', 'eczema', 'normal skin', 'rosacea200', 'skin acne'], 'predicted class ==> skin acne')\n",
            "model output:  [[ 8.6931e-08   1.383e-08  4.9592e-07  0.00070056      0.9993]]\n",
            "(4, array([[ 8.6931e-08,   1.383e-08,  4.9592e-07,  0.00070056,      0.9993]], dtype=float32), ['Psoriasis', 'eczema', 'normal skin', 'rosacea200', 'skin acne'], 'predicted class ==> skin acne')\n",
            "model output:  [[ 1.0973e-08  1.3914e-06  3.1549e-11   0.0010285     0.99897]]\n",
            "(4, array([[ 1.0973e-08,  1.3914e-06,  3.1549e-11,   0.0010285,     0.99897]], dtype=float32), ['Psoriasis', 'eczema', 'normal skin', 'rosacea200', 'skin acne'], 'predicted class ==> skin acne')\n",
            "model output:  [[   0.002997  1.5835e-08  1.5862e-06      0.9824    0.014606]]\n",
            "(3, array([[   0.002997,  1.5835e-08,  1.5862e-06,      0.9824,    0.014606]], dtype=float32), ['Psoriasis', 'eczema', 'normal skin', 'rosacea200', 'skin acne'], 'predicted class ==> rosacea200')\n"
          ]
        }
      ]
    },
    {
      "cell_type": "markdown",
      "source": [
        "### Psoriasis'"
      ],
      "metadata": {
        "id": "i2QaHl8xWbuC"
      }
    },
    {
      "cell_type": "code",
      "source": [
        "c=0\n",
        "path='/content/drive/MyDrive/CollectData/test/Psoriasis'\n",
        "for i in os.listdir(path):\n",
        "  img= path+'/'+i\n",
        "  c+=1\n",
        "  print(classifier(img,model,[224,224]))\n",
        "  if c>105:\n",
        "    break"
      ],
      "metadata": {
        "colab": {
          "base_uri": "https://localhost:8080/"
        },
        "id": "HF8x_cm5WH-V",
        "outputId": "0f3dc2ef-d251-4dc9-c32b-b30a5e53cb0c"
      },
      "execution_count": null,
      "outputs": [
        {
          "output_type": "stream",
          "name": "stdout",
          "text": [
            "model output:  [[    0.99976  6.8705e-08  3.8922e-11  0.00024112  1.9841e-07]]\n",
            "(0, array([[    0.99976,  6.8705e-08,  3.8922e-11,  0.00024112,  1.9841e-07]], dtype=float32), ['Psoriasis', 'eczema', 'normal skin', 'rosacea200', 'skin acne'], 'predicted class ==> Psoriasis')\n",
            "model output:  [[    0.11167    0.063843  2.4573e-07     0.23925     0.58524]]\n",
            "(4, array([[    0.11167,    0.063843,  2.4573e-07,     0.23925,     0.58524]], dtype=float32), ['Psoriasis', 'eczema', 'normal skin', 'rosacea200', 'skin acne'], 'predicted class ==> skin acne')\n",
            "model output:  [[ 0.00023192  1.6518e-09  7.4385e-15     0.99977  2.7227e-08]]\n",
            "(3, array([[ 0.00023192,  1.6518e-09,  7.4385e-15,     0.99977,  2.7227e-08]], dtype=float32), ['Psoriasis', 'eczema', 'normal skin', 'rosacea200', 'skin acne'], 'predicted class ==> rosacea200')\n",
            "model output:  [[    0.99969  0.00030139  5.8544e-12  1.3193e-05  2.2573e-10]]\n",
            "(0, array([[    0.99969,  0.00030139,  5.8544e-12,  1.3193e-05,  2.2573e-10]], dtype=float32), ['Psoriasis', 'eczema', 'normal skin', 'rosacea200', 'skin acne'], 'predicted class ==> Psoriasis')\n",
            "model output:  [[    0.99994   9.582e-08  2.1855e-16   5.789e-05  4.0626e-13]]\n",
            "(0, array([[    0.99994,   9.582e-08,  2.1855e-16,   5.789e-05,  4.0626e-13]], dtype=float32), ['Psoriasis', 'eczema', 'normal skin', 'rosacea200', 'skin acne'], 'predicted class ==> Psoriasis')\n",
            "model output:  [[   0.022375    0.027269  5.7611e-07     0.94947  0.00088575]]\n",
            "(3, array([[   0.022375,    0.027269,  5.7611e-07,     0.94947,  0.00088575]], dtype=float32), ['Psoriasis', 'eczema', 'normal skin', 'rosacea200', 'skin acne'], 'predicted class ==> rosacea200')\n",
            "model output:  [[    0.98916    0.010837  2.2261e-14   1.761e-07   1.503e-10]]\n",
            "(0, array([[    0.98916,    0.010837,  2.2261e-14,   1.761e-07,   1.503e-10]], dtype=float32), ['Psoriasis', 'eczema', 'normal skin', 'rosacea200', 'skin acne'], 'predicted class ==> Psoriasis')\n",
            "model output:  [[    0.01371  4.7302e-07  8.6299e-12     0.98608  0.00020758]]\n",
            "(3, array([[    0.01371,  4.7302e-07,  8.6299e-12,     0.98608,  0.00020758]], dtype=float32), ['Psoriasis', 'eczema', 'normal skin', 'rosacea200', 'skin acne'], 'predicted class ==> rosacea200')\n",
            "model output:  [[  2.053e-08           1  3.9539e-19  1.0292e-14   8.085e-16]]\n",
            "(1, array([[  2.053e-08,           1,  3.9539e-19,  1.0292e-14,   8.085e-16]], dtype=float32), ['Psoriasis', 'eczema', 'normal skin', 'rosacea200', 'skin acne'], 'predicted class ==> eczema')\n",
            "model output:  [[    0.99932   0.0004108  5.0472e-08  0.00026433  6.3344e-07]]\n",
            "(0, array([[    0.99932,   0.0004108,  5.0472e-08,  0.00026433,  6.3344e-07]], dtype=float32), ['Psoriasis', 'eczema', 'normal skin', 'rosacea200', 'skin acne'], 'predicted class ==> Psoriasis')\n",
            "model output:  [[    0.04266  1.3167e-09     0.95734  4.9388e-10  8.3116e-07]]\n",
            "(2, array([[    0.04266,  1.3167e-09,     0.95734,  4.9388e-10,  8.3116e-07]], dtype=float32), ['Psoriasis', 'eczema', 'normal skin', 'rosacea200', 'skin acne'], 'predicted class ==> normal skin')\n",
            "model output:  [[    0.96122  7.4955e-06  2.2369e-06    0.038766  2.5283e-06]]\n",
            "(0, array([[    0.96122,  7.4955e-06,  2.2369e-06,    0.038766,  2.5283e-06]], dtype=float32), ['Psoriasis', 'eczema', 'normal skin', 'rosacea200', 'skin acne'], 'predicted class ==> Psoriasis')\n",
            "model output:  [[    0.99814   0.0016412   0.0002196  4.3763e-07   2.991e-07]]\n",
            "(0, array([[    0.99814,   0.0016412,   0.0002196,  4.3763e-07,   2.991e-07]], dtype=float32), ['Psoriasis', 'eczema', 'normal skin', 'rosacea200', 'skin acne'], 'predicted class ==> Psoriasis')\n",
            "model output:  [[ 5.7982e-09  1.5677e-11  2.5034e-10     0.99763   0.0023705]]\n",
            "(3, array([[ 5.7982e-09,  1.5677e-11,  2.5034e-10,     0.99763,   0.0023705]], dtype=float32), ['Psoriasis', 'eczema', 'normal skin', 'rosacea200', 'skin acne'], 'predicted class ==> rosacea200')\n",
            "model output:  [[ 0.00028806  9.1231e-11  9.8019e-10     0.99885  0.00086051]]\n",
            "(3, array([[ 0.00028806,  9.1231e-11,  9.8019e-10,     0.99885,  0.00086051]], dtype=float32), ['Psoriasis', 'eczema', 'normal skin', 'rosacea200', 'skin acne'], 'predicted class ==> rosacea200')\n",
            "model output:  [[          1  2.2453e-07  1.3851e-10  1.9825e-07  4.9922e-13]]\n",
            "(0, array([[          1,  2.2453e-07,  1.3851e-10,  1.9825e-07,  4.9922e-13]], dtype=float32), ['Psoriasis', 'eczema', 'normal skin', 'rosacea200', 'skin acne'], 'predicted class ==> Psoriasis')\n",
            "model output:  [[    0.98652    0.013481  3.4658e-11   1.226e-06  1.8132e-08]]\n",
            "(0, array([[    0.98652,    0.013481,  3.4658e-11,   1.226e-06,  1.8132e-08]], dtype=float32), ['Psoriasis', 'eczema', 'normal skin', 'rosacea200', 'skin acne'], 'predicted class ==> Psoriasis')\n",
            "model output:  [[    0.99971    0.000245  1.7109e-11  4.6493e-05  2.0141e-09]]\n",
            "(0, array([[    0.99971,    0.000245,  1.7109e-11,  4.6493e-05,  2.0141e-09]], dtype=float32), ['Psoriasis', 'eczema', 'normal skin', 'rosacea200', 'skin acne'], 'predicted class ==> Psoriasis')\n"
          ]
        }
      ]
    },
    {
      "cell_type": "markdown",
      "source": [
        "### Eczema"
      ],
      "metadata": {
        "id": "VRPr1tyxVw0p"
      }
    },
    {
      "cell_type": "code",
      "source": [
        "c=0\n",
        "for i in os.listdir('/content/25-type-of-skin/1.Training/Eczema Photos'):\n",
        "  img= '/content/25-type-of-skin/1.Training/Eczema Photos/'+i\n",
        "  c+=1\n",
        "  print(classifier(img,model,[224,224]))\n",
        "  if c>15:\n",
        "    break"
      ],
      "metadata": {
        "colab": {
          "base_uri": "https://localhost:8080/"
        },
        "id": "NPEtz7AtRT3Z",
        "outputId": "055d1206-f329-49a5-de97-e87bc4491e6c"
      },
      "execution_count": null,
      "outputs": [
        {
          "output_type": "stream",
          "name": "stdout",
          "text": [
            "model output:  [[    0.62092  9.1926e-08  4.4008e-10     0.37908  4.7846e-09]]\n",
            "(0, array([[    0.62092,  9.1926e-08,  4.4008e-10,     0.37908,  4.7846e-09]], dtype=float32), ['Psoriasis', 'eczema', 'normal skin', 'rosacea200', 'skin acne'], 'predicted class ==> Psoriasis')\n",
            "model output:  [[    0.99978  0.00015745  3.7023e-09  6.6997e-05  1.2515e-10]]\n",
            "(0, array([[    0.99978,  0.00015745,  3.7023e-09,  6.6997e-05,  1.2515e-10]], dtype=float32), ['Psoriasis', 'eczema', 'normal skin', 'rosacea200', 'skin acne'], 'predicted class ==> Psoriasis')\n",
            "model output:  [[          1  6.8247e-09  2.5614e-18  2.3141e-09  1.7838e-15]]\n",
            "(0, array([[          1,  6.8247e-09,  2.5614e-18,  2.3141e-09,  1.7838e-15]], dtype=float32), ['Psoriasis', 'eczema', 'normal skin', 'rosacea200', 'skin acne'], 'predicted class ==> Psoriasis')\n",
            "model output:  [[    0.99992  8.5136e-07  3.6877e-16  7.4214e-05  4.5229e-16]]\n",
            "(0, array([[    0.99992,  8.5136e-07,  3.6877e-16,  7.4214e-05,  4.5229e-16]], dtype=float32), ['Psoriasis', 'eczema', 'normal skin', 'rosacea200', 'skin acne'], 'predicted class ==> Psoriasis')\n",
            "model output:  [[    0.99886   0.0011137   9.961e-11  3.0795e-05  5.9969e-10]]\n",
            "(0, array([[    0.99886,   0.0011137,   9.961e-11,  3.0795e-05,  5.9969e-10]], dtype=float32), ['Psoriasis', 'eczema', 'normal skin', 'rosacea200', 'skin acne'], 'predicted class ==> Psoriasis')\n",
            "model output:  [[    0.96089  0.00012216  5.8604e-10    0.038986  1.4756e-07]]\n",
            "(0, array([[    0.96089,  0.00012216,  5.8604e-10,    0.038986,  1.4756e-07]], dtype=float32), ['Psoriasis', 'eczema', 'normal skin', 'rosacea200', 'skin acne'], 'predicted class ==> Psoriasis')\n",
            "model output:  [[    0.99973  0.00026952  9.6882e-13  1.6358e-06  9.8493e-13]]\n",
            "(0, array([[    0.99973,  0.00026952,  9.6882e-13,  1.6358e-06,  9.8493e-13]], dtype=float32), ['Psoriasis', 'eczema', 'normal skin', 'rosacea200', 'skin acne'], 'predicted class ==> Psoriasis')\n",
            "model output:  [[     0.9872    0.011623   2.224e-10   0.0011755  2.3646e-08]]\n",
            "(0, array([[     0.9872,    0.011623,   2.224e-10,   0.0011755,  2.3646e-08]], dtype=float32), ['Psoriasis', 'eczema', 'normal skin', 'rosacea200', 'skin acne'], 'predicted class ==> Psoriasis')\n",
            "model output:  [[    0.99987  1.9394e-09  3.2811e-16  0.00012558  5.2482e-15]]\n",
            "(0, array([[    0.99987,  1.9394e-09,  3.2811e-16,  0.00012558,  5.2482e-15]], dtype=float32), ['Psoriasis', 'eczema', 'normal skin', 'rosacea200', 'skin acne'], 'predicted class ==> Psoriasis')\n",
            "model output:  [[    0.99599  3.4701e-07  4.8152e-12    0.004011  1.5498e-11]]\n",
            "(0, array([[    0.99599,  3.4701e-07,  4.8152e-12,    0.004011,  1.5498e-11]], dtype=float32), ['Psoriasis', 'eczema', 'normal skin', 'rosacea200', 'skin acne'], 'predicted class ==> Psoriasis')\n",
            "model output:  [[    0.94933  6.0375e-06  7.3236e-06     0.04827   0.0023854]]\n",
            "(0, array([[    0.94933,  6.0375e-06,  7.3236e-06,     0.04827,   0.0023854]], dtype=float32), ['Psoriasis', 'eczema', 'normal skin', 'rosacea200', 'skin acne'], 'predicted class ==> Psoriasis')\n",
            "model output:  [[    0.99829   0.0015841  1.3746e-10  0.00012148  1.4459e-06]]\n",
            "(0, array([[    0.99829,   0.0015841,  1.3746e-10,  0.00012148,  1.4459e-06]], dtype=float32), ['Psoriasis', 'eczema', 'normal skin', 'rosacea200', 'skin acne'], 'predicted class ==> Psoriasis')\n",
            "model output:  [[    0.89731  1.9767e-05  2.7326e-08     0.10267   1.564e-07]]\n",
            "(0, array([[    0.89731,  1.9767e-05,  2.7326e-08,     0.10267,   1.564e-07]], dtype=float32), ['Psoriasis', 'eczema', 'normal skin', 'rosacea200', 'skin acne'], 'predicted class ==> Psoriasis')\n",
            "model output:  [[    0.99998  5.3077e-08   5.097e-11  1.8647e-05  1.8531e-08]]\n",
            "(0, array([[    0.99998,  5.3077e-08,   5.097e-11,  1.8647e-05,  1.8531e-08]], dtype=float32), ['Psoriasis', 'eczema', 'normal skin', 'rosacea200', 'skin acne'], 'predicted class ==> Psoriasis')\n",
            "model output:  [[    0.99999  1.1713e-06  1.2891e-16  1.0456e-05  2.7229e-14]]\n",
            "(0, array([[    0.99999,  1.1713e-06,  1.2891e-16,  1.0456e-05,  2.7229e-14]], dtype=float32), ['Psoriasis', 'eczema', 'normal skin', 'rosacea200', 'skin acne'], 'predicted class ==> Psoriasis')\n",
            "model output:  [[          1  4.5271e-09  2.5781e-13   2.103e-07  8.8082e-14]]\n",
            "(0, array([[          1,  4.5271e-09,  2.5781e-13,   2.103e-07,  8.8082e-14]], dtype=float32), ['Psoriasis', 'eczema', 'normal skin', 'rosacea200', 'skin acne'], 'predicted class ==> Psoriasis')\n"
          ]
        }
      ]
    },
    {
      "cell_type": "markdown",
      "source": [
        "### Normal Skin"
      ],
      "metadata": {
        "id": "Wp_zPiE1VdNX"
      }
    },
    {
      "cell_type": "code",
      "source": [
        "c=0\n",
        "path='/content/25-type-of-skin/1.Training/Normal Skin'\n",
        "for i in os.listdir(path):\n",
        "  img= path+'/'+i\n",
        "  c+=1\n",
        "  print(classifier(img,model,[224,224]))\n",
        "  if c>15:\n",
        "    break"
      ],
      "metadata": {
        "colab": {
          "base_uri": "https://localhost:8080/"
        },
        "id": "qv4wfY6bR-NK",
        "outputId": "5b5cd4b6-a1d3-4b62-c6d1-8c1aa3b08f93"
      },
      "execution_count": null,
      "outputs": [
        {
          "output_type": "stream",
          "name": "stdout",
          "text": [
            "model output:  [[    0.32698  7.7424e-07     0.46205  8.9863e-06     0.21095]]\n",
            "(2, array([[    0.32698,  7.7424e-07,     0.46205,  8.9863e-06,     0.21095]], dtype=float32), ['Psoriasis', 'eczema', 'normal skin', 'rosacea200', 'skin acne'], 'predicted class ==> normal skin')\n",
            "model output:  [[    0.09999  1.8984e-05     0.89913  0.00027779  0.00058735]]\n",
            "(2, array([[    0.09999,  1.8984e-05,     0.89913,  0.00027779,  0.00058735]], dtype=float32), ['Psoriasis', 'eczema', 'normal skin', 'rosacea200', 'skin acne'], 'predicted class ==> normal skin')\n",
            "model output:  [[    0.25967   2.957e-06     0.73969  0.00042133  0.00021186]]\n",
            "(2, array([[    0.25967,   2.957e-06,     0.73969,  0.00042133,  0.00021186]], dtype=float32), ['Psoriasis', 'eczema', 'normal skin', 'rosacea200', 'skin acne'], 'predicted class ==> normal skin')\n",
            "model output:  [[    0.83614    0.098421    0.046732    0.013945   0.0047654]]\n",
            "(0, array([[    0.83614,    0.098421,    0.046732,    0.013945,   0.0047654]], dtype=float32), ['Psoriasis', 'eczema', 'normal skin', 'rosacea200', 'skin acne'], 'predicted class ==> Psoriasis')\n",
            "model output:  [[  0.0018297  1.6422e-05     0.99151  9.7982e-05   0.0065493]]\n",
            "(2, array([[  0.0018297,  1.6422e-05,     0.99151,  9.7982e-05,   0.0065493]], dtype=float32), ['Psoriasis', 'eczema', 'normal skin', 'rosacea200', 'skin acne'], 'predicted class ==> normal skin')\n",
            "model output:  [[  0.0015181  3.0054e-06     0.99784  5.4474e-06  0.00062922]]\n",
            "(2, array([[  0.0015181,  3.0054e-06,     0.99784,  5.4474e-06,  0.00062922]], dtype=float32), ['Psoriasis', 'eczema', 'normal skin', 'rosacea200', 'skin acne'], 'predicted class ==> normal skin')\n",
            "model output:  [[ 0.00015768  6.3646e-07     0.99977  2.1736e-07  7.0732e-05]]\n",
            "(2, array([[ 0.00015768,  6.3646e-07,     0.99977,  2.1736e-07,  7.0732e-05]], dtype=float32), ['Psoriasis', 'eczema', 'normal skin', 'rosacea200', 'skin acne'], 'predicted class ==> normal skin')\n",
            "model output:  [[  8.633e-05  3.5594e-09     0.99991  8.9714e-09  1.9891e-06]]\n",
            "(2, array([[  8.633e-05,  3.5594e-09,     0.99991,  8.9714e-09,  1.9891e-06]], dtype=float32), ['Psoriasis', 'eczema', 'normal skin', 'rosacea200', 'skin acne'], 'predicted class ==> normal skin')\n",
            "model output:  [[  0.0001617  2.9669e-08     0.99978  8.3807e-07  5.5296e-05]]\n",
            "(2, array([[  0.0001617,  2.9669e-08,     0.99978,  8.3807e-07,  5.5296e-05]], dtype=float32), ['Psoriasis', 'eczema', 'normal skin', 'rosacea200', 'skin acne'], 'predicted class ==> normal skin')\n",
            "model output:  [[     0.9938   0.0060674  4.3482e-07  4.2629e-06  0.00012377]]\n",
            "(0, array([[     0.9938,   0.0060674,  4.3482e-07,  4.2629e-06,  0.00012377]], dtype=float32), ['Psoriasis', 'eczema', 'normal skin', 'rosacea200', 'skin acne'], 'predicted class ==> Psoriasis')\n",
            "model output:  [[    0.84942  0.00014833  0.00099829     0.14928  0.00014899]]\n",
            "(0, array([[    0.84942,  0.00014833,  0.00099829,     0.14928,  0.00014899]], dtype=float32), ['Psoriasis', 'eczema', 'normal skin', 'rosacea200', 'skin acne'], 'predicted class ==> Psoriasis')\n",
            "model output:  [[ 0.00020667  8.7358e-06     0.99447   3.119e-05    0.005282]]\n",
            "(2, array([[ 0.00020667,  8.7358e-06,     0.99447,   3.119e-05,    0.005282]], dtype=float32), ['Psoriasis', 'eczema', 'normal skin', 'rosacea200', 'skin acne'], 'predicted class ==> normal skin')\n",
            "model output:  [[    0.97254   8.945e-07  6.5724e-06    0.027436  1.9607e-05]]\n",
            "(0, array([[    0.97254,   8.945e-07,  6.5724e-06,    0.027436,  1.9607e-05]], dtype=float32), ['Psoriasis', 'eczema', 'normal skin', 'rosacea200', 'skin acne'], 'predicted class ==> Psoriasis')\n",
            "model output:  [[  0.0040515  1.2532e-06     0.99516  4.8252e-05  0.00073777]]\n",
            "(2, array([[  0.0040515,  1.2532e-06,     0.99516,  4.8252e-05,  0.00073777]], dtype=float32), ['Psoriasis', 'eczema', 'normal skin', 'rosacea200', 'skin acne'], 'predicted class ==> normal skin')\n",
            "model output:  [[   0.017616  1.8948e-06     0.87015  0.00077696     0.11145]]\n",
            "(2, array([[   0.017616,  1.8948e-06,     0.87015,  0.00077696,     0.11145]], dtype=float32), ['Psoriasis', 'eczema', 'normal skin', 'rosacea200', 'skin acne'], 'predicted class ==> normal skin')\n",
            "model output:  [[   0.021137  8.0866e-05    0.017213    0.014509     0.94706]]\n",
            "(4, array([[   0.021137,  8.0866e-05,    0.017213,    0.014509,     0.94706]], dtype=float32), ['Psoriasis', 'eczema', 'normal skin', 'rosacea200', 'skin acne'], 'predicted class ==> skin acne')\n"
          ]
        }
      ]
    },
    {
      "cell_type": "markdown",
      "source": [
        "### Psoriasis"
      ],
      "metadata": {
        "id": "ujIYi9TaVQTT"
      }
    },
    {
      "cell_type": "code",
      "source": [
        "c=0\n",
        "path='/content/25-type-of-skin/1.Training/Psoriasis pictures Lichen Dermatosis and related diseases'\n",
        "for i in os.listdir(path):\n",
        "  img= path+'/'+i\n",
        "  c+=1\n",
        "  print(classifier(img,model,[224,224]))\n",
        "  if c>15:\n",
        "    break"
      ],
      "metadata": {
        "colab": {
          "base_uri": "https://localhost:8080/"
        },
        "id": "NlJPzt8jUBpi",
        "outputId": "6873a98b-d74a-450d-e3cc-98e3d5db98cb"
      },
      "execution_count": null,
      "outputs": [
        {
          "output_type": "stream",
          "name": "stdout",
          "text": [
            "model output:  [[    0.98618  2.7037e-05  3.0448e-11    0.013797  2.3192e-07]]\n",
            "(0, array([[    0.98618,  2.7037e-05,  3.0448e-11,    0.013797,  2.3192e-07]], dtype=float32), ['Psoriasis', 'eczema', 'normal skin', 'rosacea200', 'skin acne'], 'predicted class ==> Psoriasis')\n",
            "model output:  [[    0.78125  1.3814e-06   0.0001743  0.00054818     0.21803]]\n",
            "(0, array([[    0.78125,  1.3814e-06,   0.0001743,  0.00054818,     0.21803]], dtype=float32), ['Psoriasis', 'eczema', 'normal skin', 'rosacea200', 'skin acne'], 'predicted class ==> Psoriasis')\n",
            "model output:  [[    0.71369  2.3437e-05  1.4989e-08     0.28627  1.4821e-05]]\n",
            "(0, array([[    0.71369,  2.3437e-05,  1.4989e-08,     0.28627,  1.4821e-05]], dtype=float32), ['Psoriasis', 'eczema', 'normal skin', 'rosacea200', 'skin acne'], 'predicted class ==> Psoriasis')\n",
            "model output:  [[    0.99998   1.467e-05  3.6885e-10  3.0198e-08  6.1797e-06]]\n",
            "(0, array([[    0.99998,   1.467e-05,  3.6885e-10,  3.0198e-08,  6.1797e-06]], dtype=float32), ['Psoriasis', 'eczema', 'normal skin', 'rosacea200', 'skin acne'], 'predicted class ==> Psoriasis')\n",
            "model output:  [[    0.99463   0.0028154  2.0174e-08   0.0025516  3.4755e-09]]\n",
            "(0, array([[    0.99463,   0.0028154,  2.0174e-08,   0.0025516,  3.4755e-09]], dtype=float32), ['Psoriasis', 'eczema', 'normal skin', 'rosacea200', 'skin acne'], 'predicted class ==> Psoriasis')\n",
            "model output:  [[    0.99539  2.7429e-06  7.5099e-11   0.0046106  2.0173e-09]]\n",
            "(0, array([[    0.99539,  2.7429e-06,  7.5099e-11,   0.0046106,  2.0173e-09]], dtype=float32), ['Psoriasis', 'eczema', 'normal skin', 'rosacea200', 'skin acne'], 'predicted class ==> Psoriasis')\n",
            "model output:  [[    0.99904  0.00034212  2.2072e-07  0.00059792  1.5746e-05]]\n",
            "(0, array([[    0.99904,  0.00034212,  2.2072e-07,  0.00059792,  1.5746e-05]], dtype=float32), ['Psoriasis', 'eczema', 'normal skin', 'rosacea200', 'skin acne'], 'predicted class ==> Psoriasis')\n",
            "model output:  [[    0.52295  4.6592e-06  0.00062753      0.4647    0.011716]]\n",
            "(0, array([[    0.52295,  4.6592e-06,  0.00062753,      0.4647,    0.011716]], dtype=float32), ['Psoriasis', 'eczema', 'normal skin', 'rosacea200', 'skin acne'], 'predicted class ==> Psoriasis')\n",
            "model output:  [[    0.99987  5.0252e-07  5.2318e-05  7.4115e-05  2.5835e-08]]\n",
            "(0, array([[    0.99987,  5.0252e-07,  5.2318e-05,  7.4115e-05,  2.5835e-08]], dtype=float32), ['Psoriasis', 'eczema', 'normal skin', 'rosacea200', 'skin acne'], 'predicted class ==> Psoriasis')\n",
            "model output:  [[    0.99839  4.1811e-05  1.1144e-12   0.0015715  1.4988e-08]]\n",
            "(0, array([[    0.99839,  4.1811e-05,  1.1144e-12,   0.0015715,  1.4988e-08]], dtype=float32), ['Psoriasis', 'eczema', 'normal skin', 'rosacea200', 'skin acne'], 'predicted class ==> Psoriasis')\n",
            "model output:  [[    0.99986  4.7116e-07  9.2547e-05  4.7871e-05  2.0154e-07]]\n",
            "(0, array([[    0.99986,  4.7116e-07,  9.2547e-05,  4.7871e-05,  2.0154e-07]], dtype=float32), ['Psoriasis', 'eczema', 'normal skin', 'rosacea200', 'skin acne'], 'predicted class ==> Psoriasis')\n",
            "model output:  [[    0.19342  8.3316e-07  8.6493e-09     0.80658   3.022e-06]]\n",
            "(3, array([[    0.19342,  8.3316e-07,  8.6493e-09,     0.80658,   3.022e-06]], dtype=float32), ['Psoriasis', 'eczema', 'normal skin', 'rosacea200', 'skin acne'], 'predicted class ==> rosacea200')\n",
            "model output:  [[    0.99848  2.7435e-05   6.662e-13   0.0014881  9.6391e-11]]\n",
            "(0, array([[    0.99848,  2.7435e-05,   6.662e-13,   0.0014881,  9.6391e-11]], dtype=float32), ['Psoriasis', 'eczema', 'normal skin', 'rosacea200', 'skin acne'], 'predicted class ==> Psoriasis')\n",
            "model output:  [[    0.99995  9.8489e-08  7.1463e-10  4.9617e-05  3.5985e-09]]\n",
            "(0, array([[    0.99995,  9.8489e-08,  7.1463e-10,  4.9617e-05,  3.5985e-09]], dtype=float32), ['Psoriasis', 'eczema', 'normal skin', 'rosacea200', 'skin acne'], 'predicted class ==> Psoriasis')\n",
            "model output:  [[    0.98397  1.7249e-07  5.6898e-13    0.016031  2.2231e-10]]\n",
            "(0, array([[    0.98397,  1.7249e-07,  5.6898e-13,    0.016031,  2.2231e-10]], dtype=float32), ['Psoriasis', 'eczema', 'normal skin', 'rosacea200', 'skin acne'], 'predicted class ==> Psoriasis')\n",
            "model output:  [[    0.76519  7.0034e-06  3.0387e-06     0.23476  4.3153e-05]]\n",
            "(0, array([[    0.76519,  7.0034e-06,  3.0387e-06,     0.23476,  4.3153e-05]], dtype=float32), ['Psoriasis', 'eczema', 'normal skin', 'rosacea200', 'skin acne'], 'predicted class ==> Psoriasis')\n"
          ]
        }
      ]
    },
    {
      "cell_type": "markdown",
      "source": [
        "### Rosacea"
      ],
      "metadata": {
        "id": "pt6SsB4BYSgo"
      }
    },
    {
      "cell_type": "code",
      "source": [
        "path='/content/skin-disease-rt2-1/train/Rosacea'\n",
        "c=0\n",
        "for i in os.listdir(path):\n",
        "  img= path+'/'+i\n",
        "  c+=1\n",
        "  print(classifier(img,model,[224,224]))\n",
        "  if c>15:\n",
        "    break"
      ],
      "metadata": {
        "colab": {
          "base_uri": "https://localhost:8080/"
        },
        "id": "mgvDYe8rYR7T",
        "outputId": "d6a229c0-cab1-4164-d05f-1e45b48dea76"
      },
      "execution_count": null,
      "outputs": [
        {
          "output_type": "stream",
          "name": "stdout",
          "text": [
            "model output:  [[    0.01596  7.3644e-06  1.4394e-07     0.98401  2.7216e-05]]\n",
            "(3, array([[    0.01596,  7.3644e-06,  1.4394e-07,     0.98401,  2.7216e-05]], dtype=float32), ['Psoriasis', 'eczema', 'normal skin', 'rosacea200', 'skin acne'], 'predicted class ==> rosacea200')\n",
            "model output:  [[   3.68e-07  1.8149e-11  1.0007e-12           1  6.1072e-09]]\n",
            "(3, array([[   3.68e-07,  1.8149e-11,  1.0007e-12,           1,  6.1072e-09]], dtype=float32), ['Psoriasis', 'eczema', 'normal skin', 'rosacea200', 'skin acne'], 'predicted class ==> rosacea200')\n",
            "model output:  [[   0.014089  1.8682e-07   6.531e-08     0.98584  6.9717e-05]]\n",
            "(3, array([[   0.014089,  1.8682e-07,   6.531e-08,     0.98584,  6.9717e-05]], dtype=float32), ['Psoriasis', 'eczema', 'normal skin', 'rosacea200', 'skin acne'], 'predicted class ==> rosacea200')\n",
            "model output:  [[ 1.4762e-08  1.9356e-10  3.6721e-15           1  9.2792e-08]]\n",
            "(3, array([[ 1.4762e-08,  1.9356e-10,  3.6721e-15,           1,  9.2792e-08]], dtype=float32), ['Psoriasis', 'eczema', 'normal skin', 'rosacea200', 'skin acne'], 'predicted class ==> rosacea200')\n",
            "model output:  [[  0.0001983  1.2191e-08  2.1958e-11      0.9998  1.3058e-07]]\n",
            "(3, array([[  0.0001983,  1.2191e-08,  2.1958e-11,      0.9998,  1.3058e-07]], dtype=float32), ['Psoriasis', 'eczema', 'normal skin', 'rosacea200', 'skin acne'], 'predicted class ==> rosacea200')\n",
            "model output:  [[    0.78901  2.2154e-05  2.3696e-10     0.21097  6.8264e-07]]\n",
            "(0, array([[    0.78901,  2.2154e-05,  2.3696e-10,     0.21097,  6.8264e-07]], dtype=float32), ['Psoriasis', 'eczema', 'normal skin', 'rosacea200', 'skin acne'], 'predicted class ==> Psoriasis')\n",
            "model output:  [[ 3.0875e-05  8.8452e-08  5.3371e-08      0.9998  0.00016415]]\n",
            "(3, array([[ 3.0875e-05,  8.8452e-08,  5.3371e-08,      0.9998,  0.00016415]], dtype=float32), ['Psoriasis', 'eczema', 'normal skin', 'rosacea200', 'skin acne'], 'predicted class ==> rosacea200')\n",
            "model output:  [[    0.95565  3.7826e-09  2.5727e-15    0.044348  5.9225e-12]]\n",
            "(0, array([[    0.95565,  3.7826e-09,  2.5727e-15,    0.044348,  5.9225e-12]], dtype=float32), ['Psoriasis', 'eczema', 'normal skin', 'rosacea200', 'skin acne'], 'predicted class ==> Psoriasis')\n",
            "model output:  [[    0.20236   5.813e-05  9.5141e-08     0.79757  8.2734e-06]]\n",
            "(3, array([[    0.20236,   5.813e-05,  9.5141e-08,     0.79757,  8.2734e-06]], dtype=float32), ['Psoriasis', 'eczema', 'normal skin', 'rosacea200', 'skin acne'], 'predicted class ==> rosacea200')\n",
            "model output:  [[   0.061192   0.0027853  2.2963e-05     0.91694     0.01906]]\n",
            "(3, array([[   0.061192,   0.0027853,  2.2963e-05,     0.91694,     0.01906]], dtype=float32), ['Psoriasis', 'eczema', 'normal skin', 'rosacea200', 'skin acne'], 'predicted class ==> rosacea200')\n",
            "model output:  [[ 8.3566e-05  7.1456e-10  1.3242e-12     0.99992  3.2914e-07]]\n",
            "(3, array([[ 8.3566e-05,  7.1456e-10,  1.3242e-12,     0.99992,  3.2914e-07]], dtype=float32), ['Psoriasis', 'eczema', 'normal skin', 'rosacea200', 'skin acne'], 'predicted class ==> rosacea200')\n",
            "model output:  [[   0.013173   1.431e-06  4.1771e-07     0.98448   0.0023407]]\n",
            "(3, array([[   0.013173,   1.431e-06,  4.1771e-07,     0.98448,   0.0023407]], dtype=float32), ['Psoriasis', 'eczema', 'normal skin', 'rosacea200', 'skin acne'], 'predicted class ==> rosacea200')\n",
            "model output:  [[ 7.5902e-07  4.0159e-10  7.5493e-12           1  5.5407e-07]]\n",
            "(3, array([[ 7.5902e-07,  4.0159e-10,  7.5493e-12,           1,  5.5407e-07]], dtype=float32), ['Psoriasis', 'eczema', 'normal skin', 'rosacea200', 'skin acne'], 'predicted class ==> rosacea200')\n",
            "model output:  [[   0.014495  4.5244e-06  4.1121e-10     0.98549  1.0598e-05]]\n",
            "(3, array([[   0.014495,  4.5244e-06,  4.1121e-10,     0.98549,  1.0598e-05]], dtype=float32), ['Psoriasis', 'eczema', 'normal skin', 'rosacea200', 'skin acne'], 'predicted class ==> rosacea200')\n",
            "model output:  [[ 0.00024189  5.5996e-08   3.112e-08     0.99976  1.7647e-06]]\n",
            "(3, array([[ 0.00024189,  5.5996e-08,   3.112e-08,     0.99976,  1.7647e-06]], dtype=float32), ['Psoriasis', 'eczema', 'normal skin', 'rosacea200', 'skin acne'], 'predicted class ==> rosacea200')\n",
            "model output:  [[ 1.7906e-05  7.9064e-11  8.3948e-15     0.99998   9.583e-10]]\n",
            "(3, array([[ 1.7906e-05,  7.9064e-11,  8.3948e-15,     0.99998,   9.583e-10]], dtype=float32), ['Psoriasis', 'eczema', 'normal skin', 'rosacea200', 'skin acne'], 'predicted class ==> rosacea200')\n"
          ]
        }
      ]
    },
    {
      "cell_type": "markdown",
      "source": [
        "### Testing"
      ],
      "metadata": {
        "id": "e3cvl04DWCqp"
      }
    },
    {
      "cell_type": "code",
      "execution_count": null,
      "metadata": {
        "colab": {
          "base_uri": "https://localhost:8080/"
        },
        "id": "z5lq7DPWxIHo",
        "outputId": "18f5046d-b826-499f-ab3d-1170eee8111f"
      },
      "outputs": [
        {
          "output_type": "stream",
          "name": "stdout",
          "text": [
            "model output:  [[9.6066880e-01 6.1627898e-09 2.8309985e-06 3.9288789e-02 3.9538158e-05]]\n"
          ]
        },
        {
          "output_type": "execute_result",
          "data": {
            "text/plain": [
              "(0,\n",
              " array([[9.6066880e-01, 6.1627898e-09, 2.8309985e-06, 3.9288789e-02,\n",
              "         3.9538158e-05]], dtype=float32),\n",
              " ['Psoriasis', 'eczema', 'normal skin', 'rosacea200', 'skin acne'],\n",
              " 'predicted class ==> Psoriasis')"
            ]
          },
          "metadata": {},
          "execution_count": 16
        }
      ],
      "source": [
        "model_classes=['Psoriasis', 'eczema', 'normal skin', 'rosacea200', 'skin acne']\n",
        "classifier('/content/drive/MyDrive/data/train/psoriasis Scrapping/psoriasis_10.jpg',model,[224,224])\n"
      ]
    },
    {
      "cell_type": "code",
      "execution_count": null,
      "metadata": {
        "id": "u3_4YCtAxIKa",
        "colab": {
          "base_uri": "https://localhost:8080/"
        },
        "outputId": "a40c0040-636f-47ca-add0-7fb28818d093"
      },
      "outputs": [
        {
          "output_type": "stream",
          "name": "stdout",
          "text": [
            "model output:  [[6.2073718e-06 2.7333539e-07 1.1992586e-07 3.9363870e-01 6.0635471e-01]]\n"
          ]
        },
        {
          "output_type": "execute_result",
          "data": {
            "text/plain": [
              "(4,\n",
              " array([[6.2073718e-06, 2.7333539e-07, 1.1992586e-07, 3.9363870e-01,\n",
              "         6.0635471e-01]], dtype=float32),\n",
              " ['Psoriasis', 'eczema', 'normal skin', 'rosacea200', 'skin acne'],\n",
              " 'predicted class ==> skin acne')"
            ]
          },
          "metadata": {},
          "execution_count": 20
        }
      ],
      "source": [
        "classifier('/content/acne.jpg',model,[224,224])\n"
      ]
    },
    {
      "cell_type": "code",
      "source": [
        "classifier('/content/2.jpeg',model,[224,224])\n"
      ],
      "metadata": {
        "colab": {
          "base_uri": "https://localhost:8080/"
        },
        "id": "za42hQ1v_oyE",
        "outputId": "c41709a0-19c5-458c-b5d7-17fd8df2f6e2"
      },
      "execution_count": null,
      "outputs": [
        {
          "output_type": "stream",
          "name": "stdout",
          "text": [
            "model output:  [[3.4640634e-06 3.4598238e-10 9.9999654e-01 9.8588897e-09 1.9045636e-08]]\n"
          ]
        },
        {
          "output_type": "execute_result",
          "data": {
            "text/plain": [
              "(2,\n",
              " array([[3.4640634e-06, 3.4598238e-10, 9.9999654e-01, 9.8588897e-09,\n",
              "         1.9045636e-08]], dtype=float32),\n",
              " ['Psoriasis', 'eczema', 'normal skin', 'rosacea200', 'skin acne'],\n",
              " 'predicted class ==> normal skin')"
            ]
          },
          "metadata": {},
          "execution_count": 18
        }
      ]
    },
    {
      "cell_type": "code",
      "source": [
        "len(os.listdir('/content/Chronic Eczema'))"
      ],
      "metadata": {
        "id": "qEJUWgLpAuaL",
        "colab": {
          "base_uri": "https://localhost:8080/"
        },
        "outputId": "e668dff6-dd2e-4432-cc82-e9ea2feabbfb"
      },
      "execution_count": null,
      "outputs": [
        {
          "output_type": "execute_result",
          "data": {
            "text/plain": [
              "1068"
            ]
          },
          "metadata": {},
          "execution_count": 34
        }
      ]
    },
    {
      "cell_type": "code",
      "source": [
        "len(os.listdir('/content/Chronic Eczema'))\n"
      ],
      "metadata": {
        "colab": {
          "base_uri": "https://localhost:8080/"
        },
        "id": "UM9cjrFPQjGo",
        "outputId": "408d9d66-c89d-4f5b-f41a-8aff7cb6816c"
      },
      "execution_count": null,
      "outputs": [
        {
          "output_type": "execute_result",
          "data": {
            "text/plain": [
              "1068"
            ]
          },
          "metadata": {},
          "execution_count": 55
        }
      ]
    },
    {
      "cell_type": "code",
      "source": [
        "# shutil.rmtree('/content/SKIP-1')\n",
        "shutil.rmtree('/content/psoriasis-skin-dataset')"
      ],
      "metadata": {
        "id": "RMbL470tOyuc"
      },
      "execution_count": null,
      "outputs": []
    },
    {
      "cell_type": "code",
      "source": [
        "len(os.listdir('/content/skin-disease-rt2-1/train/Psoriasis'))"
      ],
      "metadata": {
        "id": "WPJBmoGnAudv",
        "colab": {
          "base_uri": "https://localhost:8080/"
        },
        "outputId": "5eba91bb-192f-4191-8180-a42937680344"
      },
      "execution_count": null,
      "outputs": [
        {
          "output_type": "execute_result",
          "data": {
            "text/plain": [
              "458"
            ]
          },
          "metadata": {},
          "execution_count": 60
        }
      ]
    },
    {
      "cell_type": "code",
      "source": [
        "combine_folders('/content/Eczema-Disease-Classification-Using-EfficientNet-Architecture-1/train/Subacute Eczema',\n",
        "                '/content/Eczema-Disease-Classification-Using-EfficientNet-Architecture-1/train/Chronic Eczema')\n"
      ],
      "metadata": {
        "colab": {
          "base_uri": "https://localhost:8080/"
        },
        "id": "BOOKkYM2OBQn",
        "outputId": "330b2560-7012-4364-b224-fc0883854d2f"
      },
      "execution_count": null,
      "outputs": [
        {
          "output_type": "stream",
          "name": "stdout",
          "text": [
            "len src_dir1 : 222\n",
            "len src_dir2 : 846\n"
          ]
        }
      ]
    },
    {
      "cell_type": "code",
      "source": [
        "combine_folders('/content/skin-1/train/normal skin',\n",
        "                '/content/CollectedDataV2/Normal Skin')\n"
      ],
      "metadata": {
        "colab": {
          "base_uri": "https://localhost:8080/"
        },
        "id": "yoFdiMjyirzR",
        "outputId": "9c2a4af9-e9b3-4ec7-a16f-1a55dcba145a"
      },
      "execution_count": null,
      "outputs": [
        {
          "output_type": "stream",
          "name": "stdout",
          "text": [
            "len src_dir1 : 273\n",
            "len src_dir2 : 1554\n"
          ]
        }
      ]
    },
    {
      "cell_type": "code",
      "source": [
        "combine_folders('/content/skin-1/valid/normal skin'\n",
        ",'/content/skin-1/train/normal skin')"
      ],
      "metadata": {
        "colab": {
          "base_uri": "https://localhost:8080/"
        },
        "id": "rm9G6BBtNm2k",
        "outputId": "89cad92b-26a6-4e44-b97d-667b9e6d2f72"
      },
      "execution_count": null,
      "outputs": [
        {
          "output_type": "stream",
          "name": "stdout",
          "text": [
            "len src_dir1 : 6\n",
            "len src_dir2 : 267\n"
          ]
        }
      ]
    },
    {
      "cell_type": "code",
      "source": [
        "combine_folders('/content/skin-1/valid/normal skin'\n",
        ",'/content/skin-1/train/normal skin')"
      ],
      "metadata": {
        "id": "X9-mBwUjQe0I"
      },
      "execution_count": null,
      "outputs": []
    },
    {
      "cell_type": "code",
      "source": [
        "dir='/content/drive/MyDrive/CollectedDataV2'\n",
        "for i in os.listdir(dir):\n",
        "  print(i.ljust(60), len(os.listdir(dir+'/'+i)))"
      ],
      "metadata": {
        "colab": {
          "base_uri": "https://localhost:8080/"
        },
        "id": "rQs5vTTgmK5_",
        "outputId": "d87b5a65-ebfe-4872-86cc-3f8d018e6401"
      },
      "execution_count": null,
      "outputs": [
        {
          "output_type": "stream",
          "name": "stdout",
          "text": [
            "skin acne                                                    290\n",
            "Chronic Eczema                                               1068\n",
            "Normal Skin                                                  1827\n",
            "Psoriasis pictures Lichen Dermatosis and related diseases    4742\n",
            "Psoriasis                                                    458\n",
            "Rosacea                                                      69\n",
            "Eczema Photos                                                1461\n",
            "Hair Loss Photos Alopecia and other Hair Diseases            252\n",
            "PSORIASIS                                                    1752\n",
            "Acne and Rosacea Photos                                      1134\n"
          ]
        }
      ]
    },
    {
      "cell_type": "code",
      "source": [
        "move_files('/content/drive/MyDrive/CollectedDataV2/PSORIASIS',\n",
        "           '/content/drive/MyDrive/CollectData/test/Pspriasis',copy=True)"
      ],
      "metadata": {
        "id": "W-x5BW-ZvFXX"
      },
      "execution_count": null,
      "outputs": []
    },
    {
      "cell_type": "code",
      "source": [
        "dir='/content/drive/MyDrive/CollectData/test'\n",
        "for i in os.listdir(dir):\n",
        "  print(i.ljust(60), len(os.listdir(dir+'/'+i)))"
      ],
      "metadata": {
        "colab": {
          "base_uri": "https://localhost:8080/"
        },
        "id": "aL-9yWw8oZXI",
        "outputId": "938b462b-31e7-43da-bafe-b8a38124954e"
      },
      "execution_count": null,
      "outputs": [
        {
          "output_type": "stream",
          "name": "stdout",
          "text": [
            "Psoriasis                                                    18\n",
            "skin acne                                                    11\n",
            "rosacea200                                                   0\n",
            "eczema                                                       1461\n",
            "normal skin                                                  31\n",
            ".ipynb_checkpoints                                           0\n"
          ]
        }
      ]
    }
  ],
  "metadata": {
    "colab": {
      "provenance": []
    },
    "kernelspec": {
      "display_name": "Python 3",
      "name": "python3"
    },
    "language_info": {
      "name": "python"
    }
  },
  "nbformat": 4,
  "nbformat_minor": 0
}