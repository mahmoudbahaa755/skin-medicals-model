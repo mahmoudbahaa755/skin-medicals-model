{
  "cells": [
    {
      "cell_type": "code",
      "execution_count": null,
      "metadata": {
        "id": "MkcIzv9UpgMp"
      },
      "outputs": [],
      "source": [
        "%%capture\n",
        "!pip install opendatasets roboflow\n",
        "\n",
        "import opendatasets as od\n",
        "from roboflow import Roboflow\n"
      ]
    },
    {
      "cell_type": "code",
      "execution_count": null,
      "metadata": {
        "id": "Vp_a5luH0dzu"
      },
      "outputs": [],
      "source": [
        "import shutil\n",
        "import matplotlib.pyplot as plt\n",
        "import numpy as np\n",
        "import tensorflow as tf\n",
        "from sklearn.utils.class_weight import compute_class_weight\n",
        "import numpy as np\n",
        "from tensorflow import keras\n",
        "from tensorflow.keras.preprocessing.image import ImageDataGenerator\n",
        "from tensorflow.keras.applications.vgg16 import  preprocess_input\n",
        "from tensorflow.keras.applications import ResNet50,VGG19\n",
        "from tensorflow.keras import layers as L\n",
        "from tensorflow.keras.layers.experimental import preprocessing\n",
        "from tensorflow.keras.models import Sequential\n",
        "import os\n",
        "if os.path.exists('/content/sample_data'):\n",
        "  shutil.rmtree('/content/sample_data')\n",
        "\n",
        "\n",
        "DATA_DIR='/content/drive/MyDrive/CollectData'\n"
      ]
    },
    {
      "cell_type": "code",
      "execution_count": null,
      "metadata": {
        "colab": {
          "base_uri": "https://localhost:8080/"
        },
        "id": "7_-m2OwCxzF6",
        "outputId": "520b7c49-c4c2-449b-f6c6-7cfe03d5f939"
      },
      "outputs": [
        {
          "output_type": "stream",
          "name": "stdout",
          "text": [
            "Drive already mounted at /content/drive; to attempt to forcibly remount, call drive.mount(\"/content/drive\", force_remount=True).\n"
          ]
        }
      ],
      "source": [
        "from google.colab import drive\n",
        "drive.mount('/content/drive')"
      ]
    },
    {
      "cell_type": "markdown",
      "metadata": {
        "id": "pyuwKrC0ynJp"
      },
      "source": [
        "### Downloading Data"
      ]
    },
    {
      "cell_type": "code",
      "execution_count": null,
      "metadata": {
        "colab": {
          "base_uri": "https://localhost:8080/"
        },
        "id": "M1-nQVAvp8oT",
        "outputId": "37126b27-52f8-4e14-a1c3-4e45bb2f0149"
      },
      "outputs": [
        {
          "name": "stdout",
          "output_type": "stream",
          "text": [
            "loading Roboflow workspace...\n",
            "loading Roboflow project...\n"
          ]
        },
        {
          "name": "stderr",
          "output_type": "stream",
          "text": [
            "Downloading Dataset Version Zip in skin-1 to folder:: 100%|██████████| 8398/8398 [00:00<00:00, 48146.27it/s]"
          ]
        },
        {
          "name": "stdout",
          "output_type": "stream",
          "text": [
            "\n"
          ]
        },
        {
          "name": "stderr",
          "output_type": "stream",
          "text": [
            "\n",
            "Extracting Dataset Version Zip to skin-1 in folder:: 100%|██████████| 1138/1138 [00:00<00:00, 7494.18it/s]"
          ]
        },
        {
          "name": "stdout",
          "output_type": "stream",
          "text": [
            "\rloading Roboflow workspace...\n"
          ]
        },
        {
          "name": "stderr",
          "output_type": "stream",
          "text": [
            "\n"
          ]
        },
        {
          "name": "stdout",
          "output_type": "stream",
          "text": [
            "\rloading Roboflow project...\n"
          ]
        },
        {
          "name": "stderr",
          "output_type": "stream",
          "text": [
            "Downloading Dataset Version Zip in skin-disease-rt2-1 to folder:: 100%|██████████| 46005/46005 [00:04<00:00, 11283.82it/s]"
          ]
        },
        {
          "name": "stdout",
          "output_type": "stream",
          "text": [
            "\n"
          ]
        },
        {
          "name": "stderr",
          "output_type": "stream",
          "text": [
            "\n",
            "Extracting Dataset Version Zip to skin-disease-rt2-1 in folder:: 100%|██████████| 1261/1261 [00:00<00:00, 1876.02it/s]"
          ]
        },
        {
          "name": "stdout",
          "output_type": "stream",
          "text": [
            "\rloading Roboflow workspace...\n"
          ]
        },
        {
          "name": "stderr",
          "output_type": "stream",
          "text": [
            "\n"
          ]
        },
        {
          "name": "stdout",
          "output_type": "stream",
          "text": [
            "\rloading Roboflow project...\n"
          ]
        },
        {
          "name": "stderr",
          "output_type": "stream",
          "text": [
            "Downloading Dataset Version Zip in SKIP-1 to folder:: 100%|██████████| 43360/43360 [00:02<00:00, 15977.24it/s]"
          ]
        },
        {
          "name": "stdout",
          "output_type": "stream",
          "text": [
            "\n"
          ]
        },
        {
          "name": "stderr",
          "output_type": "stream",
          "text": [
            "\n",
            "Extracting Dataset Version Zip to SKIP-1 in folder:: 100%|██████████| 801/801 [00:00<00:00, 1899.48it/s]"
          ]
        },
        {
          "name": "stdout",
          "output_type": "stream",
          "text": [
            "\rloading Roboflow workspace...\n"
          ]
        },
        {
          "name": "stderr",
          "output_type": "stream",
          "text": [
            "\n"
          ]
        },
        {
          "name": "stdout",
          "output_type": "stream",
          "text": [
            "\rloading Roboflow project...\n"
          ]
        },
        {
          "name": "stderr",
          "output_type": "stream",
          "text": [
            "Downloading Dataset Version Zip in Eczema-Disease-Classification-Using-EfficientNet-Architecture-1 to folder:: 100%|██████████| 8772/8772 [00:00<00:00, 10678.02it/s]"
          ]
        },
        {
          "name": "stdout",
          "output_type": "stream",
          "text": [
            "\n"
          ]
        },
        {
          "name": "stderr",
          "output_type": "stream",
          "text": [
            "\n",
            "Extracting Dataset Version Zip to Eczema-Disease-Classification-Using-EfficientNet-Architecture-1 in folder:: 100%|██████████| 1242/1242 [00:00<00:00, 1847.54it/s]\n"
          ]
        }
      ],
      "source": [
        "# !pip install roboflow\n",
        "\n",
        "# from roboflow import Roboflow\n",
        "# rf = Roboflow(api_key=\"aSWzkjnYOEuQEAEEW8D9\")\n",
        "# project = rf.workspace(\"skindisease\").project(\"skin-disease-rt2\")\n",
        "# dataset = project.version(1).download(\"folder\")\n",
        "\n",
        "\n",
        "rf = Roboflow(api_key=\"aSWzkjnYOEuQEAEEW8D9\")\n",
        "def download_dataset(workspace, project):\n",
        "    project = rf.workspace(workspace).project(project)\n",
        "    dataset = project.version(1).download(\"folder\")\n",
        "    return dataset\n",
        "\n",
        "\n",
        "dataset1 = download_dataset(\"classification\", \"skin-kmutr\")\n",
        "dataset2 = download_dataset(\"skindisease\", \"skin-disease-rt2\")\n",
        "dataset3 = download_dataset(\"skip\", \"skip\")\n",
        "dataset4 = download_dataset(\"mini-project-g4im3\", \"eczema-disease-classification-using-efficientnet-architecture\")"
      ]
    },
    {
      "cell_type": "code",
      "execution_count": null,
      "metadata": {
        "colab": {
          "base_uri": "https://localhost:8080/"
        },
        "id": "wjVnHiLapSh0",
        "outputId": "dae4943c-6706-4f33-8272-5fd1859947d3"
      },
      "outputs": [
        {
          "name": "stdout",
          "output_type": "stream",
          "text": [
            "Please provide your Kaggle credentials to download this dataset. Learn more: http://bit.ly/kaggle-creds\n",
            "Your Kaggle username: mahmoudeldebase\n",
            "Your Kaggle Key: ··········\n",
            "Downloading psoriasis-skin-dataset.zip to ./psoriasis-skin-dataset\n"
          ]
        },
        {
          "name": "stderr",
          "output_type": "stream",
          "text": [
            "100%|██████████| 199M/199M [00:02<00:00, 83.4MB/s]\n"
          ]
        },
        {
          "name": "stdout",
          "output_type": "stream",
          "text": [
            "\n"
          ]
        }
      ],
      "source": [
        "od.download(\"https://www.kaggle.com/datasets/pallapurajkumar/psoriasis-skin-dataset?select=PSORIASIS+AND+NORMAL+SKIN\")\n"
      ]
    },
    {
      "cell_type": "code",
      "execution_count": null,
      "metadata": {
        "colab": {
          "base_uri": "https://localhost:8080/"
        },
        "id": "QbtcjhI5IWJN",
        "outputId": "748fcbf6-b934-447d-e6e0-49cb30f6f7dd"
      },
      "outputs": [
        {
          "name": "stdout",
          "output_type": "stream",
          "text": [
            "Please provide your Kaggle credentials to download this dataset. Learn more: http://bit.ly/kaggle-creds\n",
            "Your Kaggle username: mahmoudeldebase\n",
            "Your Kaggle Key: ··········\n",
            "Your Kaggle Key: ··········\n",
            "Your Kaggle Key: ··········\n",
            "Your Kaggle Key: ··········\n",
            "Downloading 25-type-of-skin.zip to ./25-type-of-skin\n"
          ]
        },
        {
          "name": "stderr",
          "output_type": "stream",
          "text": [
            "100%|██████████| 1.50G/1.50G [00:20<00:00, 79.3MB/s]\n"
          ]
        },
        {
          "name": "stdout",
          "output_type": "stream",
          "text": [
            "\n"
          ]
        }
      ],
      "source": [
        "od.download(\"https://www.kaggle.com/datasets/farishamdani/25-type-of-skin/data\")\n",
        "# mahmoudeldebasebcc79a15e7113c8ad8e644b58603164fbcc79a15e7113c8ad8e644b58603164fbcc79a15e7113c8ad8e644b58603164f\n",
        "# bcc79a15e7113c8ad8e644b58603164f"
      ]
    },
    {
      "cell_type": "code",
      "execution_count": null,
      "metadata": {
        "colab": {
          "base_uri": "https://localhost:8080/",
          "height": 36
        },
        "id": "RJzJkI2TczyY",
        "outputId": "d53117af-da8c-46b5-ced5-57f1c7b29c6a"
      },
      "outputs": [
        {
          "data": {
            "application/vnd.google.colaboratory.intrinsic+json": {
              "type": "string"
            },
            "text/plain": [
              "'/content/drive/MyDrive/CollectData/train/Eczema Photos'"
            ]
          },
          "execution_count": 45,
          "metadata": {},
          "output_type": "execute_result"
        }
      ],
      "source": [
        "# shutil.move('/content/25-type-of-skin/1.Training/Acne and Rosacea Photos','/content/drive/MyDrive/CollectData/train')\n",
        "# shutil.move('/content/25-type-of-skin/1.Training/Hair Loss Photos Alopecia and other Hair Diseases','/content/drive/MyDrive/CollectData/train')\n",
        "# shutil.move('/content/25-type-of-skin/1.Training/Psoriasis pictures Lichen Dermatosis and related diseases','/content/drive/MyDrive/CollectData/train')\n",
        "# shutil.move('/content/25-type-of-skin/1.Training/Normal Skin','/content/drive/MyDrive/CollectData/train')\n",
        "# shutil.move('/content/25-type-of-skin/1.Training/Eczema Photos','/content/drive/MyDrive/CollectData/train')\n",
        "\n",
        "# shutil.move()"
      ]
    },
    {
      "cell_type": "code",
      "execution_count": null,
      "metadata": {
        "colab": {
          "base_uri": "https://localhost:8080/"
        },
        "id": "7Aw3N33PeaOw",
        "outputId": "5e4d98e0-e786-4234-8a1c-b194f4178923"
      },
      "outputs": [
        {
          "data": {
            "text/plain": [
              "252"
            ]
          },
          "execution_count": 46,
          "metadata": {},
          "output_type": "execute_result"
        }
      ],
      "source": [
        "len(os.listdir('/content/drive/MyDrive/CollectData/train/Hair Loss Photos Alopecia and other Hair Diseases'))"
      ]
    },
    {
      "cell_type": "code",
      "execution_count": null,
      "metadata": {
        "id": "XU0VCGD2q2NI"
      },
      "outputs": [],
      "source": [
        "for i in os.listdir(DATA_DIR):\n",
        "  if i.endswith('.jpg'):\n",
        "    os.remove(os.path.join(DATA_DIR, i))"
      ]
    },
    {
      "cell_type": "code",
      "execution_count": null,
      "metadata": {
        "colab": {
          "base_uri": "https://localhost:8080/"
        },
        "id": "16X9-Bhdr6C-",
        "outputId": "9b884949-25ab-4429-db08-7644504f0140"
      },
      "outputs": [
        {
          "data": {
            "text/plain": [
              "[]"
            ]
          },
          "execution_count": 53,
          "metadata": {},
          "output_type": "execute_result"
        }
      ],
      "source": [
        "os.listdir('/content/drive/MyDrive/CollectData/train/Hair Loss Photos Alopecia and other Hair Diseases')"
      ]
    },
    {
      "cell_type": "code",
      "execution_count": null,
      "metadata": {
        "id": "-keXAjevqk3H"
      },
      "outputs": [],
      "source": [
        "\n",
        "def combine_folders(src_dir1, src_dir2):\n",
        "    print('len src_dir1 :',len(os.listdir(src_dir1)))\n",
        "    print('len src_dir2 :',len(os.listdir(src_dir2)))\n",
        "    for src_dir in [src_dir1, src_dir2]:\n",
        "        for filename in os.listdir(src_dir):\n",
        "            if filename not in os.listdir(src_dir2):\n",
        "              shutil.move(os.path.join(src_dir, filename), src_dir2)\n",
        "    shutil.rmtree(src_dir1)\n"
      ]
    },
    {
      "cell_type": "code",
      "execution_count": null,
      "metadata": {
        "id": "9FZc3fZwNlEk"
      },
      "outputs": [],
      "source": []
    },
    {
      "cell_type": "code",
      "execution_count": null,
      "metadata": {
        "id": "dj_Ybe4asQtH"
      },
      "outputs": [],
      "source": [
        "combine_folders('/content/drive/MyDrive/CollectData/train/Hair Loss Photos Alopecia and other Hair Diseases'\n",
        "                ,'/content/drive/MyDrive/CollectData/train/scalp infection scrapping'\n",
        "                )"
      ]
    },
    {
      "cell_type": "code",
      "execution_count": null,
      "metadata": {
        "colab": {
          "base_uri": "https://localhost:8080/"
        },
        "id": "IJU_G9OLsRUm",
        "outputId": "f4441256-968d-4e33-8e60-1e384fd717f7"
      },
      "outputs": [
        {
          "name": "stdout",
          "output_type": "stream",
          "text": [
            "len src_dir1 : 0\n",
            "len src_dir2 : 4930\n"
          ]
        }
      ],
      "source": [
        "combine_folders('/content/drive/MyDrive/CollectData/train/Psoriasis pictures Lichen Dermatosis and related diseases',\n",
        "              '/content/drive/MyDrive/CollectData/train/Psoriasis'  )"
      ]
    },
    {
      "cell_type": "code",
      "execution_count": null,
      "metadata": {
        "id": "znDkR1PVseG7"
      },
      "outputs": [],
      "source": [
        "combine_folders('/content/drive/MyDrive/CollectData/train/Normal Skin',\n",
        "              '/content/drive/MyDrive/CollectData/train/Healthy-skin'  )"
      ]
    },
    {
      "cell_type": "code",
      "execution_count": null,
      "metadata": {
        "id": "PCOclBHfsm-e"
      },
      "outputs": [],
      "source": [
        "combine_folders('/content/drive/MyDrive/CollectData/train/Eczema Photos',\n",
        "              '/content/drive/MyDrive/CollectData/train/eczema'  )"
      ]
    },
    {
      "cell_type": "code",
      "execution_count": null,
      "metadata": {
        "id": "k-zR5O52wpZd"
      },
      "outputs": [],
      "source": [
        "if not os.path.exists('/content/CollectData'):\n",
        "  !mkdir CollectData\n",
        "\n"
      ]
    },
    {
      "cell_type": "code",
      "execution_count": null,
      "metadata": {
        "id": "UB6MVGHM0Rvx"
      },
      "outputs": [],
      "source": [
        "\n",
        "def move_files(source_dir, target_dir,copy=False):\n",
        "    files = os.listdir(source_dir)\n",
        "    for file in files:\n",
        "      if copy:\n",
        "        shutil.copy(os.path.join(source_dir, file), target_dir)\n",
        "      else:\n",
        "        shutil.move(os.path.join(source_dir, file), target_dir)"
      ]
    },
    {
      "cell_type": "markdown",
      "metadata": {
        "id": "ms_xvY85yqEA"
      },
      "source": [
        "### Cleaning Data\n"
      ]
    },
    {
      "cell_type": "code",
      "execution_count": null,
      "metadata": {
        "id": "BApgj-fL0R6N"
      },
      "outputs": [],
      "source": [
        "removing_unused_classes=['/content/skin-1/train/skin cancer','/content/skin-1/valid/skin cancer'\n",
        "                          '/content/skin-disease-rt2-1/train/Lichen Planus',\n",
        "                          '/content/skin-disease-rt2-1/train/Lichen Sclerosus',\n",
        "                         '/content/skin-disease-rt2-1/train/Lupus',\n",
        "                         '/content/skin-disease-rt2-1/train/Melanoma',\n",
        "                         '/content/skin-disease-rt2-1/train/Morphea',\n",
        "                         '/content/skin-disease-rt2-1/train/Tinea',\n",
        "                         '/content/skin-disease-rt2-1/train/Vitiligo',\n",
        "                         '/content/skin-disease-rt2-1/train/Vasculitis',\n",
        "                         '/content/skin-disease-rt2-1/train/Tumor Vascular',\n",
        "                         '/content/skin-disease-rt2-1/train/Scabies',\n",
        "                         '/content/skin-disease-rt2-1/train/Sclerosis Tuberous',\n",
        "                         '/content/skin-disease-rt2-1/train/Urticaria',\n",
        "                         '/content/skin-disease-rt2-1/train/Lichen Planus',\n",
        "                         '/content/skin-disease-rt2-1/train/Onychomycosis',\n",
        "                         '/content/skin-disease-rt2-1/train/Phototoxic Reaction',\n",
        "                         '/content/skin-disease-rt2-1/train/Pityriasis Rosea'\n",
        "\n",
        "]\n",
        "for dir in removing_unused_classes:\n",
        "  if os.path.exists(dir):\n",
        "    shutil.rmtree(dir)"
      ]
    },
    {
      "cell_type": "code",
      "execution_count": null,
      "metadata": {
        "id": "RSqe1wcJ5SGR"
      },
      "outputs": [],
      "source": [
        "tarin_data_dir='/content/drive/MyDrive/CollectData/train'\n",
        "tarin_data=os.listdir('/content/drive/MyDrive/CollectData/train')\n",
        "for i in tarin_data:\n",
        "  if '.jpg' in i:\n",
        "    os.remove(tarin_data_dir+'/'+i)"
      ]
    },
    {
      "cell_type": "code",
      "execution_count": null,
      "metadata": {
        "colab": {
          "base_uri": "https://localhost:8080/"
        },
        "id": "pArwB4Io5823",
        "outputId": "20af23df-ceb6-4b9a-ed47-b47d5d61d7c5"
      },
      "outputs": [
        {
          "output_type": "execute_result",
          "data": {
            "text/plain": [
              "['Rosacea',\n",
              " 'Psoriasis',\n",
              " 'Chronic Eczema',\n",
              " 'skin acne',\n",
              " 'PSORIASIS',\n",
              " 'Acne and Rosacea Photos',\n",
              " 'Eczema Photos',\n",
              " 'Hair Loss Photos Alopecia and other Hair Diseases',\n",
              " 'Normal Skin',\n",
              " 'Psoriasis pictures Lichen Dermatosis and related diseases']"
            ]
          },
          "metadata": {},
          "execution_count": 16
        }
      ],
      "source": [
        "tarin_data=os.listdir('/content/drive/MyDrive/CollectedDataV2')\n",
        "tarin_data"
      ]
    },
    {
      "cell_type": "code",
      "execution_count": null,
      "metadata": {
        "id": "nmAIv0Rc0R9r"
      },
      "outputs": [],
      "source": [
        "\n",
        "\n",
        "def move_files_and_remove_empty_folder(src_imgs, main_folder):\n",
        "    # Check if both the source and destination folders exist\n",
        "    if os.path.exists(src_imgs) and os.path.exists(main_folder):\n",
        "        # Get all files in the source folder\n",
        "        files = os.listdir(src_imgs)\n",
        "        for file in files:\n",
        "            # Construct full file path\n",
        "            src_file_path = os.path.join(src_imgs, file)\n",
        "            # Move each file to destination folder\n",
        "            shutil.move(src_file_path, main_folder)\n",
        "        # Remove source folder\n",
        "        os.rmdir(src_imgs)\n",
        "    else:\n",
        "        print(\"Either the source or the destination folder doesn't exist\")\n",
        "\n",
        "# eczema\n",
        "# main_folder = \"/content/CollectData/eczema\"\n",
        "\n",
        "# move_files_and_remove_empty_folder(\"/content/CollectData/eczema/Subacute Eczema\", main_folder)\n",
        "# move_files_and_remove_empty_folder(\"/content/CollectData/eczema/Hand Eczema\", main_folder)\n",
        "# move_files_and_remove_empty_folder(\"/content/CollectData/eczema/Chronic Eczema\", main_folder)\n",
        "# move_files_and_remove_empty_folder(\"/content/CollectData/eczema/Nummular Eczema\", main_folder)"
      ]
    },
    {
      "cell_type": "code",
      "execution_count": null,
      "metadata": {
        "id": "50aRRVMi1SCK"
      },
      "outputs": [],
      "source": [
        "\n",
        "def move_files_and_remove_empty_folder(src_imgs, main_folder):\n",
        "    # Check if both the source and destination folders exist\n",
        "    if os.path.exists(src_imgs) and os.path.exists(main_folder):\n",
        "        # Iterate over files in the source folder\n",
        "        for root, dirs, files in os.walk(src_imgs):\n",
        "            for file in files:\n",
        "                # Construct full file path\n",
        "                src_file_path = os.path.join(root, file)\n",
        "                # Construct destination file path\n",
        "                dest_file_path = os.path.join(main_folder, file)\n",
        "\n",
        "                # Check if the destination file already exists\n",
        "                if not os.path.exists(dest_file_path):\n",
        "                    # Move the file to the destination folder\n",
        "                    shutil.move(src_file_path, dest_file_path)\n",
        "                else:\n",
        "                    print(f\"File '{file}' already exists in the destination folder.\")\n",
        "\n",
        "        # Remove empty subfolders in the source folder\n",
        "        for root, dirs, files in os.walk(src_imgs, topdown=False):\n",
        "            for dir in dirs:\n",
        "                folder_path = os.path.join(root, dir)\n",
        "                try:\n",
        "                    os.rmdir(folder_path)\n",
        "                    print(f\"Removed empty folder: {folder_path}\")\n",
        "                except OSError as ex:\n",
        "                    print(f\"Error removing folder {folder_path}: {ex}\")\n",
        "\n",
        "        # Optionally, remove the source folder itself\n",
        "        os.rmdir(src_imgs)\n",
        "\n",
        "        print(\"Files moved successfully, and empty folders removed.\")\n",
        "    else:\n",
        "        print(\"Either the source or the destination folder doesn't exist\")\n",
        "\n",
        "# src_data = '/content/CollectData'\n",
        "# destination_folder = '/content/CollectData/eczema'\n",
        "# classes= os.listdir(src_data)\n",
        "# print(classes)\n",
        "# for cls in classes:\n",
        "#   inner_cls= os.listdir(os.path.join(cls,src_data))\n",
        "\n",
        "#   inner_cls_folder= cls+'/'+src_data\n",
        "\n",
        "\n",
        "#   for cls_folder in inner_cls:\n",
        "#     x=cls_folder+'/'+src_data\n",
        "\n",
        "#     move_files_and_remove_empty_folder(x,inner_cls_folder )\n",
        "\n",
        "\n"
      ]
    },
    {
      "cell_type": "code",
      "execution_count": null,
      "metadata": {
        "id": "s-TN53dkDQN8"
      },
      "outputs": [],
      "source": [
        "%%capture\n",
        "!pip install ultralytics\n",
        "\n",
        "from IPython import display\n",
        "display.clear_output()\n",
        "\n",
        "import ultralytics\n",
        "ultralytics.checks()"
      ]
    },
    {
      "cell_type": "code",
      "execution_count": null,
      "metadata": {
        "id": "mBAJcp3COoPb"
      },
      "outputs": [],
      "source": []
    },
    {
      "cell_type": "code",
      "execution_count": null,
      "metadata": {
        "id": "sVqrUGywDQQk"
      },
      "outputs": [],
      "source": [
        "!yolo task=classify mode=train model=yolov8m-cls.pt data='{DATA_DIR}' epochs=10 imgsz=128"
      ]
    },
    {
      "cell_type": "code",
      "execution_count": null,
      "metadata": {
        "colab": {
          "base_uri": "https://localhost:8080/"
        },
        "id": "UA4_RILrDQLW",
        "outputId": "70352370-8672-498e-b450-b2e31992a30e"
      },
      "outputs": [
        {
          "name": "stdout",
          "output_type": "stream",
          "text": [
            "0- Psoriasis                        18\n",
            "1- skin acne                        11\n",
            "2- rosacea200                       0\n",
            "3- eczema                           0\n",
            "4- normal skin                      31\n"
          ]
        }
      ],
      "source": [
        "src_data='/content/drive/MyDrive/CollectData/test'\n",
        "classes= os.listdir(src_data)\n",
        "for i,cls in enumerate(classes):\n",
        "  if '.jpg' not in cls:\n",
        "    print(f'{i}- {cls}   '.ljust(35),len(os.listdir(src_data+'/'+cls)))"
      ]
    },
    {
      "cell_type": "code",
      "execution_count": null,
      "metadata": {
        "colab": {
          "base_uri": "https://localhost:8080/"
        },
        "id": "e-aW_3g2ASRs",
        "outputId": "939e832f-9016-4eaa-ede6-8fc1f6c1bb3d"
      },
      "outputs": [
        {
          "output_type": "stream",
          "name": "stdout",
          "text": [
            "0- Rosacea                          69\n",
            "1- Psoriasis                        2210\n",
            "2- skin acne                        290\n",
            "3- Acne and Rosacea Photos          1134\n",
            "4- Eczema Photos                    2529\n",
            "5- Hair Loss Photos Alopecia and other Hair Diseases    252\n",
            "6- Normal Skin                      1827\n",
            "7- sampled                          0\n"
          ]
        }
      ],
      "source": [
        "src_data='/content/drive/MyDrive/medicalmodels/CollectedDataV2'\n",
        "classes= os.listdir(src_data)\n",
        "for i,cls in enumerate(classes):\n",
        "  if '.jpg' not in cls:\n",
        "    print(f'{i+1}- {cls}   '.ljust(35),len(os.listdir(src_data+'/'+cls)))"
      ]
    },
    {
      "cell_type": "code",
      "execution_count": null,
      "metadata": {
        "id": "hPcVY378Q4nx"
      },
      "outputs": [],
      "source": [
        "\n",
        "def limit_images_in_folder(cls,folder_path, overflow_folder, limit=300):\n",
        "    # Get all files in the folder\n",
        "    files = os.listdir(folder_path)\n",
        "\n",
        "    # If there are more than `limit` files, move the excess to `overflow_folder`\n",
        "    if len(files) > limit:\n",
        "        overflow = files[limit:]\n",
        "        for file in overflow:\n",
        "            # Construct full file paths\n",
        "            src_file_path = os.path.join(folder_path, file)\n",
        "            dest_file_path = os.path.join(overflow_folder, file)\n",
        "\n",
        "            # move the file to test data\n",
        "            shutil.move(src_file_path, dest_file_path+cls)\n",
        "\n",
        "\n",
        "# classes = os.listdir(DATA_DIR+'/train')\n",
        "# for cls in classes:\n",
        "#   limit_images_in_folder(cls,DATA_DIR+'/train/'+cls, DATA_DIR+'/train/')"
      ]
    },
    {
      "cell_type": "code",
      "execution_count": null,
      "metadata": {
        "id": "Y28-YO_RDQVs",
        "colab": {
          "base_uri": "https://localhost:8080/"
        },
        "outputId": "24675237-0218-4579-edfb-7dc0ebb7ff9e"
      },
      "outputs": [
        {
          "output_type": "stream",
          "name": "stdout",
          "text": [
            "Found 6652 images belonging to 8 classes.\n",
            "Found 1659 images belonging to 8 classes.\n"
          ]
        }
      ],
      "source": [
        "from tensorflow.keras.preprocessing.image import ImageDataGenerator\n",
        "from tensorflow.keras.applications.resnet50 import preprocess_input\n",
        "from sklearn.utils import class_weight\n",
        "import numpy as np\n",
        "import os\n",
        "import random\n",
        "# def prepare_data_to_model(data_dir: str, shape=(224, 224), class_mode='categorical', batch_size=32, shuffle=True, validation_split=0.2):\n",
        "#     datagen = ImageDataGenerator(\n",
        "#         preprocessing_function=preprocess_input,\n",
        "#         validation_split=validation_split\n",
        "#     )\n",
        "\n",
        "#     train_generator = datagen.flow_from_directory(\n",
        "#         data_dir,\n",
        "#         target_size=shape,\n",
        "#         batch_size=batch_size,\n",
        "#         class_mode=class_mode,\n",
        "#         shuffle=shuffle,\n",
        "#         subset='training'\n",
        "#     )\n",
        "\n",
        "#     validation_generator = datagen.flow_from_directory(\n",
        "#         data_dir,\n",
        "#         target_size=shape,\n",
        "#         batch_size=batch_size,\n",
        "#         class_mode=class_mode,\n",
        "#         shuffle=shuffle,\n",
        "#         subset='validation'\n",
        "#     )\n",
        "\n",
        "#     return train_generator, validation_generator\n",
        "# import os\n",
        "# import random\n",
        "# from tensorflow.keras.preprocessing.image import ImageDataGenerator\n",
        "# from tensorflow.keras.applications.resnet50 import preprocess_input\n",
        "\n",
        "def prepare_data_to_model(data_dir: str, shape=(224, 224), class_mode='categorical', batch_size=32, shuffle=True, validation_split=0.2, max_samples_per_class=400):\n",
        "    datagen = ImageDataGenerator(\n",
        "        preprocessing_function=preprocess_input,\n",
        "        validation_split=validation_split\n",
        "    )\n",
        "\n",
        "    # Get class names\n",
        "    classes = sorted(os.listdir(data_dir))\n",
        "\n",
        "    # Create a new directory for the sampled data\n",
        "    sampled_data_dir = os.path.join(data_dir, 'sampled')\n",
        "    os.makedirs(sampled_data_dir, exist_ok=True)\n",
        "\n",
        "    # Sample a fixed number of images from each class\n",
        "    # if max_samples_per_class != None:\n",
        "    #   for cls in classes:\n",
        "    #       cls_dir = os.path.join(data_dir, cls)\n",
        "    #       images = os.listdir(cls_dir)\n",
        "    #       sampled_images = random.sample(images, min(max_samples_per_class, len(images)))\n",
        "\n",
        "    #       # Copy the sampled images to the new directory\n",
        "    #       sampled_cls_dir = os.path.join(sampled_data_dir, cls)\n",
        "    #       os.makedirs(sampled_cls_dir, exist_ok=True)\n",
        "    #       for image in sampled_images:\n",
        "    #           shutil.copy(os.path.join(cls_dir, image), sampled_cls_dir)\n",
        "\n",
        "    train_generator = datagen.flow_from_directory(\n",
        "        data_dir,\n",
        "        target_size=shape,\n",
        "        batch_size=batch_size,\n",
        "        class_mode=class_mode,\n",
        "        shuffle=shuffle,\n",
        "        subset='training'\n",
        "    )\n",
        "\n",
        "    validation_generator = datagen.flow_from_directory(\n",
        "        data_dir,\n",
        "        target_size=shape,\n",
        "        batch_size=batch_size,\n",
        "        class_mode=class_mode,\n",
        "        shuffle=shuffle,\n",
        "        subset='validation'\n",
        "    )\n",
        "\n",
        "    return train_generator, validation_generator\n",
        "def get_class_weights(generator):\n",
        "    # Calculate class weights\n",
        "    counter = np.bincount(generator.classes)\n",
        "    max_val = float(max(counter))\n",
        "    class_weights = {class_id : max_val/num_images for class_id, num_images in enumerate(counter)}\n",
        "\n",
        "    return class_weights\n",
        "\n",
        "train_generator, validation_generator = prepare_data_to_model('/content/drive/MyDrive/medicalmodels/CollectedDataV2',max_samples_per_class=None, batch_size=128)"
      ]
    },
    {
      "cell_type": "code",
      "source": [
        "len(os.listdir('/content/drive/MyDrive/medicalmodels/CollectedDataV2'))"
      ],
      "metadata": {
        "id": "DSEiWeJMFama",
        "colab": {
          "base_uri": "https://localhost:8080/"
        },
        "outputId": "ab443944-e7ad-430e-aae4-43b5dab2524e"
      },
      "execution_count": null,
      "outputs": [
        {
          "output_type": "execute_result",
          "data": {
            "text/plain": [
              "7"
            ]
          },
          "metadata": {},
          "execution_count": 9
        }
      ]
    },
    {
      "cell_type": "code",
      "execution_count": null,
      "metadata": {
        "colab": {
          "base_uri": "https://localhost:8080/"
        },
        "id": "26-8IFfqPMm8",
        "outputId": "1df8182f-f35f-4cb0-ef50-7a1fac7ea05e"
      },
      "outputs": [
        {
          "output_type": "stream",
          "name": "stderr",
          "text": [
            "<ipython-input-18-87cc66a4c293>:86: RuntimeWarning: divide by zero encountered in divide\n",
            "  class_weights = {class_id : max_val/num_images for class_id, num_images in enumerate(counter)}\n"
          ]
        },
        {
          "output_type": "execute_result",
          "data": {
            "text/plain": [
              "{0: 2.2290748898678414,\n",
              " 1: 1.0,\n",
              " 2: 10.01980198019802,\n",
              " 3: 1.3844049247606018,\n",
              " 4: 1.1447963800904977,\n",
              " 5: 36.142857142857146,\n",
              " 6: inf,\n",
              " 7: 8.724137931034482}"
            ]
          },
          "metadata": {},
          "execution_count": 19
        }
      ],
      "source": [
        "class_weights = get_class_weights(train_generator)\n",
        "class_weights"
      ]
    },
    {
      "cell_type": "code",
      "execution_count": null,
      "metadata": {
        "id": "glVmbo3rPMkL",
        "colab": {
          "base_uri": "https://localhost:8080/"
        },
        "outputId": "cc9e3ed7-a0b4-4452-d86b-8f03d42cc04b"
      },
      "outputs": [
        {
          "output_type": "stream",
          "name": "stdout",
          "text": [
            "mkdir: cannot create directory ‘/content/callbacks’: File exists\n"
          ]
        }
      ],
      "source": [
        "from tensorflow.keras.callbacks import ModelCheckpoint,EarlyStopping\n",
        "early_stopping = EarlyStopping(monitor='loss', patience=15)\n",
        "\n",
        "checkpoint_path='/content/callbacks'\n",
        "!mkdir {checkpoint_path}\n",
        "checkpoint= ModelCheckpoint(\n",
        "            checkpoint_path,\n",
        "            save_weights_only=True, # save only the model weights\n",
        "            monitor=\"val_loss\", # save the model weights which score the best validation accuracy\n",
        "            save_best_only=True)\n"
      ]
    },
    {
      "cell_type": "code",
      "execution_count": null,
      "metadata": {
        "colab": {
          "base_uri": "https://localhost:8080/"
        },
        "id": "pCDbMpMEzOdo",
        "outputId": "ca64d644-280b-421f-ea5a-c80203bc1369"
      },
      "outputs": [
        {
          "output_type": "execute_result",
          "data": {
            "text/plain": [
              "['Acne and Rosacea Photos',\n",
              " 'Eczema Photos',\n",
              " 'Hair Loss Photos Alopecia and other Hair Diseases',\n",
              " 'Normal Skin',\n",
              " 'Psoriasis',\n",
              " 'Rosacea',\n",
              " 'sampled',\n",
              " 'skin acne']"
            ]
          },
          "metadata": {},
          "execution_count": 21
        }
      ],
      "source": [
        "model_classes= list(train_generator.class_indices.keys())\n",
        "model_classes"
      ]
    },
    {
      "cell_type": "code",
      "execution_count": null,
      "metadata": {
        "id": "llvmBLV8PMpk"
      },
      "outputs": [],
      "source": [
        "data_augmentation = Sequential([\n",
        "  preprocessing.RandomZoom(0.3),\n",
        "  preprocessing.RandomWidth(0.3),\n",
        "  preprocessing.RandomHeight(0.3),\n",
        "  preprocessing.RandomFlip(\"vertical\"),\n",
        "  preprocessing.RandomFlip(\"horizontal\"),\n",
        "  tf.keras.layers.RandomContrast(0.2, seed=None),\n",
        "  # preprocessing.RandomRotation(0.2),\n",
        "], name='data-augmentiation-layer')\n",
        "\n",
        "base_model = ResNet50(weights='imagenet',include_top=False)\n",
        "base_model.trainable = False\n",
        "\n",
        "# for layer in base_model.layers[-4:]:\n",
        "#     layer.trainable = True\n",
        "\n",
        "input_layer = L.Input(shape=(224, 224, 3), name='input_layer')\n",
        "x = data_augmentation(input_layer)\n",
        "x = base_model(x)\n",
        "x = L.GlobalAveragePooling2D(name='minimazie_dimentions')(x)\n",
        "x = L.Dense(256, activation='relu', name='added_layer_1')(x)\n",
        "x = L.Dropout(0.3)(x)\n",
        "x = L.Dense(128, activation='relu', name='added_layer_2')(x)\n",
        "\n",
        "output_layer = L.Dense(len(model_classes), activation='softmax', name='output_layer')(x)\n",
        "\n",
        "model = keras.Model(input_layer, output_layer)\n",
        "\n",
        "model.compile(loss='categorical_crossentropy',\n",
        "              optimizer=keras.optimizers.Adam(learning_rate=0.001),\n",
        "              metrics=['acc'])\n",
        "\n",
        "history = model.fit(train_generator,\n",
        "                    validation_data=validation_generator,\n",
        "                    epochs=239,\n",
        "                    callbacks=[\n",
        "                        checkpoint,\n",
        "                        early_stopping\n",
        "                    ]\n",
        "                    ,  class_weight=class_weights)"
      ]
    },
    {
      "cell_type": "code",
      "source": [
        "history2 = model.fit(train_generator,\n",
        "                    validation_data=validation_generator,\n",
        "                    epochs=60,\n",
        "                    callbacks=[\n",
        "                        checkpoint,\n",
        "                        early_stopping\n",
        "                    ]\n",
        "                    ,  class_weight=class_weights)"
      ],
      "metadata": {
        "id": "PprqnmfEpyUj"
      },
      "execution_count": null,
      "outputs": []
    },
    {
      "cell_type": "code",
      "source": [
        "model.save('/content/drive/MyDrive/model/allModels7clsV3allData.keras')"
      ],
      "metadata": {
        "id": "ahJj2_QBXmLr"
      },
      "execution_count": null,
      "outputs": []
    },
    {
      "cell_type": "code",
      "execution_count": null,
      "metadata": {
        "id": "TkXrIk3M8e5F",
        "colab": {
          "base_uri": "https://localhost:8080/"
        },
        "outputId": "c82817bb-407e-4e26-b3bb-2b3a40c03d60"
      },
      "outputs": [
        {
          "output_type": "execute_result",
          "data": {
            "text/plain": [
              "['Acne and Rosacea Photos',\n",
              " 'Eczema Photos',\n",
              " 'Hair Loss Photos Alopecia and other Hair Diseases',\n",
              " 'Normal Skin',\n",
              " 'Psoriasis',\n",
              " 'Rosacea',\n",
              " 'sampled',\n",
              " 'skin acne']"
            ]
          },
          "metadata": {},
          "execution_count": 22
        }
      ],
      "source": [
        "model_classes"
      ]
    },
    {
      "cell_type": "code",
      "execution_count": null,
      "metadata": {
        "colab": {
          "base_uri": "https://localhost:8080/"
        },
        "id": "JhhlHmEsMz2R",
        "outputId": "644bb347-bea9-4d29-9e12-ad6cdea2bae4"
      },
      "outputs": [
        {
          "data": {
            "text/plain": [
              "['rosacea200',\n",
              " 'scalp infection scrapping',\n",
              " 'skin acne',\n",
              " 'Psoriasis',\n",
              " 'Healthy-skin',\n",
              " 'eczema']"
            ]
          },
          "execution_count": 20,
          "metadata": {},
          "output_type": "execute_result"
        }
      ],
      "source": [
        "shutil.rmtree('/content/test/normal skin')\n",
        "\n",
        "os.listdir('/content/drive/MyDrive/CollectData/train')"
      ]
    },
    {
      "cell_type": "code",
      "execution_count": null,
      "metadata": {
        "id": "TFUtpuXsPxMf"
      },
      "outputs": [],
      "source": [
        "test_dir='/content/drive/MyDrive/medicalmodels/CollectedDataV2'\n"
      ]
    },
    {
      "cell_type": "code",
      "execution_count": null,
      "metadata": {
        "colab": {
          "base_uri": "https://localhost:8080/"
        },
        "id": "uXUmPi31SEAn",
        "outputId": "fbc041fe-6de0-4c95-ece6-6e872b8a67ed"
      },
      "outputs": [
        {
          "output_type": "stream",
          "name": "stdout",
          "text": [
            "Found 8311 images belonging to 8 classes.\n"
          ]
        }
      ],
      "source": [
        "datagen = ImageDataGenerator(\n",
        "        preprocessing_function=preprocess_input,\n",
        "\n",
        "    )\n",
        "test_generator = datagen.flow_from_directory(\n",
        "        test_dir,\n",
        "        target_size=[224,224],\n",
        "        batch_size=32,\n",
        "        class_mode='categorical',\n",
        "        shuffle=True,\n",
        "\n",
        "    )"
      ]
    },
    {
      "cell_type": "code",
      "source": [
        "clsses= list(test_generator.class_indices.keys())\n",
        "clsses"
      ],
      "metadata": {
        "colab": {
          "base_uri": "https://localhost:8080/"
        },
        "id": "IudRfxUvMJAi",
        "outputId": "bd51f1fa-fe93-4169-a453-8462570cf1e3"
      },
      "execution_count": null,
      "outputs": [
        {
          "output_type": "execute_result",
          "data": {
            "text/plain": [
              "['Acne and Rosacea Photos',\n",
              " 'Eczema Photos',\n",
              " 'Hair Loss Photos Alopecia and other Hair Diseases',\n",
              " 'Normal Skin',\n",
              " 'Psoriasis',\n",
              " 'Rosacea',\n",
              " 'sampled',\n",
              " 'skin acne']"
            ]
          },
          "metadata": {},
          "execution_count": 30
        }
      ]
    },
    {
      "cell_type": "code",
      "source": [
        "model = tf.keras.models.load_model('/content/drive/MyDrive/allModels7clsV3allData.keras')"
      ],
      "metadata": {
        "id": "NOj0BEf5L1LN"
      },
      "execution_count": null,
      "outputs": []
    },
    {
      "cell_type": "code",
      "execution_count": null,
      "metadata": {
        "colab": {
          "base_uri": "https://localhost:8080/"
        },
        "id": "WfxiZQOSSjSO",
        "outputId": "bb11914c-1e11-4de9-bf2c-b433e3ce24bb"
      },
      "outputs": [
        {
          "output_type": "stream",
          "name": "stdout",
          "text": [
            "260/260 [==============================] - 2667s 10s/step - loss: 1.2918 - acc: 0.7480\n"
          ]
        }
      ],
      "source": [
        "loss, accuracy = model.evaluate(test_generator)\n"
      ]
    },
    {
      "cell_type": "code",
      "execution_count": null,
      "metadata": {
        "colab": {
          "base_uri": "https://localhost:8080/"
        },
        "id": "BCe4L_3oXWiO",
        "outputId": "63eed766-0ab2-4779-9097-a71cf303cff2"
      },
      "outputs": [
        {
          "name": "stderr",
          "output_type": "stream",
          "text": [
            "/usr/local/lib/python3.10/dist-packages/keras/src/engine/training.py:3079: UserWarning: You are saving your model as an HDF5 file via `model.save()`. This file format is considered legacy. We recommend using instead the native Keras format, e.g. `model.save('my_model.keras')`.\n",
            "  saving_api.save_model(\n"
          ]
        }
      ],
      "source": [
        "model.save('/content/drive/MyDrive/models/allModels5cls.h5')\n"
      ]
    },
    {
      "cell_type": "code",
      "execution_count": null,
      "metadata": {
        "colab": {
          "base_uri": "https://localhost:8080/",
          "height": 865
        },
        "id": "MFYMrai_PMu7",
        "outputId": "ae9ba747-4f2e-4502-90a1-7030434c4238"
      },
      "outputs": [
        {
          "output_type": "execute_result",
          "data": {
            "image/png": "[encoded data removed]",
            "text/plain": [
              "<IPython.core.display.Image object>"
            ]
          },
          "metadata": {},
          "execution_count": 28
        }
      ],
      "source": [
        "from tensorflow.keras.utils import plot_model\n",
        "\n",
        "plot_model(model, to_file='model.png', show_shapes=True, show_layer_names=True)"
      ]
    },
    {
      "cell_type": "code",
      "execution_count": null,
      "metadata": {
        "id": "Nw46fTnQxH_s"
      },
      "outputs": [],
      "source": [
        "\n",
        "history_dict = model.history\n",
        "\n",
        "# Plot accuracy\n",
        "plt.figure(figsize=(10,6))\n",
        "plt.plot(history_dict['acc'])\n",
        "plt.plot(history_dict['val_acc'])\n",
        "plt.title('Model acc')\n",
        "plt.ylabel('acc')\n",
        "plt.xlabel('Epoch')\n",
        "plt.legend(['Train', 'Val'], loc='upper left')\n",
        "plt.show()\n",
        "\n"
      ]
    },
    {
      "cell_type": "code",
      "execution_count": null,
      "metadata": {
        "colab": {
          "base_uri": "https://localhost:8080/",
          "height": 436
        },
        "id": "auk-HLmaxTjB",
        "outputId": "e5266e62-3ad9-4e9e-cb15-da4bca7fc9d6"
      },
      "outputs": [
        {
          "data": {
            "image/png": "[encoded data removed]",
            "text/plain": [
              "<Figure size 1000x600 with 1 Axes>"
            ]
          },
          "metadata": {},
          "output_type": "display_data"
        }
      ],
      "source": [
        "\n",
        "plt.figure(figsize=(10,6))\n",
        "plt.plot(history_dict['loss'])\n",
        "plt.plot(history_dict['val_loss'])\n",
        "plt.title('Model loss')\n",
        "plt.ylabel('Loss')\n",
        "plt.xlabel('Epoch')\n",
        "plt.legend(['Train', 'Val'], loc='upper left')\n",
        "plt.show()"
      ]
    },
    {
      "cell_type": "code",
      "execution_count": null,
      "metadata": {
        "colab": {
          "base_uri": "https://localhost:8080/"
        },
        "id": "iTNAwoCm-NVk",
        "outputId": "38a0964d-3234-45cc-8d7c-e0a3316fd512"
      },
      "outputs": [
        {
          "name": "stderr",
          "output_type": "stream",
          "text": [
            "WARNING:tensorflow:Error in loading the saved optimizer state. As a result, your model is starting with a freshly initialized optimizer.\n"
          ]
        }
      ],
      "source": [
        "model=tf.keras.models.load_model('/content/drive/MyDrive/models/allModels5cls.h5')"
      ]
    },
    {
      "cell_type": "code",
      "execution_count": null,
      "metadata": {
        "id": "L1BszFRHxICi"
      },
      "outputs": [],
      "source": [
        "import cv2\n",
        "def classifier(img,model,shape)-> int:\n",
        "    ''''''\n",
        "    if img is None:\n",
        "        raise ValueError(\"Image should not be None\")\n",
        "\n",
        "    img=cv2.imread(img)\n",
        "\n",
        "    img=cv2.resize(img,dsize=shape)\n",
        "    # img_rgb=cv2.cvtColor(img,cv2.COLOR_BGR2RGB)\n",
        "\n",
        "    img=np.expand_dims(img,axis=0)\n",
        "    pred=model.predict(img,verbose=0)\n",
        "    idx=np.argmax(pred)\n",
        "    print('model output: ',pred)\n",
        "\n",
        "    # values={k:i for i,k in train_batches.class_indices.items()}\n",
        "    # print(values[idx])\n",
        "    return idx,pred,model_classes,f'predicted class ==> {model_classes[idx]}'"
      ]
    },
    {
      "cell_type": "code",
      "execution_count": null,
      "metadata": {
        "id": "8dhXjL9ExIFI"
      },
      "outputs": [],
      "source": [
        "\n",
        "img= '/content/drive/MyDrive/data/scalp infection scrapping/scalp infection_0.jpg'\n",
        "img2= '/content/drive/MyDrive/data/scalp infection scrapping/scalp infection_1.jpg'\n",
        "img3= '/content/drive/MyDrive/data/scalp infection scrapping/scalp infection_10.jpg'\n",
        "# img4= '/content/eczema.jpg'\n",
        "classifier(img,model,[224,224])"
      ]
    },
    {
      "cell_type": "markdown",
      "metadata": {
        "id": "Q489lJ7-XpGT"
      },
      "source": [
        "### acne"
      ]
    },
    {
      "cell_type": "code",
      "execution_count": null,
      "metadata": {
        "colab": {
          "base_uri": "https://localhost:8080/"
        },
        "id": "5-4FiLOVWIL4",
        "outputId": "ddaf71b6-681c-4806-e9f1-99538a80fec4"
      },
      "outputs": [
        {
          "name": "stdout",
          "output_type": "stream",
          "text": [
            "model output:  [[ 0.00031837  1.4535e-07  5.8483e-06    0.024599     0.97508]]\n",
            "(4, array([[ 0.00031837,  1.4535e-07,  5.8483e-06,    0.024599,     0.97508]], dtype=float32), ['Psoriasis', 'eczema', 'normal skin', 'rosacea200', 'skin acne'], 'predicted class ==> skin acne')\n",
            "model output:  [[ 2.4105e-05  7.3419e-09    0.096358  1.5004e-05      0.9036]]\n",
            "(4, array([[ 2.4105e-05,  7.3419e-09,    0.096358,  1.5004e-05,      0.9036]], dtype=float32), ['Psoriasis', 'eczema', 'normal skin', 'rosacea200', 'skin acne'], 'predicted class ==> skin acne')\n",
            "model output:  [[  0.0012329  5.6396e-07  0.00024918   0.0098563     0.98866]]\n",
            "(4, array([[  0.0012329,  5.6396e-07,  0.00024918,   0.0098563,     0.98866]], dtype=float32), ['Psoriasis', 'eczema', 'normal skin', 'rosacea200', 'skin acne'], 'predicted class ==> skin acne')\n",
            "model output:  [[    0.45839   0.0010689   0.0084608     0.17086     0.36122]]\n",
            "(0, array([[    0.45839,   0.0010689,   0.0084608,     0.17086,     0.36122]], dtype=float32), ['Psoriasis', 'eczema', 'normal skin', 'rosacea200', 'skin acne'], 'predicted class ==> Psoriasis')\n",
            "model output:  [[ 6.0099e-08  2.5922e-11  6.0988e-14  1.0917e-05     0.99999]]\n",
            "(4, array([[ 6.0099e-08,  2.5922e-11,  6.0988e-14,  1.0917e-05,     0.99999]], dtype=float32), ['Psoriasis', 'eczema', 'normal skin', 'rosacea200', 'skin acne'], 'predicted class ==> skin acne')\n",
            "model output:  [[ 3.8255e-08  7.6724e-09   8.149e-08  3.8646e-05     0.99996]]\n",
            "(4, array([[ 3.8255e-08,  7.6724e-09,   8.149e-08,  3.8646e-05,     0.99996]], dtype=float32), ['Psoriasis', 'eczema', 'normal skin', 'rosacea200', 'skin acne'], 'predicted class ==> skin acne')\n",
            "model output:  [[ 3.2578e-07  9.3943e-10  4.2296e-05  2.3291e-06     0.99996]]\n",
            "(4, array([[ 3.2578e-07,  9.3943e-10,  4.2296e-05,  2.3291e-06,     0.99996]], dtype=float32), ['Psoriasis', 'eczema', 'normal skin', 'rosacea200', 'skin acne'], 'predicted class ==> skin acne')\n",
            "model output:  [[  8.926e-10  3.4475e-10   4.116e-10  6.6179e-07           1]]\n",
            "(4, array([[  8.926e-10,  3.4475e-10,   4.116e-10,  6.6179e-07,           1]], dtype=float32), ['Psoriasis', 'eczema', 'normal skin', 'rosacea200', 'skin acne'], 'predicted class ==> skin acne')\n",
            "model output:  [[ 8.6931e-08   1.383e-08  4.9592e-07  0.00070056      0.9993]]\n",
            "(4, array([[ 8.6931e-08,   1.383e-08,  4.9592e-07,  0.00070056,      0.9993]], dtype=float32), ['Psoriasis', 'eczema', 'normal skin', 'rosacea200', 'skin acne'], 'predicted class ==> skin acne')\n",
            "model output:  [[ 1.0973e-08  1.3914e-06  3.1549e-11   0.0010285     0.99897]]\n",
            "(4, array([[ 1.0973e-08,  1.3914e-06,  3.1549e-11,   0.0010285,     0.99897]], dtype=float32), ['Psoriasis', 'eczema', 'normal skin', 'rosacea200', 'skin acne'], 'predicted class ==> skin acne')\n",
            "model output:  [[   0.002997  1.5835e-08  1.5862e-06      0.9824    0.014606]]\n",
            "(3, array([[   0.002997,  1.5835e-08,  1.5862e-06,      0.9824,    0.014606]], dtype=float32), ['Psoriasis', 'eczema', 'normal skin', 'rosacea200', 'skin acne'], 'predicted class ==> rosacea200')\n"
          ]
        }
      ],
      "source": [
        "c=0\n",
        "path='/content/drive/MyDrive/CollectData/test/skin acne'\n",
        "for i in os.listdir(path):\n",
        "  img= path+'/'+i\n",
        "  c+=1\n",
        "  print(classifier(img,model,[224,224]))\n",
        "  if c>105:\n",
        "    break"
      ]
    },
    {
      "cell_type": "markdown",
      "metadata": {
        "id": "i2QaHl8xWbuC"
      },
      "source": [
        "### Psoriasis'"
      ]
    },
    {
      "cell_type": "code",
      "execution_count": null,
      "metadata": {
        "colab": {
          "base_uri": "https://localhost:8080/"
        },
        "id": "HF8x_cm5WH-V",
        "outputId": "0f3dc2ef-d251-4dc9-c32b-b30a5e53cb0c"
      },
      "outputs": [
        {
          "name": "stdout",
          "output_type": "stream",
          "text": [
            "model output:  [[    0.99976  6.8705e-08  3.8922e-11  0.00024112  1.9841e-07]]\n",
            "(0, array([[    0.99976,  6.8705e-08,  3.8922e-11,  0.00024112,  1.9841e-07]], dtype=float32), ['Psoriasis', 'eczema', 'normal skin', 'rosacea200', 'skin acne'], 'predicted class ==> Psoriasis')\n",
            "model output:  [[    0.11167    0.063843  2.4573e-07     0.23925     0.58524]]\n",
            "(4, array([[    0.11167,    0.063843,  2.4573e-07,     0.23925,     0.58524]], dtype=float32), ['Psoriasis', 'eczema', 'normal skin', 'rosacea200', 'skin acne'], 'predicted class ==> skin acne')\n",
            "model output:  [[ 0.00023192  1.6518e-09  7.4385e-15     0.99977  2.7227e-08]]\n",
            "(3, array([[ 0.00023192,  1.6518e-09,  7.4385e-15,     0.99977,  2.7227e-08]], dtype=float32), ['Psoriasis', 'eczema', 'normal skin', 'rosacea200', 'skin acne'], 'predicted class ==> rosacea200')\n",
            "model output:  [[    0.99969  0.00030139  5.8544e-12  1.3193e-05  2.2573e-10]]\n",
            "(0, array([[    0.99969,  0.00030139,  5.8544e-12,  1.3193e-05,  2.2573e-10]], dtype=float32), ['Psoriasis', 'eczema', 'normal skin', 'rosacea200', 'skin acne'], 'predicted class ==> Psoriasis')\n",
            "model output:  [[    0.99994   9.582e-08  2.1855e-16   5.789e-05  4.0626e-13]]\n",
            "(0, array([[    0.99994,   9.582e-08,  2.1855e-16,   5.789e-05,  4.0626e-13]], dtype=float32), ['Psoriasis', 'eczema', 'normal skin', 'rosacea200', 'skin acne'], 'predicted class ==> Psoriasis')\n",
            "model output:  [[   0.022375    0.027269  5.7611e-07     0.94947  0.00088575]]\n",
            "(3, array([[   0.022375,    0.027269,  5.7611e-07,     0.94947,  0.00088575]], dtype=float32), ['Psoriasis', 'eczema', 'normal skin', 'rosacea200', 'skin acne'], 'predicted class ==> rosacea200')\n",
            "model output:  [[    0.98916    0.010837  2.2261e-14   1.761e-07   1.503e-10]]\n",
            "(0, array([[    0.98916,    0.010837,  2.2261e-14,   1.761e-07,   1.503e-10]], dtype=float32), ['Psoriasis', 'eczema', 'normal skin', 'rosacea200', 'skin acne'], 'predicted class ==> Psoriasis')\n",
            "model output:  [[    0.01371  4.7302e-07  8.6299e-12     0.98608  0.00020758]]\n",
            "(3, array([[    0.01371,  4.7302e-07,  8.6299e-12,     0.98608,  0.00020758]], dtype=float32), ['Psoriasis', 'eczema', 'normal skin', 'rosacea200', 'skin acne'], 'predicted class ==> rosacea200')\n",
            "model output:  [[  2.053e-08           1  3.9539e-19  1.0292e-14   8.085e-16]]\n",
            "(1, array([[  2.053e-08,           1,  3.9539e-19,  1.0292e-14,   8.085e-16]], dtype=float32), ['Psoriasis', 'eczema', 'normal skin', 'rosacea200', 'skin acne'], 'predicted class ==> eczema')\n",
            "model output:  [[    0.99932   0.0004108  5.0472e-08  0.00026433  6.3344e-07]]\n",
            "(0, array([[    0.99932,   0.0004108,  5.0472e-08,  0.00026433,  6.3344e-07]], dtype=float32), ['Psoriasis', 'eczema', 'normal skin', 'rosacea200', 'skin acne'], 'predicted class ==> Psoriasis')\n",
            "model output:  [[    0.04266  1.3167e-09     0.95734  4.9388e-10  8.3116e-07]]\n",
            "(2, array([[    0.04266,  1.3167e-09,     0.95734,  4.9388e-10,  8.3116e-07]], dtype=float32), ['Psoriasis', 'eczema', 'normal skin', 'rosacea200', 'skin acne'], 'predicted class ==> normal skin')\n",
            "model output:  [[    0.96122  7.4955e-06  2.2369e-06    0.038766  2.5283e-06]]\n",
            "(0, array([[    0.96122,  7.4955e-06,  2.2369e-06,    0.038766,  2.5283e-06]], dtype=float32), ['Psoriasis', 'eczema', 'normal skin', 'rosacea200', 'skin acne'], 'predicted class ==> Psoriasis')\n",
            "model output:  [[    0.99814   0.0016412   0.0002196  4.3763e-07   2.991e-07]]\n",
            "(0, array([[    0.99814,   0.0016412,   0.0002196,  4.3763e-07,   2.991e-07]], dtype=float32), ['Psoriasis', 'eczema', 'normal skin', 'rosacea200', 'skin acne'], 'predicted class ==> Psoriasis')\n",
            "model output:  [[ 5.7982e-09  1.5677e-11  2.5034e-10     0.99763   0.0023705]]\n",
            "(3, array([[ 5.7982e-09,  1.5677e-11,  2.5034e-10,     0.99763,   0.0023705]], dtype=float32), ['Psoriasis', 'eczema', 'normal skin', 'rosacea200', 'skin acne'], 'predicted class ==> rosacea200')\n",
            "model output:  [[ 0.00028806  9.1231e-11  9.8019e-10     0.99885  0.00086051]]\n",
            "(3, array([[ 0.00028806,  9.1231e-11,  9.8019e-10,     0.99885,  0.00086051]], dtype=float32), ['Psoriasis', 'eczema', 'normal skin', 'rosacea200', 'skin acne'], 'predicted class ==> rosacea200')\n",
            "model output:  [[          1  2.2453e-07  1.3851e-10  1.9825e-07  4.9922e-13]]\n",
            "(0, array([[          1,  2.2453e-07,  1.3851e-10,  1.9825e-07,  4.9922e-13]], dtype=float32), ['Psoriasis', 'eczema', 'normal skin', 'rosacea200', 'skin acne'], 'predicted class ==> Psoriasis')\n",
            "model output:  [[    0.98652    0.013481  3.4658e-11   1.226e-06  1.8132e-08]]\n",
            "(0, array([[    0.98652,    0.013481,  3.4658e-11,   1.226e-06,  1.8132e-08]], dtype=float32), ['Psoriasis', 'eczema', 'normal skin', 'rosacea200', 'skin acne'], 'predicted class ==> Psoriasis')\n",
            "model output:  [[    0.99971    0.000245  1.7109e-11  4.6493e-05  2.0141e-09]]\n",
            "(0, array([[    0.99971,    0.000245,  1.7109e-11,  4.6493e-05,  2.0141e-09]], dtype=float32), ['Psoriasis', 'eczema', 'normal skin', 'rosacea200', 'skin acne'], 'predicted class ==> Psoriasis')\n"
          ]
        }
      ],
      "source": [
        "c=0\n",
        "path='/content/drive/MyDrive/CollectData/test/Psoriasis'\n",
        "for i in os.listdir(path):\n",
        "  img= path+'/'+i\n",
        "  c+=1\n",
        "  print(classifier(img,model,[224,224]))\n",
        "  if c>105:\n",
        "    break"
      ]
    },
    {
      "cell_type": "markdown",
      "metadata": {
        "id": "VRPr1tyxVw0p"
      },
      "source": [
        "### Eczema"
      ]
    },
    {
      "cell_type": "code",
      "execution_count": null,
      "metadata": {
        "colab": {
          "base_uri": "https://localhost:8080/"
        },
        "id": "NPEtz7AtRT3Z",
        "outputId": "055d1206-f329-49a5-de97-e87bc4491e6c"
      },
      "outputs": [
        {
          "name": "stdout",
          "output_type": "stream",
          "text": [
            "model output:  [[    0.62092  9.1926e-08  4.4008e-10     0.37908  4.7846e-09]]\n",
            "(0, array([[    0.62092,  9.1926e-08,  4.4008e-10,     0.37908,  4.7846e-09]], dtype=float32), ['Psoriasis', 'eczema', 'normal skin', 'rosacea200', 'skin acne'], 'predicted class ==> Psoriasis')\n",
            "model output:  [[    0.99978  0.00015745  3.7023e-09  6.6997e-05  1.2515e-10]]\n",
            "(0, array([[    0.99978,  0.00015745,  3.7023e-09,  6.6997e-05,  1.2515e-10]], dtype=float32), ['Psoriasis', 'eczema', 'normal skin', 'rosacea200', 'skin acne'], 'predicted class ==> Psoriasis')\n",
            "model output:  [[          1  6.8247e-09  2.5614e-18  2.3141e-09  1.7838e-15]]\n",
            "(0, array([[          1,  6.8247e-09,  2.5614e-18,  2.3141e-09,  1.7838e-15]], dtype=float32), ['Psoriasis', 'eczema', 'normal skin', 'rosacea200', 'skin acne'], 'predicted class ==> Psoriasis')\n",
            "model output:  [[    0.99992  8.5136e-07  3.6877e-16  7.4214e-05  4.5229e-16]]\n",
            "(0, array([[    0.99992,  8.5136e-07,  3.6877e-16,  7.4214e-05,  4.5229e-16]], dtype=float32), ['Psoriasis', 'eczema', 'normal skin', 'rosacea200', 'skin acne'], 'predicted class ==> Psoriasis')\n",
            "model output:  [[    0.99886   0.0011137   9.961e-11  3.0795e-05  5.9969e-10]]\n",
            "(0, array([[    0.99886,   0.0011137,   9.961e-11,  3.0795e-05,  5.9969e-10]], dtype=float32), ['Psoriasis', 'eczema', 'normal skin', 'rosacea200', 'skin acne'], 'predicted class ==> Psoriasis')\n",
            "model output:  [[    0.96089  0.00012216  5.8604e-10    0.038986  1.4756e-07]]\n",
            "(0, array([[    0.96089,  0.00012216,  5.8604e-10,    0.038986,  1.4756e-07]], dtype=float32), ['Psoriasis', 'eczema', 'normal skin', 'rosacea200', 'skin acne'], 'predicted class ==> Psoriasis')\n",
            "model output:  [[    0.99973  0.00026952  9.6882e-13  1.6358e-06  9.8493e-13]]\n",
            "(0, array([[    0.99973,  0.00026952,  9.6882e-13,  1.6358e-06,  9.8493e-13]], dtype=float32), ['Psoriasis', 'eczema', 'normal skin', 'rosacea200', 'skin acne'], 'predicted class ==> Psoriasis')\n",
            "model output:  [[     0.9872    0.011623   2.224e-10   0.0011755  2.3646e-08]]\n",
            "(0, array([[     0.9872,    0.011623,   2.224e-10,   0.0011755,  2.3646e-08]], dtype=float32), ['Psoriasis', 'eczema', 'normal skin', 'rosacea200', 'skin acne'], 'predicted class ==> Psoriasis')\n",
            "model output:  [[    0.99987  1.9394e-09  3.2811e-16  0.00012558  5.2482e-15]]\n",
            "(0, array([[    0.99987,  1.9394e-09,  3.2811e-16,  0.00012558,  5.2482e-15]], dtype=float32), ['Psoriasis', 'eczema', 'normal skin', 'rosacea200', 'skin acne'], 'predicted class ==> Psoriasis')\n",
            "model output:  [[    0.99599  3.4701e-07  4.8152e-12    0.004011  1.5498e-11]]\n",
            "(0, array([[    0.99599,  3.4701e-07,  4.8152e-12,    0.004011,  1.5498e-11]], dtype=float32), ['Psoriasis', 'eczema', 'normal skin', 'rosacea200', 'skin acne'], 'predicted class ==> Psoriasis')\n",
            "model output:  [[    0.94933  6.0375e-06  7.3236e-06     0.04827   0.0023854]]\n",
            "(0, array([[    0.94933,  6.0375e-06,  7.3236e-06,     0.04827,   0.0023854]], dtype=float32), ['Psoriasis', 'eczema', 'normal skin', 'rosacea200', 'skin acne'], 'predicted class ==> Psoriasis')\n",
            "model output:  [[    0.99829   0.0015841  1.3746e-10  0.00012148  1.4459e-06]]\n",
            "(0, array([[    0.99829,   0.0015841,  1.3746e-10,  0.00012148,  1.4459e-06]], dtype=float32), ['Psoriasis', 'eczema', 'normal skin', 'rosacea200', 'skin acne'], 'predicted class ==> Psoriasis')\n",
            "model output:  [[    0.89731  1.9767e-05  2.7326e-08     0.10267   1.564e-07]]\n",
            "(0, array([[    0.89731,  1.9767e-05,  2.7326e-08,     0.10267,   1.564e-07]], dtype=float32), ['Psoriasis', 'eczema', 'normal skin', 'rosacea200', 'skin acne'], 'predicted class ==> Psoriasis')\n",
            "model output:  [[    0.99998  5.3077e-08   5.097e-11  1.8647e-05  1.8531e-08]]\n",
            "(0, array([[    0.99998,  5.3077e-08,   5.097e-11,  1.8647e-05,  1.8531e-08]], dtype=float32), ['Psoriasis', 'eczema', 'normal skin', 'rosacea200', 'skin acne'], 'predicted class ==> Psoriasis')\n",
            "model output:  [[    0.99999  1.1713e-06  1.2891e-16  1.0456e-05  2.7229e-14]]\n",
            "(0, array([[    0.99999,  1.1713e-06,  1.2891e-16,  1.0456e-05,  2.7229e-14]], dtype=float32), ['Psoriasis', 'eczema', 'normal skin', 'rosacea200', 'skin acne'], 'predicted class ==> Psoriasis')\n",
            "model output:  [[          1  4.5271e-09  2.5781e-13   2.103e-07  8.8082e-14]]\n",
            "(0, array([[          1,  4.5271e-09,  2.5781e-13,   2.103e-07,  8.8082e-14]], dtype=float32), ['Psoriasis', 'eczema', 'normal skin', 'rosacea200', 'skin acne'], 'predicted class ==> Psoriasis')\n"
          ]
        }
      ],
      "source": [
        "c=0\n",
        "for i in os.listdir('/content/25-type-of-skin/1.Training/Eczema Photos'):\n",
        "  img= '/content/25-type-of-skin/1.Training/Eczema Photos/'+i\n",
        "  c+=1\n",
        "  print(classifier(img,model,[224,224]))\n",
        "  if c>15:\n",
        "    break"
      ]
    },
    {
      "cell_type": "markdown",
      "metadata": {
        "id": "Wp_zPiE1VdNX"
      },
      "source": [
        "### Normal Skin"
      ]
    },
    {
      "cell_type": "code",
      "execution_count": null,
      "metadata": {
        "colab": {
          "base_uri": "https://localhost:8080/"
        },
        "id": "qv4wfY6bR-NK",
        "outputId": "5b5cd4b6-a1d3-4b62-c6d1-8c1aa3b08f93"
      },
      "outputs": [
        {
          "name": "stdout",
          "output_type": "stream",
          "text": [
            "model output:  [[    0.32698  7.7424e-07     0.46205  8.9863e-06     0.21095]]\n",
            "(2, array([[    0.32698,  7.7424e-07,     0.46205,  8.9863e-06,     0.21095]], dtype=float32), ['Psoriasis', 'eczema', 'normal skin', 'rosacea200', 'skin acne'], 'predicted class ==> normal skin')\n",
            "model output:  [[    0.09999  1.8984e-05     0.89913  0.00027779  0.00058735]]\n",
            "(2, array([[    0.09999,  1.8984e-05,     0.89913,  0.00027779,  0.00058735]], dtype=float32), ['Psoriasis', 'eczema', 'normal skin', 'rosacea200', 'skin acne'], 'predicted class ==> normal skin')\n",
            "model output:  [[    0.25967   2.957e-06     0.73969  0.00042133  0.00021186]]\n",
            "(2, array([[    0.25967,   2.957e-06,     0.73969,  0.00042133,  0.00021186]], dtype=float32), ['Psoriasis', 'eczema', 'normal skin', 'rosacea200', 'skin acne'], 'predicted class ==> normal skin')\n",
            "model output:  [[    0.83614    0.098421    0.046732    0.013945   0.0047654]]\n",
            "(0, array([[    0.83614,    0.098421,    0.046732,    0.013945,   0.0047654]], dtype=float32), ['Psoriasis', 'eczema', 'normal skin', 'rosacea200', 'skin acne'], 'predicted class ==> Psoriasis')\n",
            "model output:  [[  0.0018297  1.6422e-05     0.99151  9.7982e-05   0.0065493]]\n",
            "(2, array([[  0.0018297,  1.6422e-05,     0.99151,  9.7982e-05,   0.0065493]], dtype=float32), ['Psoriasis', 'eczema', 'normal skin', 'rosacea200', 'skin acne'], 'predicted class ==> normal skin')\n",
            "model output:  [[  0.0015181  3.0054e-06     0.99784  5.4474e-06  0.00062922]]\n",
            "(2, array([[  0.0015181,  3.0054e-06,     0.99784,  5.4474e-06,  0.00062922]], dtype=float32), ['Psoriasis', 'eczema', 'normal skin', 'rosacea200', 'skin acne'], 'predicted class ==> normal skin')\n",
            "model output:  [[ 0.00015768  6.3646e-07     0.99977  2.1736e-07  7.0732e-05]]\n",
            "(2, array([[ 0.00015768,  6.3646e-07,     0.99977,  2.1736e-07,  7.0732e-05]], dtype=float32), ['Psoriasis', 'eczema', 'normal skin', 'rosacea200', 'skin acne'], 'predicted class ==> normal skin')\n",
            "model output:  [[  8.633e-05  3.5594e-09     0.99991  8.9714e-09  1.9891e-06]]\n",
            "(2, array([[  8.633e-05,  3.5594e-09,     0.99991,  8.9714e-09,  1.9891e-06]], dtype=float32), ['Psoriasis', 'eczema', 'normal skin', 'rosacea200', 'skin acne'], 'predicted class ==> normal skin')\n",
            "model output:  [[  0.0001617  2.9669e-08     0.99978  8.3807e-07  5.5296e-05]]\n",
            "(2, array([[  0.0001617,  2.9669e-08,     0.99978,  8.3807e-07,  5.5296e-05]], dtype=float32), ['Psoriasis', 'eczema', 'normal skin', 'rosacea200', 'skin acne'], 'predicted class ==> normal skin')\n",
            "model output:  [[     0.9938   0.0060674  4.3482e-07  4.2629e-06  0.00012377]]\n",
            "(0, array([[     0.9938,   0.0060674,  4.3482e-07,  4.2629e-06,  0.00012377]], dtype=float32), ['Psoriasis', 'eczema', 'normal skin', 'rosacea200', 'skin acne'], 'predicted class ==> Psoriasis')\n",
            "model output:  [[    0.84942  0.00014833  0.00099829     0.14928  0.00014899]]\n",
            "(0, array([[    0.84942,  0.00014833,  0.00099829,     0.14928,  0.00014899]], dtype=float32), ['Psoriasis', 'eczema', 'normal skin', 'rosacea200', 'skin acne'], 'predicted class ==> Psoriasis')\n",
            "model output:  [[ 0.00020667  8.7358e-06     0.99447   3.119e-05    0.005282]]\n",
            "(2, array([[ 0.00020667,  8.7358e-06,     0.99447,   3.119e-05,    0.005282]], dtype=float32), ['Psoriasis', 'eczema', 'normal skin', 'rosacea200', 'skin acne'], 'predicted class ==> normal skin')\n",
            "model output:  [[    0.97254   8.945e-07  6.5724e-06    0.027436  1.9607e-05]]\n",
            "(0, array([[    0.97254,   8.945e-07,  6.5724e-06,    0.027436,  1.9607e-05]], dtype=float32), ['Psoriasis', 'eczema', 'normal skin', 'rosacea200', 'skin acne'], 'predicted class ==> Psoriasis')\n",
            "model output:  [[  0.0040515  1.2532e-06     0.99516  4.8252e-05  0.00073777]]\n",
            "(2, array([[  0.0040515,  1.2532e-06,     0.99516,  4.8252e-05,  0.00073777]], dtype=float32), ['Psoriasis', 'eczema', 'normal skin', 'rosacea200', 'skin acne'], 'predicted class ==> normal skin')\n",
            "model output:  [[   0.017616  1.8948e-06     0.87015  0.00077696     0.11145]]\n",
            "(2, array([[   0.017616,  1.8948e-06,     0.87015,  0.00077696,     0.11145]], dtype=float32), ['Psoriasis', 'eczema', 'normal skin', 'rosacea200', 'skin acne'], 'predicted class ==> normal skin')\n",
            "model output:  [[   0.021137  8.0866e-05    0.017213    0.014509     0.94706]]\n",
            "(4, array([[   0.021137,  8.0866e-05,    0.017213,    0.014509,     0.94706]], dtype=float32), ['Psoriasis', 'eczema', 'normal skin', 'rosacea200', 'skin acne'], 'predicted class ==> skin acne')\n"
          ]
        }
      ],
      "source": [
        "c=0\n",
        "path='/content/25-type-of-skin/1.Training/Normal Skin'\n",
        "for i in os.listdir(path):\n",
        "  img= path+'/'+i\n",
        "  c+=1\n",
        "  print(classifier(img,model,[224,224]))\n",
        "  if c>15:\n",
        "    break"
      ]
    },
    {
      "cell_type": "markdown",
      "metadata": {
        "id": "ujIYi9TaVQTT"
      },
      "source": [
        "### Psoriasis"
      ]
    },
    {
      "cell_type": "code",
      "execution_count": null,
      "metadata": {
        "colab": {
          "base_uri": "https://localhost:8080/"
        },
        "id": "NlJPzt8jUBpi",
        "outputId": "6873a98b-d74a-450d-e3cc-98e3d5db98cb"
      },
      "outputs": [
        {
          "name": "stdout",
          "output_type": "stream",
          "text": [
            "model output:  [[    0.98618  2.7037e-05  3.0448e-11    0.013797  2.3192e-07]]\n",
            "(0, array([[    0.98618,  2.7037e-05,  3.0448e-11,    0.013797,  2.3192e-07]], dtype=float32), ['Psoriasis', 'eczema', 'normal skin', 'rosacea200', 'skin acne'], 'predicted class ==> Psoriasis')\n",
            "model output:  [[    0.78125  1.3814e-06   0.0001743  0.00054818     0.21803]]\n",
            "(0, array([[    0.78125,  1.3814e-06,   0.0001743,  0.00054818,     0.21803]], dtype=float32), ['Psoriasis', 'eczema', 'normal skin', 'rosacea200', 'skin acne'], 'predicted class ==> Psoriasis')\n",
            "model output:  [[    0.71369  2.3437e-05  1.4989e-08     0.28627  1.4821e-05]]\n",
            "(0, array([[    0.71369,  2.3437e-05,  1.4989e-08,     0.28627,  1.4821e-05]], dtype=float32), ['Psoriasis', 'eczema', 'normal skin', 'rosacea200', 'skin acne'], 'predicted class ==> Psoriasis')\n",
            "model output:  [[    0.99998   1.467e-05  3.6885e-10  3.0198e-08  6.1797e-06]]\n",
            "(0, array([[    0.99998,   1.467e-05,  3.6885e-10,  3.0198e-08,  6.1797e-06]], dtype=float32), ['Psoriasis', 'eczema', 'normal skin', 'rosacea200', 'skin acne'], 'predicted class ==> Psoriasis')\n",
            "model output:  [[    0.99463   0.0028154  2.0174e-08   0.0025516  3.4755e-09]]\n",
            "(0, array([[    0.99463,   0.0028154,  2.0174e-08,   0.0025516,  3.4755e-09]], dtype=float32), ['Psoriasis', 'eczema', 'normal skin', 'rosacea200', 'skin acne'], 'predicted class ==> Psoriasis')\n",
            "model output:  [[    0.99539  2.7429e-06  7.5099e-11   0.0046106  2.0173e-09]]\n",
            "(0, array([[    0.99539,  2.7429e-06,  7.5099e-11,   0.0046106,  2.0173e-09]], dtype=float32), ['Psoriasis', 'eczema', 'normal skin', 'rosacea200', 'skin acne'], 'predicted class ==> Psoriasis')\n",
            "model output:  [[    0.99904  0.00034212  2.2072e-07  0.00059792  1.5746e-05]]\n",
            "(0, array([[    0.99904,  0.00034212,  2.2072e-07,  0.00059792,  1.5746e-05]], dtype=float32), ['Psoriasis', 'eczema', 'normal skin', 'rosacea200', 'skin acne'], 'predicted class ==> Psoriasis')\n",
            "model output:  [[    0.52295  4.6592e-06  0.00062753      0.4647    0.011716]]\n",
            "(0, array([[    0.52295,  4.6592e-06,  0.00062753,      0.4647,    0.011716]], dtype=float32), ['Psoriasis', 'eczema', 'normal skin', 'rosacea200', 'skin acne'], 'predicted class ==> Psoriasis')\n",
            "model output:  [[    0.99987  5.0252e-07  5.2318e-05  7.4115e-05  2.5835e-08]]\n",
            "(0, array([[    0.99987,  5.0252e-07,  5.2318e-05,  7.4115e-05,  2.5835e-08]], dtype=float32), ['Psoriasis', 'eczema', 'normal skin', 'rosacea200', 'skin acne'], 'predicted class ==> Psoriasis')\n",
            "model output:  [[    0.99839  4.1811e-05  1.1144e-12   0.0015715  1.4988e-08]]\n",
            "(0, array([[    0.99839,  4.1811e-05,  1.1144e-12,   0.0015715,  1.4988e-08]], dtype=float32), ['Psoriasis', 'eczema', 'normal skin', 'rosacea200', 'skin acne'], 'predicted class ==> Psoriasis')\n",
            "model output:  [[    0.99986  4.7116e-07  9.2547e-05  4.7871e-05  2.0154e-07]]\n",
            "(0, array([[    0.99986,  4.7116e-07,  9.2547e-05,  4.7871e-05,  2.0154e-07]], dtype=float32), ['Psoriasis', 'eczema', 'normal skin', 'rosacea200', 'skin acne'], 'predicted class ==> Psoriasis')\n",
            "model output:  [[    0.19342  8.3316e-07  8.6493e-09     0.80658   3.022e-06]]\n",
            "(3, array([[    0.19342,  8.3316e-07,  8.6493e-09,     0.80658,   3.022e-06]], dtype=float32), ['Psoriasis', 'eczema', 'normal skin', 'rosacea200', 'skin acne'], 'predicted class ==> rosacea200')\n",
            "model output:  [[    0.99848  2.7435e-05   6.662e-13   0.0014881  9.6391e-11]]\n",
            "(0, array([[    0.99848,  2.7435e-05,   6.662e-13,   0.0014881,  9.6391e-11]], dtype=float32), ['Psoriasis', 'eczema', 'normal skin', 'rosacea200', 'skin acne'], 'predicted class ==> Psoriasis')\n",
            "model output:  [[    0.99995  9.8489e-08  7.1463e-10  4.9617e-05  3.5985e-09]]\n",
            "(0, array([[    0.99995,  9.8489e-08,  7.1463e-10,  4.9617e-05,  3.5985e-09]], dtype=float32), ['Psoriasis', 'eczema', 'normal skin', 'rosacea200', 'skin acne'], 'predicted class ==> Psoriasis')\n",
            "model output:  [[    0.98397  1.7249e-07  5.6898e-13    0.016031  2.2231e-10]]\n",
            "(0, array([[    0.98397,  1.7249e-07,  5.6898e-13,    0.016031,  2.2231e-10]], dtype=float32), ['Psoriasis', 'eczema', 'normal skin', 'rosacea200', 'skin acne'], 'predicted class ==> Psoriasis')\n",
            "model output:  [[    0.76519  7.0034e-06  3.0387e-06     0.23476  4.3153e-05]]\n",
            "(0, array([[    0.76519,  7.0034e-06,  3.0387e-06,     0.23476,  4.3153e-05]], dtype=float32), ['Psoriasis', 'eczema', 'normal skin', 'rosacea200', 'skin acne'], 'predicted class ==> Psoriasis')\n"
          ]
        }
      ],
      "source": [
        "c=0\n",
        "path='/content/25-type-of-skin/1.Training/Psoriasis pictures Lichen Dermatosis and related diseases'\n",
        "for i in os.listdir(path):\n",
        "  img= path+'/'+i\n",
        "  c+=1\n",
        "  print(classifier(img,model,[224,224]))\n",
        "  if c>15:\n",
        "    break"
      ]
    },
    {
      "cell_type": "markdown",
      "metadata": {
        "id": "pt6SsB4BYSgo"
      },
      "source": [
        "### Rosacea"
      ]
    },
    {
      "cell_type": "code",
      "execution_count": null,
      "metadata": {
        "colab": {
          "base_uri": "https://localhost:8080/"
        },
        "id": "mgvDYe8rYR7T",
        "outputId": "d6a229c0-cab1-4164-d05f-1e45b48dea76"
      },
      "outputs": [
        {
          "name": "stdout",
          "output_type": "stream",
          "text": [
            "model output:  [[    0.01596  7.3644e-06  1.4394e-07     0.98401  2.7216e-05]]\n",
            "(3, array([[    0.01596,  7.3644e-06,  1.4394e-07,     0.98401,  2.7216e-05]], dtype=float32), ['Psoriasis', 'eczema', 'normal skin', 'rosacea200', 'skin acne'], 'predicted class ==> rosacea200')\n",
            "model output:  [[   3.68e-07  1.8149e-11  1.0007e-12           1  6.1072e-09]]\n",
            "(3, array([[   3.68e-07,  1.8149e-11,  1.0007e-12,           1,  6.1072e-09]], dtype=float32), ['Psoriasis', 'eczema', 'normal skin', 'rosacea200', 'skin acne'], 'predicted class ==> rosacea200')\n",
            "model output:  [[   0.014089  1.8682e-07   6.531e-08     0.98584  6.9717e-05]]\n",
            "(3, array([[   0.014089,  1.8682e-07,   6.531e-08,     0.98584,  6.9717e-05]], dtype=float32), ['Psoriasis', 'eczema', 'normal skin', 'rosacea200', 'skin acne'], 'predicted class ==> rosacea200')\n",
            "model output:  [[ 1.4762e-08  1.9356e-10  3.6721e-15           1  9.2792e-08]]\n",
            "(3, array([[ 1.4762e-08,  1.9356e-10,  3.6721e-15,           1,  9.2792e-08]], dtype=float32), ['Psoriasis', 'eczema', 'normal skin', 'rosacea200', 'skin acne'], 'predicted class ==> rosacea200')\n",
            "model output:  [[  0.0001983  1.2191e-08  2.1958e-11      0.9998  1.3058e-07]]\n",
            "(3, array([[  0.0001983,  1.2191e-08,  2.1958e-11,      0.9998,  1.3058e-07]], dtype=float32), ['Psoriasis', 'eczema', 'normal skin', 'rosacea200', 'skin acne'], 'predicted class ==> rosacea200')\n",
            "model output:  [[    0.78901  2.2154e-05  2.3696e-10     0.21097  6.8264e-07]]\n",
            "(0, array([[    0.78901,  2.2154e-05,  2.3696e-10,     0.21097,  6.8264e-07]], dtype=float32), ['Psoriasis', 'eczema', 'normal skin', 'rosacea200', 'skin acne'], 'predicted class ==> Psoriasis')\n",
            "model output:  [[ 3.0875e-05  8.8452e-08  5.3371e-08      0.9998  0.00016415]]\n",
            "(3, array([[ 3.0875e-05,  8.8452e-08,  5.3371e-08,      0.9998,  0.00016415]], dtype=float32), ['Psoriasis', 'eczema', 'normal skin', 'rosacea200', 'skin acne'], 'predicted class ==> rosacea200')\n",
            "model output:  [[    0.95565  3.7826e-09  2.5727e-15    0.044348  5.9225e-12]]\n",
            "(0, array([[    0.95565,  3.7826e-09,  2.5727e-15,    0.044348,  5.9225e-12]], dtype=float32), ['Psoriasis', 'eczema', 'normal skin', 'rosacea200', 'skin acne'], 'predicted class ==> Psoriasis')\n",
            "model output:  [[    0.20236   5.813e-05  9.5141e-08     0.79757  8.2734e-06]]\n",
            "(3, array([[    0.20236,   5.813e-05,  9.5141e-08,     0.79757,  8.2734e-06]], dtype=float32), ['Psoriasis', 'eczema', 'normal skin', 'rosacea200', 'skin acne'], 'predicted class ==> rosacea200')\n",
            "model output:  [[   0.061192   0.0027853  2.2963e-05     0.91694     0.01906]]\n",
            "(3, array([[   0.061192,   0.0027853,  2.2963e-05,     0.91694,     0.01906]], dtype=float32), ['Psoriasis', 'eczema', 'normal skin', 'rosacea200', 'skin acne'], 'predicted class ==> rosacea200')\n",
            "model output:  [[ 8.3566e-05  7.1456e-10  1.3242e-12     0.99992  3.2914e-07]]\n",
            "(3, array([[ 8.3566e-05,  7.1456e-10,  1.3242e-12,     0.99992,  3.2914e-07]], dtype=float32), ['Psoriasis', 'eczema', 'normal skin', 'rosacea200', 'skin acne'], 'predicted class ==> rosacea200')\n",
            "model output:  [[   0.013173   1.431e-06  4.1771e-07     0.98448   0.0023407]]\n",
            "(3, array([[   0.013173,   1.431e-06,  4.1771e-07,     0.98448,   0.0023407]], dtype=float32), ['Psoriasis', 'eczema', 'normal skin', 'rosacea200', 'skin acne'], 'predicted class ==> rosacea200')\n",
            "model output:  [[ 7.5902e-07  4.0159e-10  7.5493e-12           1  5.5407e-07]]\n",
            "(3, array([[ 7.5902e-07,  4.0159e-10,  7.5493e-12,           1,  5.5407e-07]], dtype=float32), ['Psoriasis', 'eczema', 'normal skin', 'rosacea200', 'skin acne'], 'predicted class ==> rosacea200')\n",
            "model output:  [[   0.014495  4.5244e-06  4.1121e-10     0.98549  1.0598e-05]]\n",
            "(3, array([[   0.014495,  4.5244e-06,  4.1121e-10,     0.98549,  1.0598e-05]], dtype=float32), ['Psoriasis', 'eczema', 'normal skin', 'rosacea200', 'skin acne'], 'predicted class ==> rosacea200')\n",
            "model output:  [[ 0.00024189  5.5996e-08   3.112e-08     0.99976  1.7647e-06]]\n",
            "(3, array([[ 0.00024189,  5.5996e-08,   3.112e-08,     0.99976,  1.7647e-06]], dtype=float32), ['Psoriasis', 'eczema', 'normal skin', 'rosacea200', 'skin acne'], 'predicted class ==> rosacea200')\n",
            "model output:  [[ 1.7906e-05  7.9064e-11  8.3948e-15     0.99998   9.583e-10]]\n",
            "(3, array([[ 1.7906e-05,  7.9064e-11,  8.3948e-15,     0.99998,   9.583e-10]], dtype=float32), ['Psoriasis', 'eczema', 'normal skin', 'rosacea200', 'skin acne'], 'predicted class ==> rosacea200')\n"
          ]
        }
      ],
      "source": [
        "path='/content/skin-disease-rt2-1/train/Rosacea'\n",
        "c=0\n",
        "for i in os.listdir(path):\n",
        "  img= path+'/'+i\n",
        "  c+=1\n",
        "  print(classifier(img,model,[224,224]))\n",
        "  if c>15:\n",
        "    break"
      ]
    },
    {
      "cell_type": "markdown",
      "metadata": {
        "id": "e3cvl04DWCqp"
      },
      "source": [
        "### Testing"
      ]
    },
    {
      "cell_type": "code",
      "execution_count": null,
      "metadata": {
        "colab": {
          "base_uri": "https://localhost:8080/"
        },
        "id": "z5lq7DPWxIHo",
        "outputId": "18f5046d-b826-499f-ab3d-1170eee8111f"
      },
      "outputs": [
        {
          "name": "stdout",
          "output_type": "stream",
          "text": [
            "model output:  [[9.6066880e-01 6.1627898e-09 2.8309985e-06 3.9288789e-02 3.9538158e-05]]\n"
          ]
        },
        {
          "data": {
            "text/plain": [
              "(0,\n",
              " array([[9.6066880e-01, 6.1627898e-09, 2.8309985e-06, 3.9288789e-02,\n",
              "         3.9538158e-05]], dtype=float32),\n",
              " ['Psoriasis', 'eczema', 'normal skin', 'rosacea200', 'skin acne'],\n",
              " 'predicted class ==> Psoriasis')"
            ]
          },
          "execution_count": 16,
          "metadata": {},
          "output_type": "execute_result"
        }
      ],
      "source": [
        "model_classes=['Psoriasis', 'eczema', 'normal skin', 'rosacea200', 'skin acne']\n",
        "classifier('/content/drive/MyDrive/data/train/psoriasis Scrapping/psoriasis_10.jpg',model,[224,224])\n"
      ]
    },
    {
      "cell_type": "code",
      "execution_count": null,
      "metadata": {
        "colab": {
          "base_uri": "https://localhost:8080/"
        },
        "id": "u3_4YCtAxIKa",
        "outputId": "a40c0040-636f-47ca-add0-7fb28818d093"
      },
      "outputs": [
        {
          "name": "stdout",
          "output_type": "stream",
          "text": [
            "model output:  [[6.2073718e-06 2.7333539e-07 1.1992586e-07 3.9363870e-01 6.0635471e-01]]\n"
          ]
        },
        {
          "data": {
            "text/plain": [
              "(4,\n",
              " array([[6.2073718e-06, 2.7333539e-07, 1.1992586e-07, 3.9363870e-01,\n",
              "         6.0635471e-01]], dtype=float32),\n",
              " ['Psoriasis', 'eczema', 'normal skin', 'rosacea200', 'skin acne'],\n",
              " 'predicted class ==> skin acne')"
            ]
          },
          "execution_count": 20,
          "metadata": {},
          "output_type": "execute_result"
        }
      ],
      "source": [
        "classifier('/content/acne.jpg',model,[224,224])\n"
      ]
    },
    {
      "cell_type": "code",
      "execution_count": null,
      "metadata": {
        "colab": {
          "base_uri": "https://localhost:8080/"
        },
        "id": "za42hQ1v_oyE",
        "outputId": "c41709a0-19c5-458c-b5d7-17fd8df2f6e2"
      },
      "outputs": [
        {
          "name": "stdout",
          "output_type": "stream",
          "text": [
            "model output:  [[3.4640634e-06 3.4598238e-10 9.9999654e-01 9.8588897e-09 1.9045636e-08]]\n"
          ]
        },
        {
          "data": {
            "text/plain": [
              "(2,\n",
              " array([[3.4640634e-06, 3.4598238e-10, 9.9999654e-01, 9.8588897e-09,\n",
              "         1.9045636e-08]], dtype=float32),\n",
              " ['Psoriasis', 'eczema', 'normal skin', 'rosacea200', 'skin acne'],\n",
              " 'predicted class ==> normal skin')"
            ]
          },
          "execution_count": 18,
          "metadata": {},
          "output_type": "execute_result"
        }
      ],
      "source": [
        "classifier('/content/2.jpeg',model,[224,224])\n"
      ]
    },
    {
      "cell_type": "code",
      "execution_count": null,
      "metadata": {
        "colab": {
          "base_uri": "https://localhost:8080/"
        },
        "id": "qEJUWgLpAuaL",
        "outputId": "e668dff6-dd2e-4432-cc82-e9ea2feabbfb"
      },
      "outputs": [
        {
          "data": {
            "text/plain": [
              "1068"
            ]
          },
          "execution_count": 34,
          "metadata": {},
          "output_type": "execute_result"
        }
      ],
      "source": [
        "len(os.listdir('/content/Chronic Eczema'))"
      ]
    },
    {
      "cell_type": "code",
      "execution_count": null,
      "metadata": {
        "colab": {
          "base_uri": "https://localhost:8080/"
        },
        "id": "UM9cjrFPQjGo",
        "outputId": "408d9d66-c89d-4f5b-f41a-8aff7cb6816c"
      },
      "outputs": [
        {
          "data": {
            "text/plain": [
              "1068"
            ]
          },
          "execution_count": 55,
          "metadata": {},
          "output_type": "execute_result"
        }
      ],
      "source": [
        "len(os.listdir('/content/Chronic Eczema'))\n"
      ]
    },
    {
      "cell_type": "code",
      "execution_count": null,
      "metadata": {
        "id": "RMbL470tOyuc"
      },
      "outputs": [],
      "source": [
        "# shutil.rmtree('/content/SKIP-1')\n",
        "shutil.rmtree('/content/psoriasis-skin-dataset')"
      ]
    },
    {
      "cell_type": "code",
      "execution_count": null,
      "metadata": {
        "colab": {
          "base_uri": "https://localhost:8080/"
        },
        "id": "WPJBmoGnAudv",
        "outputId": "5eba91bb-192f-4191-8180-a42937680344"
      },
      "outputs": [
        {
          "data": {
            "text/plain": [
              "458"
            ]
          },
          "execution_count": 60,
          "metadata": {},
          "output_type": "execute_result"
        }
      ],
      "source": [
        "len(os.listdir('/content/skin-disease-rt2-1/train/Psoriasis'))"
      ]
    },
    {
      "cell_type": "code",
      "execution_count": null,
      "metadata": {
        "colab": {
          "base_uri": "https://localhost:8080/"
        },
        "id": "BOOKkYM2OBQn",
        "outputId": "330b2560-7012-4364-b224-fc0883854d2f"
      },
      "outputs": [
        {
          "name": "stdout",
          "output_type": "stream",
          "text": [
            "len src_dir1 : 222\n",
            "len src_dir2 : 846\n"
          ]
        }
      ],
      "source": [
        "combine_folders('/content/Eczema-Disease-Classification-Using-EfficientNet-Architecture-1/train/Subacute Eczema',\n",
        "                '/content/Eczema-Disease-Classification-Using-EfficientNet-Architecture-1/train/Chronic Eczema')\n"
      ]
    },
    {
      "cell_type": "code",
      "execution_count": null,
      "metadata": {
        "colab": {
          "base_uri": "https://localhost:8080/"
        },
        "id": "yoFdiMjyirzR",
        "outputId": "9c2a4af9-e9b3-4ec7-a16f-1a55dcba145a"
      },
      "outputs": [
        {
          "name": "stdout",
          "output_type": "stream",
          "text": [
            "len src_dir1 : 273\n",
            "len src_dir2 : 1554\n"
          ]
        }
      ],
      "source": [
        "combine_folders('/content/skin-1/train/normal skin',\n",
        "                '/content/CollectedDataV2/Normal Skin')\n"
      ]
    },
    {
      "cell_type": "code",
      "execution_count": null,
      "metadata": {
        "colab": {
          "base_uri": "https://localhost:8080/"
        },
        "id": "rm9G6BBtNm2k",
        "outputId": "89cad92b-26a6-4e44-b97d-667b9e6d2f72"
      },
      "outputs": [
        {
          "name": "stdout",
          "output_type": "stream",
          "text": [
            "len src_dir1 : 6\n",
            "len src_dir2 : 267\n"
          ]
        }
      ],
      "source": [
        "combine_folders('/content/skin-1/valid/normal skin'\n",
        ",'/content/skin-1/train/normal skin')"
      ]
    },
    {
      "cell_type": "code",
      "execution_count": null,
      "metadata": {
        "id": "X9-mBwUjQe0I",
        "colab": {
          "base_uri": "https://localhost:8080/"
        },
        "outputId": "e5dc86c6-b2c8-4d13-f205-fdc5a3fdbb83"
      },
      "outputs": [
        {
          "output_type": "stream",
          "name": "stdout",
          "text": [
            "len src_dir1 : 1068\n",
            "len src_dir2 : 1461\n"
          ]
        }
      ],
      "source": [
        "combine_folders('/content/drive/MyDrive/CollectedDataV2/Chronic Eczema'\n",
        ",'/content/drive/MyDrive/CollectedDataV2/Eczema Photos')"
      ]
    },
    {
      "cell_type": "code",
      "source": [
        "shutil.rmtree('/content/drive/MyDrive/CollectedDataV2/Psoriasis pictures Lichen Dermatosis and related diseases')"
      ],
      "metadata": {
        "id": "V8zs0XsICPvZ"
      },
      "execution_count": null,
      "outputs": []
    },
    {
      "cell_type": "code",
      "execution_count": null,
      "metadata": {
        "colab": {
          "base_uri": "https://localhost:8080/"
        },
        "id": "rQs5vTTgmK5_",
        "outputId": "d87b5a65-ebfe-4872-86cc-3f8d018e6401"
      },
      "outputs": [
        {
          "name": "stdout",
          "output_type": "stream",
          "text": [
            "skin acne                                                    290\n",
            "Chronic Eczema                                               1068\n",
            "Normal Skin                                                  1827\n",
            "Psoriasis pictures Lichen Dermatosis and related diseases    4742\n",
            "Psoriasis                                                    458\n",
            "Rosacea                                                      69\n",
            "Eczema Photos                                                1461\n",
            "Hair Loss Photos Alopecia and other Hair Diseases            252\n",
            "PSORIASIS                                                    1752\n",
            "Acne and Rosacea Photos                                      1134\n"
          ]
        }
      ],
      "source": [
        "dir='/content/drive/MyDrive/CollectedDataV2'\n",
        "for i in os.listdir(dir):\n",
        "  print(i.ljust(60), len(os.listdir(dir+'/'+i)))"
      ]
    },
    {
      "cell_type": "code",
      "execution_count": null,
      "metadata": {
        "id": "W-x5BW-ZvFXX"
      },
      "outputs": [],
      "source": [
        "move_files('/content/drive/MyDrive/CollectedDataV2/PSORIASIS',\n",
        "           '/content/drive/MyDrive/CollectData/test/Pspriasis',copy=True)"
      ]
    },
    {
      "cell_type": "code",
      "execution_count": null,
      "metadata": {
        "colab": {
          "base_uri": "https://localhost:8080/"
        },
        "id": "aL-9yWw8oZXI",
        "outputId": "938b462b-31e7-43da-bafe-b8a38124954e"
      },
      "outputs": [
        {
          "name": "stdout",
          "output_type": "stream",
          "text": [
            "Psoriasis                                                    18\n",
            "skin acne                                                    11\n",
            "rosacea200                                                   0\n",
            "eczema                                                       1461\n",
            "normal skin                                                  31\n",
            ".ipynb_checkpoints                                           0\n"
          ]
        }
      ],
      "source": [
        "dir='/content/drive/MyDrive/CollectData/test'\n",
        "for i in os.listdir(dir):\n",
        "  print(i.ljust(60), len(os.listdir(dir+'/'+i)))"
      ]
    }
  ],
  "metadata": {
    "colab": {
      "provenance": [],
      "gpuType": "T4"
    },
    "kernelspec": {
      "display_name": "Python 3",
      "name": "python3"
    },
    "language_info": {
      "name": "python"
    },
    "accelerator": "GPU"
  },
  "nbformat": 4,
  "nbformat_minor": 0
}