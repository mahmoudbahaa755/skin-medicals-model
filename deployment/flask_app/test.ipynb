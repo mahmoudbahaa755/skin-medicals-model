{
 "cells": [
  {
   "cell_type": "code",
   "execution_count": 4,
   "metadata": {},
   "outputs": [],
   "source": [
    "\n",
    "\n",
    "ROSACEA_MODEL = r\"D:\\Projects\\Python Devolpment\\Data field\\python\\data scintict\\medicals-models\\_models\\rosacea.pt\"\n",
    "MOST_MEDICAL_MODELS = r\"D:\\Projects\\Python Devolpment\\Data field\\python\\data scintict\\medicals-models\\_models\\4medical_X.pt\"\n",
    "\n",
    "\n",
    "def yolo_predection(img):\n",
    "    # results = model.predict(source=img,save_crop=True,device='gpu')\n",
    "    model = YOLO(MOST_MEDICAL_MODELS)\n",
    "\n",
    "    results = model.predict(\n",
    "        source=img, \n",
    "        save_crop=True,\n",
    "        save_txt=True, \n",
    "        device=\"cpu\", \n",
    "    )\n",
    "\n",
    "    return results ,model\n",
    "\n",
    "\n",
    " "
   ]
  },
  {
   "cell_type": "code",
   "execution_count": null,
   "metadata": {},
   "outputs": [],
   "source": [
    "results[0].boxes"
   ]
  },
  {
   "cell_type": "code",
   "execution_count": 5,
   "metadata": {},
   "outputs": [],
   "source": [
    "from concurrent.futures import ThreadPoolExecutor\n",
    "from ultralytics import YOLO"
   ]
  },
  {
   "cell_type": "code",
   "execution_count": 25,
   "metadata": {},
   "outputs": [],
   "source": [
    "\n",
    "import numpy as np\n",
    "\n",
    "import cv2\n",
    "from concurrent.futures import ThreadPoolExecutor\n",
    "import tensorflow as tf\n",
    "\n",
    "\n",
    "\n",
    "MOST_MEDICAL_MODELS = r'D:\\Projects\\Python Devolpment\\Data field\\python\\data scintict\\medicals-models\\_models\\yolo_4_midecal.pt'\n",
    "ACNE_MODEL = r\"D:\\Projects\\Python Devolpment\\Data field\\python\\data scintict\\medicals-models\\_models\\ance3Classes.h5\"\n",
    "ECZEMA_MODEL = r'D:\\Projects\\Python Devolpment\\Data field\\python\\data scintict\\medicals-models\\_models\\eczemaH5v2.h5'\n",
    "HEALTHY_SKIN_MODEL = r'D:\\Projects\\Python Devolpment\\Data field\\python\\data scintict\\medicals-models\\_models\\HealthySkin.h5'\n",
    "ROSACEA_MODEL = r\"D:\\Projects\\Python Devolpment\\Data field\\python\\data scintict\\medicals-models\\_models\\rosacea200.h5\"\n",
    "PSORIASIS_MODEL = r'D:\\Projects\\Python Devolpment\\Data field\\python\\data scintict\\medicals-models\\_models\\psoriasis.h5'\n",
    "psoriasis_rosacea_MODEL = r'D:\\Projects\\Python Devolpment\\Data field\\python\\data scintict\\medicals-models\\_models\\psoriasis_rosacea.h5'\n",
    "MODELS = {\n",
    "    'rosacea': {\n",
    "        'path': ROSACEA_MODEL,\n",
    "        'type': 'h5',\n",
    "        'classes': ['rosacea']\n",
    "    },\n",
    "    'acne': {\n",
    "        'path': ACNE_MODEL,\n",
    "        'type': 'h5',\n",
    "        'classes': ['normal skin', 'skin acne', 'skin psoriasis']\n",
    "    },\n",
    "    'eczemaH5': {\n",
    "        'path': ECZEMA_MODEL,\n",
    "        'type': 'h5',\n",
    "        'classes': ['Asteatotic Eczema', 'Chronic Eczema', 'Hand Eczema', 'Nummular Eczema', 'Subacute Eczema']\n",
    "    },\n",
    "    'HealthySkin': {\n",
    "        'path': HEALTHY_SKIN_MODEL,\n",
    "        'type': 'h5',\n",
    "        'classes': ['Healthy-skin', 'Measles', 'Rubella']\n",
    "    },\n",
    "    'psoriasis': {\n",
    "        'path': PSORIASIS_MODEL,\n",
    "        'type': 'h5',\n",
    "        'classes': ['Healthy-skin', 'Measles', 'Rubella']\n",
    "    },\n",
    "    'psoriasis_rosacea_MODEL': {\n",
    "        'path': psoriasis_rosacea_MODEL,\n",
    "        'type': 'h5',\n",
    "        'classes': ['normal', 'psoriasis', 'rosacea']\n",
    "    }\n",
    "}"
   ]
  },
  {
   "cell_type": "code",
   "execution_count": 13,
   "metadata": {},
   "outputs": [],
   "source": [
    "\n",
    "def load_trained_model(model_dir):\n",
    "  '''\n",
    "  this function take the model dir load it then from it know the input and the output shape\n",
    "  Args\n",
    "    model_dir => path of the model\n",
    "  Return\n",
    "    model, input_shape,classes in list(take len of it)\n",
    "\n",
    "  '''\n",
    "\n",
    "  model = tf.keras.models.load_model(model_dir)\n",
    "  # return model\n",
    "  # new edit\n",
    "  input_shape = list(model.layers[0].input_shape[0])\n",
    "  output_len = list(range(0, model.layers[-1].output.shape[1]))\n",
    "  input_shape=input_shape[1:-1 ]\n",
    "  return model, input_shape[::-1], output_len # input_shape[1:-1]\n",
    "\n",
    "def classifier(img,model,shape)-> int:\n",
    "    ''''''\n",
    "    if img is None:\n",
    "        raise ValueError(\"Image should not be None\")\n",
    "\n",
    "    # img=cv2.imread(img)\n",
    "    \n",
    "    img=cv2.resize(img,dsize=shape)\n",
    "    # img_rgb=cv2.cvtColor(img,cv2.COLOR_BGR2RGB)\n",
    "   \n",
    "    img=np.expand_dims(img,axis=0)\n",
    "    pred=model.predict(img,verbose=0)\n",
    "    idx=np.argmax(pred)\n",
    "    print('model output: ',pred)\n",
    "\n",
    "    # values={k:i for i,k in train_batches.class_indices.items()}\n",
    "    # print(values[idx])\n",
    "    return idx,pred\n",
    "\n",
    "\n",
    "\n",
    "\n",
    "def process_model(model,img):\n",
    "\n",
    "    # if MODELS[model]['type'] == 'yolo':\n",
    "    #     return None\n",
    "    #     conf, c = yolo_prediction(img, MODELS[model]['path'])\n",
    "    #     return model, {'conf': conf, 'classes': c}\n",
    "    if MODELS[model]['type'] == 'h5':\n",
    "        \n",
    "        model_obj, shape, _ = load_trained_model(MODELS[model]['path'])\n",
    "        print('model: ', model)\n",
    "        idx, pred = classifier(img, model_obj, shape)\n",
    "        print('pred:', pred)\n",
    "        print('idx:', idx)\n",
    "        print('__'*50)\n",
    "       \n",
    "        return model, {'conf': pred, \n",
    "                       'classes': MODELS[model]['classes'],\n",
    "                       'class_int': int(idx)}\n",
    "\n",
    "\n",
    "\n",
    "def predict_class(img): \n",
    "\n",
    "    results = {}\n",
    "    with concurrent.futures.ThreadPoolExecutor() as executor:\n",
    "        future_to_model = {executor.submit(process_model, model,img): model for model in MODELS}\n",
    "        for future in concurrent.futures.as_completed(future_to_model):\n",
    "            model = future_to_model[future]\n",
    "            try:\n",
    "                model_name, result = future.result()\n",
    "                results[model_name] = result\n",
    "            except Exception as exc:\n",
    "                print(f'{model} generated an exception: {exc}')\n",
    "    print('__'*50)\n",
    " \n",
    "    return results\n",
    "    \n",
    "\n",
    "    # Find the model with the highest confidence\n",
    "    # best_model = max(results, key=results.get)\n",
    "    # return f'{best_model} found with confidence {results[best_model]}'\n"
   ]
  },
  {
   "cell_type": "code",
   "execution_count": 14,
   "metadata": {},
   "outputs": [],
   "source": [
    "import matplotlib.pyplot as plt\n",
    "import concurrent.futures"
   ]
  },
  {
   "cell_type": "code",
   "execution_count": 26,
   "metadata": {},
   "outputs": [
    {
     "name": "stdout",
     "output_type": "stream",
     "text": [
      "model:  psoriasis_rosacea_MODEL\n",
      "WARNING:tensorflow:Error in loading the saved optimizer state. As a result, your model is starting with a freshly initialized optimizer.\n",
      "model:  eczemaH5\n",
      "model:  rosacea\n",
      "model output:  [[    0.99989  2.4762e-05  8.7852e-05]]\n",
      "pred: [[    0.99989  2.4762e-05  8.7852e-05]]\n",
      "idx: 0\n",
      "____________________________________________________________________________________________________\n",
      "model:  HealthySkin\n",
      "model output:  [[ 0.00042066     0.50015  0.00071673     0.11345     0.38526]]\n",
      "pred: [[ 0.00042066     0.50015  0.00071673     0.11345     0.38526]]\n",
      "idx: 1\n",
      "____________________________________________________________________________________________________\n",
      "model output:  [[          1]]\n",
      "pred: [[          1]]\n",
      "idx: 0\n",
      "____________________________________________________________________________________________________\n",
      "model:  acne\n",
      "model output:  [[    0.99997  3.1582e-05  6.6457e-09]]\n",
      "pred: [[    0.99997  3.1582e-05  6.6457e-09]]\n",
      "idx: 0\n",
      "____________________________________________________________________________________________________\n",
      "model:  psoriasis\n",
      "model output:  [[  0.0039802   5.161e-06     0.99601]]\n",
      "pred: [[  0.0039802   5.161e-06     0.99601]]\n",
      "idx: 2\n",
      "____________________________________________________________________________________________________\n",
      "model output:  [[          1  3.1155e-06]]\n",
      "pred: [[          1  3.1155e-06]]\n",
      "idx: 0\n",
      "____________________________________________________________________________________________________\n",
      "____________________________________________________________________________________________________\n"
     ]
    }
   ],
   "source": [
    "img = plt.imread('../../test_img/12.jpg')\n",
    "x=predict_class(img)\n",
    "\n"
   ]
  },
  {
   "cell_type": "code",
   "execution_count": 23,
   "metadata": {},
   "outputs": [
    {
     "name": "stdout",
     "output_type": "stream",
     "text": [
      "Best model: psoriasis, Class: Healthy-skin\n"
     ]
    },
    {
     "data": {
      "text/plain": [
       "('psoriasis', 'Healthy-skin')"
      ]
     },
     "execution_count": 23,
     "metadata": {},
     "output_type": "execute_result"
    }
   ],
   "source": [
    "def get_best_model(results):\n",
    "    best_model = None\n",
    "    best_confidence = -1\n",
    "    best_class = None\n",
    "\n",
    "    for model, result in results.items():\n",
    "        max_acc = result['conf'].max()\n",
    "        if max_acc > best_confidence and max_acc != 1:\n",
    "            best_model = model\n",
    "            best_confidence = max_acc\n",
    "            best_class = result['classes'][result['conf'].argmax()]\n",
    "\n",
    "    return best_model, best_class\n",
    "\n",
    "\n",
    "best_model, best_class = get_best_model(x)\n",
    "print(f'Best model: {best_model}, Class: {best_class}')\n",
    "\n",
    "get_best_model(x)"
   ]
  },
  {
   "cell_type": "code",
   "execution_count": 27,
   "metadata": {},
   "outputs": [
    {
     "name": "stdout",
     "output_type": "stream",
     "text": [
      "{'HealthySkin': {'class_int': 0,\n",
      "                 'classes': ['Healthy-skin', 'Measles', 'Rubella'],\n",
      "                 'conf': array([[    0.99997,  3.1582e-05,  6.6457e-09]], dtype=float32)},\n",
      " 'acne': {'class_int': 2,\n",
      "          'classes': ['normal skin', 'skin acne', 'skin psoriasis'],\n",
      "          'conf': array([[  0.0039802,   5.161e-06,     0.99601]], dtype=float32)},\n",
      " 'eczemaH5': {'class_int': 1,\n",
      "              'classes': ['Asteatotic Eczema',\n",
      "                          'Chronic Eczema',\n",
      "                          'Hand Eczema',\n",
      "                          'Nummular Eczema',\n",
      "                          'Subacute Eczema'],\n",
      "              'conf': array([[ 0.00042066,     0.50015,  0.00071673,     0.11345,     0.38526]], dtype=float32)},\n",
      " 'psoriasis': {'class_int': 0,\n",
      "               'classes': ['Healthy-skin', 'Measles', 'Rubella'],\n",
      "               'conf': array([[          1,  3.1155e-06]], dtype=float32)},\n",
      " 'psoriasis_rosacea_MODEL': {'class_int': 0,\n",
      "                             'classes': ['psoriasis', 'rosacea', 'normal'],\n",
      "                             'conf': array([[    0.99989,  2.4762e-05,  8.7852e-05]], dtype=float32)},\n",
      " 'rosacea': {'class_int': 0,\n",
      "             'classes': ['rosacea'],\n",
      "             'conf': array([[          1]], dtype=float32)}}\n"
     ]
    }
   ],
   "source": [
    "import pprint\n",
    "pprint.pprint(x)\n",
    "\n"
   ]
  },
  {
   "cell_type": "code",
   "execution_count": 31,
   "metadata": {},
   "outputs": [
    {
     "data": {
      "text/plain": [
       "['normal', 'psoriasis', 'rosacea']"
      ]
     },
     "execution_count": 31,
     "metadata": {},
     "output_type": "execute_result"
    }
   ],
   "source": [
    "a=sorted(['psoriasis', 'rosacea', 'normal'])\n",
    "a"
   ]
  },
  {
   "cell_type": "code",
   "execution_count": 17,
   "metadata": {},
   "outputs": [
    {
     "data": {
      "text/plain": [
       "{'conf': array([[          1,  3.1155e-06]], dtype=float32),\n",
       " 'classes': ['Healthy-skin', 'Measles', 'Rubella'],\n",
       " 'class_int': 0}"
      ]
     },
     "execution_count": 17,
     "metadata": {},
     "output_type": "execute_result"
    }
   ],
   "source": [
    "\n",
    "x['psoriasis']"
   ]
  },
  {
   "cell_type": "code",
   "execution_count": 19,
   "metadata": {},
   "outputs": [
    {
     "name": "stdout",
     "output_type": "stream",
     "text": [
      "{'conf': array([[    0.99997,  3.1582e-05,  6.6457e-09]], dtype=float32), 'classes': ['Healthy-skin', 'Measles', 'Rubella'], 'class_int': 0}\n",
      "{'conf': array([[          1]], dtype=float32), 'classes': ['rosacea'], 'class_int': 0}\n",
      "{'conf': array([[          1,  3.1155e-06]], dtype=float32), 'classes': ['Healthy-skin', 'Measles', 'Rubella'], 'class_int': 0}\n",
      "{'conf': array([[  0.0039802,   5.161e-06,     0.99601]], dtype=float32), 'classes': ['normal skin', 'skin acne', 'skin psoriasis'], 'class_int': 2}\n",
      "{'conf': array([[ 0.00042066,     0.50015,  0.00071673,     0.11345,     0.38526]], dtype=float32), 'classes': ['Asteatotic Eczema', 'Chronic Eczema', 'Hand Eczema', 'Nummular Eczema', 'Subacute Eczema'], 'class_int': 1}\n"
     ]
    }
   ],
   "source": [
    "for model in x:\n",
    "    print(x[model])"
   ]
  }
 ],
 "metadata": {
  "kernelspec": {
   "display_name": "Python 3",
   "language": "python",
   "name": "python3"
  },
  "language_info": {
   "codemirror_mode": {
    "name": "ipython",
    "version": 3
   },
   "file_extension": ".py",
   "mimetype": "text/x-python",
   "name": "python",
   "nbconvert_exporter": "python",
   "pygments_lexer": "ipython3",
   "version": "3.11.5"
  }
 },
 "nbformat": 4,
 "nbformat_minor": 2
}
