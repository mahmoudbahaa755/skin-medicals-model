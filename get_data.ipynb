{
 "cells": [
  {
   "cell_type": "code",
   "execution_count": null,
   "metadata": {},
   "outputs": [],
   "source": [
    "!pip  install roboflow ultralytics\n",
    " "
   ]
  },
  {
   "cell_type": "code",
   "execution_count": 1,
   "metadata": {},
   "outputs": [
    {
     "name": "stdout",
     "output_type": "stream",
     "text": [
      "loading Roboflow workspace...\n",
      "loading Roboflow project...\n"
     ]
    },
    {
     "name": "stderr",
     "output_type": "stream",
     "text": [
      "Downloading Dataset Version Zip in Acne-Severity-Classification-1 to folder:: 100%|██████████| 35930/35930 [00:48<00:00, 737.86it/s] "
     ]
    },
    {
     "name": "stdout",
     "output_type": "stream",
     "text": [
      "\n"
     ]
    },
    {
     "name": "stderr",
     "output_type": "stream",
     "text": [
      "\n",
      "Extracting Dataset Version Zip to Acne-Severity-Classification-1 in folder:: 100%|██████████| 496/496 [00:00<00:00, 664.20it/s]\n"
     ]
    }
   ],
   "source": [
    " \n",
    "\n",
    "from roboflow import Roboflow\n",
    "rf = Roboflow(api_key=\"aSWzkjnYOEuQEAEEW8D9\")\n",
    "project = rf.workspace(\"taschenbier\").project(\"acne-severity-classification\")\n",
    "dataset = project.version(1).download(\"folder\")\n"
   ]
  },
  {
   "cell_type": "code",
   "execution_count": 51,
   "metadata": {},
   "outputs": [
    {
     "name": "stdout",
     "output_type": "stream",
     "text": [
      "loading Roboflow workspace...\n",
      "loading Roboflow project...\n",
      "Dependency ultralytics==8.0.196 is required but found version=8.0.208, to fix: `pip install ultralytics==8.0.196`\n"
     ]
    },
    {
     "name": "stderr",
     "output_type": "stream",
     "text": [
      "Downloading Dataset Version Zip in Skin-Disease-Detection-1 to yolov8:: 100%|██████████| 70166/70166 [01:36<00:00, 724.31it/s] "
     ]
    },
    {
     "name": "stdout",
     "output_type": "stream",
     "text": [
      "\n"
     ]
    },
    {
     "name": "stderr",
     "output_type": "stream",
     "text": [
      "\n",
      "Extracting Dataset Version Zip to Skin-Disease-Detection-1 in yolov8:: 100%|██████████| 6990/6990 [00:07<00:00, 934.31it/s] \n"
     ]
    }
   ],
   "source": [
    "from roboflow import Roboflow\n",
    "def download_dataset(workspace, project_name, version, format, api_key=\"aSWzkjnYOEuQEAEEW8D9\"):\n",
    "    rf = Roboflow(api_key=api_key)\n",
    "    project = rf.workspace(workspace).project(project_name)\n",
    "    dataset = project.version(version).download(format)\n",
    "    return dataset\n",
    "\n",
    "# Use the function to download datasets\n",
    "dataset1 = download_dataset(\"skin-disease\", \"skin-disease-detection-vecgj\", 1, \"yolov8\")\n",
    "# dataset2 = download_dataset(\"mini-project-g4im3\", \"eczema-disease-classification-using-efficientnet-architecture\", 5, \"folder\")\n",
    "# dataset3 = download_dataset(\"andrew-white-gl40t\", \"rash-badkf\", 12, \"yolov8\")"
   ]
  },
  {
   "cell_type": "code",
   "execution_count": null,
   "metadata": {},
   "outputs": [],
   "source": [
    "# hair_dataset= download_dataset('project-akqj3', 'top-of-the-head', 1, 'yolov8')\n",
    "# rf = Roboflow(api_key=\"aSWzkjnYOEuQEAEEW8D9\")\n",
    "# project = rf.workspace(\"project-akqj3\").project(\"top-of-the-head\")\n",
    "# dataset = project.version(1).download(\"yolov8\")\n"
   ]
  },
  {
   "cell_type": "code",
   "execution_count": 40,
   "metadata": {},
   "outputs": [
    {
     "name": "stdout",
     "output_type": "stream",
     "text": [
      "loading Roboflow workspace...\n",
      "loading Roboflow project...\n",
      "Dependency ultralytics==8.0.196 is required but found version=8.0.208, to fix: `pip install ultralytics==8.0.196`\n"
     ]
    },
    {
     "name": "stderr",
     "output_type": "stream",
     "text": [
      "Downloading Dataset Version Zip in Skin-Disease-Detection-1 to yolov8:: 100%|██████████| 70166/70166 [01:45<00:00, 662.62it/s] "
     ]
    },
    {
     "name": "stdout",
     "output_type": "stream",
     "text": [
      "\n"
     ]
    },
    {
     "name": "stderr",
     "output_type": "stream",
     "text": [
      "\n",
      "Extracting Dataset Version Zip to Skin-Disease-Detection-1 in yolov8:: 100%|██████████| 6990/6990 [00:09<00:00, 767.43it/s] \n"
     ]
    }
   ],
   "source": [
    "def download_dataset(workspace, project_name, version, format, api_key=\"aSWzkjnYOEuQEAEEW8D9\"):\n",
    "    rf = Roboflow(api_key=api_key)\n",
    "    project = rf.workspace(workspace).project(project_name)\n",
    "    dataset = project.version(version).download(format)\n",
    "    return dataset\n",
    "\n",
    "# Use the function to download datasets\n",
    "dataset1 = download_dataset(\"skin-disease\", \"skin-disease-detection-vecgj\", 1, \"yolov8\")\n",
    "# dataset2 = download_dataset(\"mini-project-g4im3\", \"eczema-disease-classification-using-efficientnet-architecture\", 5, \"folder\")\n",
    "# dataset3 = download_dataset(\"andrew-white-gl40t\", \"rash-badkf\", 12, \"yolov8\")"
   ]
  },
  {
   "cell_type": "code",
   "execution_count": 41,
   "metadata": {},
   "outputs": [
    {
     "data": {
      "text/plain": [
       "<roboflow.core.dataset.Dataset at 0x1cfa20f9810>"
      ]
     },
     "execution_count": 41,
     "metadata": {},
     "output_type": "execute_result"
    }
   ],
   "source": [
    "dataset1"
   ]
  },
  {
   "cell_type": "code",
   "execution_count": 3,
   "metadata": {},
   "outputs": [],
   "source": [
    "import os\n",
    "def remove_unselected_classes(label_dir, img_dir, selected_classes):\n",
    "    removed_classes_count = [i for i in range(max(selected_classes) + 1) if i not in selected_classes]\n",
    "    for label_file in os.listdir(label_dir):\n",
    "        with open(os.path.join(label_dir, label_file), 'r') as file:\n",
    "            lines = file.readlines()\n",
    "        # Check if any of the selected classes are present in the label file\n",
    "        if not any(str(c) in line.split()[0] for line in lines for c in selected_classes):\n",
    "            # If not, delete the label file and the corresponding image file\n",
    "            os.remove(os.path.join(label_dir, label_file))\n",
    "            img_file = label_file.rsplit('.', 1)[0] + '.jpg'  # Replace with your image file extension\n",
    "            os.remove(os.path.join(img_dir, img_file))\n",
    "            # Increment the count for each removed class\n",
    "            for line in lines:\n",
    "                class_id = line.split()[0]\n",
    "                if class_id in removed_classes_count:\n",
    "                    removed_classes_count[class_id] += 1\n",
    "    return removed_classes_count\n"
   ]
  },
  {
   "cell_type": "code",
   "execution_count": null,
   "metadata": {},
   "outputs": [],
   "source": [
    "len(os.listdir(label_dir))"
   ]
  },
  {
   "cell_type": "code",
   "execution_count": 15,
   "metadata": {},
   "outputs": [],
   "source": [
    "import os\n",
    "\n",
    "def remove_files_with_classes_in_name(dir, classes_to_remove):\n",
    "    removed_counts = {class_name: 0 for class_name in classes_to_remove}\n",
    "    for file in os.listdir(dir):\n",
    "        # Check if the class to remove is in the filename\n",
    "        for class_name in classes_to_remove:\n",
    "            if class_name in file:\n",
    "                # If it is, delete the image file and increment the count for the class\n",
    "                os.remove(os.path.join(dir, file))\n",
    "                removed_counts[class_name] += 1\n",
    "                break  # Break the loop once a file is removed\n",
    "    return removed_counts"
   ]
  },
  {
   "cell_type": "markdown",
   "metadata": {},
   "source": [
    "### cleaning data"
   ]
  },
  {
   "cell_type": "code",
   "execution_count": 42,
   "metadata": {},
   "outputs": [
    {
     "name": "stdout",
     "output_type": "stream",
     "text": [
      "{'Leprosy': 6, 'Warts': 0, 'Ringworm': 0, 'Chicken': 1}\n",
      "{'Leprosy': 120, 'Warts': 6, 'Ringworm': 33, 'Chicken': 3}\n",
      "{'Leprosy': 4, 'Warts': 1, 'Ringworm': 0, 'Chicken': 2}\n",
      "{'Leprosy': 6, 'Warts': 0, 'Ringworm': 0, 'Chicken': 1}\n",
      "{'Leprosy': 120, 'Warts': 6, 'Ringworm': 33, 'Chicken': 3}\n",
      "{'Leprosy': 4, 'Warts': 1, 'Ringworm': 0, 'Chicken': 2}\n"
     ]
    }
   ],
   "source": [
    "data_dir = [\n",
    "    r\"Skin-Disease-Detection-1\\test\\labels\",\n",
    "    r\"Skin-Disease-Detection-1\\train\\labels\",\n",
    "    r\"Skin-Disease-Detection-1\\valid\\labels\",\n",
    "    r'Skin-Disease-Detection-1\\test\\images',\n",
    "    r'Skin-Disease-Detection-1\\train\\images',\n",
    "    r'Skin-Disease-Detection-1\\valid\\images'\n",
    "]\n",
    "classes_to_remove = ['Leprosy','Warts','Ringworm','Chicken']\n",
    "for dir in data_dir:\n",
    "    removed=remove_files_with_classes_in_name(dir, classes_to_remove)\n",
    "    print(removed)"
   ]
  },
  {
   "cell_type": "code",
   "execution_count": null,
   "metadata": {},
   "outputs": [],
   "source": [
    "\n",
    "def remove_files(directory,img_dir, removing_list):\n",
    "    for filename in os.listdir(directory):\n",
    "        if filename.endswith(\".txt\"):\n",
    "            with open(os.path.join(directory, filename), 'r') as f:\n",
    "                lines = f.readlines()\n",
    "                for line in lines:\n",
    "                    first_number = int(line.strip().split()[0])\n",
    "                    if first_number in removing_list:\n",
    "                        os.remove(os.path.join(directory, filename))  # remove txt file\n",
    "                        os.remove(os.path.join(img_dir, filename.replace('.txt', '.jpg')))\n",
    "                        break  # no need to check the rest of the lines\n",
    "data_dir = [\n",
    "    r\"Skin-Disease-Detection-1\\test\\labels\",\n",
    "    r\"Skin-Disease-Detection-1\\train\\labels\",\n",
    "    r\"Skin-Disease-Detection-1\\valid\\labels\",\n",
    "    r'Skin-Disease-Detection-1\\test\\images',\n",
    "    r'Skin-Disease-Detection-1\\train\\images',\n",
    "    r'Skin-Disease-Detection-1\\valid\\images'\n",
    "]\n",
    "directory =  r\"Skin-Disease-Detection-1\\test\\labels\",\n",
    "img_label= r\"Skin-Disease-Detection-1\\test\\images\",\n",
    "removing_list = [1, 4, 6,7]\n",
    "remove_files(directory,img_label, removing_list)"
   ]
  },
  {
   "cell_type": "code",
   "execution_count": 54,
   "metadata": {},
   "outputs": [],
   "source": [
    "def remove_files(directories, img_directories, removing_list, img_extension=\".jpg\"):\n",
    "    for directory, img_directory in zip(directories, img_directories):\n",
    "        for filename in os.listdir(directory):\n",
    "            if filename.endswith(\".txt\"):\n",
    "                with open(os.path.join(directory, filename), 'r') as f:\n",
    "                    lines = f.readlines()\n",
    "                for line in lines:\n",
    "                    first_number = int(line.strip().split()[0])\n",
    "                    if first_number in removing_list:\n",
    "                        os.remove(os.path.join(directory, filename))  # remove txt file\n",
    "                        img_filename = filename.replace(\".txt\", img_extension)\n",
    "                        os.remove(os.path.join(img_directory, img_filename))  # remove image file\n",
    "                        break # no need to check the rest of the lines\n",
    "\n",
    "directories = [\n",
    "    r\"Skin-Disease-Detection-1\\test\\labels\",\n",
    "    r\"Skin-Disease-Detection-1\\train\\labels\",\n",
    "    r\"Skin-Disease-Detection-1\\valid\\labels\"\n",
    "]\n",
    "img_directories = [\n",
    "    r'Skin-Disease-Detection-1\\test\\images',\n",
    "    r'Skin-Disease-Detection-1\\train\\images',\n",
    "    r'Skin-Disease-Detection-1\\valid\\images'\n",
    "]\n",
    "removing_list = [1, 4, 6, 7]\n",
    "remove_files(directories, img_directories, removing_list)"
   ]
  },
  {
   "cell_type": "code",
   "execution_count": 56,
   "metadata": {},
   "outputs": [
    {
     "name": "stdout",
     "output_type": "stream",
     "text": [
      "0\n"
     ]
    }
   ],
   "source": [
    "def replace_numbers(directories, replace_dict):\n",
    "    counter=0\n",
    "    for directory in directories:\n",
    "        for filename in os.listdir(directory):\n",
    "            if filename.endswith(\".txt\"):\n",
    "                \n",
    "                with open(os.path.join(directory, filename), 'r') as f:\n",
    "                    lines = f.readlines()\n",
    "                with open(os.path.join(directory, filename), 'w') as f:\n",
    "                    for line in lines:\n",
    "                        numbers = line.strip().split()\n",
    "                        first_number = int(numbers[0])\n",
    "                        if first_number in replace_dict:\n",
    "                            counter+=1\n",
    "                            numbers[0] = str(replace_dict[first_number])\n",
    "                        f.write(' '.join(numbers) + '\\n')\n",
    "    print(counter)\n",
    "directories = [\n",
    "    r\"Skin-Disease-Detection-1\\test\\labels\",\n",
    "    r\"Skin-Disease-Detection-1\\train\\labels\",\n",
    "    r\"Skin-Disease-Detection-1\\valid\\labels\"\n",
    "]\n",
    "replace_dict = { 5: 1}\n",
    "replace_numbers(directories, replace_dict)"
   ]
  }
 ],
 "metadata": {
  "kernelspec": {
   "display_name": "Python 3",
   "language": "python",
   "name": "python3"
  },
  "language_info": {
   "codemirror_mode": {
    "name": "ipython",
    "version": 3
   },
   "file_extension": ".py",
   "mimetype": "text/x-python",
   "name": "python",
   "nbconvert_exporter": "python",
   "pygments_lexer": "ipython3",
   "version": "3.11.5"
  }
 },
 "nbformat": 4,
 "nbformat_minor": 2
}
